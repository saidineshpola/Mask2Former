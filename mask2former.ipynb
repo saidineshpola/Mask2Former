{
  "cells": [
    {
      "cell_type": "markdown",
      "metadata": {
        "id": "view-in-github",
        "colab_type": "text"
      },
      "source": [
        "<a href=\"https://colab.research.google.com/github/saidineshpola/Mask2Former/blob/main/mask2former.ipynb\" target=\"_parent\"><img src=\"https://colab.research.google.com/assets/colab-badge.svg\" alt=\"Open In Colab\"/></a>"
      ]
    },
    {
      "cell_type": "markdown",
      "metadata": {
        "id": "57cc_H7z-N0o"
      },
      "source": [
        "# 🍕 Food Recognition Benchmark\n",
        "\n",
        "# Problem Statement\n",
        "Detecting & Segmenting various kinds of food from an image. For ex. Someone got into new restaurent and get a food that he has never seen, well our DL model is in rescue, so our DL model will help indentifying which food it is from the class our model is being trained on!    \n",
        "\n",
        "<img src=\"https://i.imgur.com/zS2Nbf0.png\" width=\"300\" />\n",
        "\n",
        "\n",
        "# Dataset\n",
        "We will be using data from Food Recognition Challenge - A benchmark for image-based food recognition challange which is running since 2020.\n",
        "\n",
        "\n",
        "https://www.aicrowd.com/challenges/food-recognition-benchmark-2022#datasets\n",
        "\n",
        "We have a total of **39k training images** with **3k validation set** and **4k public-testing set**. All the images are RGB and annotations exist in **MS-COCO format**. \n",
        "\n",
        "<img src=\"https://lh5.googleusercontent.com/iySoTCAHFoEKxjvzELzCJKbZaTG2TzMcjuBxAlBVGupjkpE_XI1xNPnE71UIBthTu9_fZ4A1tz-ArABpI0DD2ZeF87qHPccRogEezd-UbhkQgZcQBYCE1HMeDusaKtj8ClCWjw-p\">\n",
        "\n",
        "# Evaluation\n",
        "\n",
        "The evaluation metrics is IOU aka. Intersection Over Union ( more about that later ). \n",
        "\n",
        "The actualy metric is computed by averaging over all the precision and recall values for IOU which greater than 0.5.\n",
        "\n",
        "https://www.aicrowd.com/challenges/food-recognition-challenge#evaluation-criteria\n"
      ]
    },
    {
      "cell_type": "markdown",
      "metadata": {
        "id": "pxiQ8X2MFFhI"
      },
      "source": [
        "# What does this notebook contains?\n",
        "\n",
        "1. Setting our Workspace 💼\n",
        "\n",
        "2. Data Exploration 🧐\n",
        "  - Reading Dataset\n",
        "  - Data Visualisations \n",
        "\n",
        "3. Image Visulisation 🖼️\n",
        "   - Reading Images\n",
        "\n",
        "4. Creating our Dataset 🔨\n",
        "  - Fixing the Dataset\n",
        "  - Creating our dataset\n",
        "\n",
        "5. Creating our Model 🏭\n",
        "   - Creating R-CNN Model\n",
        "   - Setting up hyperparameters\n",
        "   \n",
        "6. Training the Model 🚂\n",
        "  - Setting up Tensorboard\n",
        "  - Start Training!\n",
        "\n",
        "7. Evaluating the model 🧪\n",
        "  - Evaluating our Model\n",
        "\n",
        "8. Testing the Model 💯\n",
        "  - Testing the Model\n",
        "\n",
        "9. Submitting our predictions 📝\n",
        "\n"
      ]
    },
    {
      "cell_type": "markdown",
      "metadata": {
        "id": "AwDa7_wkVQhK"
      },
      "source": [
        "# Setting our Workspace 💼\n",
        "\n",
        "In this section we will be downloading our dataset, unzipping it & downliading detectron2 library and importing all libraries that we will be using"
      ]
    },
    {
      "cell_type": "markdown",
      "metadata": {
        "id": "WrKWgJsdVh7T"
      },
      "source": [
        "## Downloading & Unzipping our Dataset"
      ]
    },
    {
      "cell_type": "code",
      "execution_count": 1,
      "metadata": {
        "id": "_bUc949JVgxE",
        "colab": {
          "base_uri": "https://localhost:8080/"
        },
        "outputId": "d30316d8-ce70-4b19-c7d9-206c7d08cdee"
      },
      "outputs": [
        {
          "output_type": "stream",
          "name": "stdout",
          "text": [
            "\u001b[31mERROR: pip's dependency resolver does not currently take into account all the packages that are installed. This behaviour is the source of the following dependency conflicts.\n",
            "google-colab 1.0.0 requires requests~=2.23.0, but you have requests 2.27.1 which is incompatible.\n",
            "datascience 0.10.6 requires folium==0.2.1, but you have folium 0.8.3 which is incompatible.\u001b[0m\n",
            "\u001b[32mAPI Key valid\u001b[0m\n",
            "\u001b[33mGitlab oauth token invalid or absent.\n",
            "It is highly recommended to simply run `aicrowd login` without passing the API Key.\u001b[0m\n",
            "\u001b[32mSaved details successfully!\u001b[0m\n"
          ]
        }
      ],
      "source": [
        "# Login to AIcrowd\n",
        "!pip install aicrowd-cli > /dev/null\n",
        "#!aicrowd login\n",
        "\n",
        "########## or ################\n",
        "# Get your API key from https://www.aicrowd.com/participants/me\n",
        "API_KEY = \"61a473a8ff6ff34c77e7f9f8544ef7dd\"\n",
        "!aicrowd login --api-key $API_KEY"
      ]
    },
    {
      "cell_type": "code",
      "source": [
        "# List dataset for this challenge\n",
        "!aicrowd dataset list -c food-recognition-benchmark-2022\n",
        "\n",
        "# Download dataset\n",
        "!aicrowd dataset download -c food-recognition-benchmark-2022 4 6 7"
      ],
      "metadata": {
        "colab": {
          "base_uri": "https://localhost:8080/"
        },
        "id": "hCS8MwUHZbwV",
        "outputId": "1e7dd4b9-4a1b-4ca3-955b-c8868f5db265"
      },
      "execution_count": 2,
      "outputs": [
        {
          "output_type": "stream",
          "name": "stdout",
          "text": [
            "\u001b[3m                          Datasets for challenge #962                           \u001b[0m\n",
            "┌───┬───────────────────────────────┬───────────────────────────────┬──────────┐\n",
            "│\u001b[1;35m \u001b[0m\u001b[1;35m#\u001b[0m\u001b[1;35m \u001b[0m│\u001b[1;35m \u001b[0m\u001b[1;35mTitle                        \u001b[0m\u001b[1;35m \u001b[0m│\u001b[1;35m \u001b[0m\u001b[1;35mDescription                  \u001b[0m\u001b[1;35m \u001b[0m│\u001b[1;35m \u001b[0m\u001b[1;35m    Size\u001b[0m\u001b[1;35m \u001b[0m│\n",
            "├───┼───────────────────────────────┼───────────────────────────────┼──────────┤\n",
            "│ 0 │ random_prediction.json        │ Random prediction for Quick   │  4.36 MB │\n",
            "│   │                               │ Submission into Round 2       │          │\n",
            "│ 1 │ [Round 1]                     │ [Public] Testing Dataset      │     197M │\n",
            "│   │ public_test_release_2.0.tar.… │ (contains 3000 images and 498 │          │\n",
            "│   │                               │ categories, without           │          │\n",
            "│   │                               │ annotations)                  │          │\n",
            "│ 2 │ [Round 1]                     │ Training Dataset (contains    │   2.14GB │\n",
            "│   │ public_training_set_release_… │ 39962 images and 498          │          │\n",
            "│   │                               │ categories)                   │          │\n",
            "│ 3 │ [Round 1]                     │ Validation Dataset (contains  │      59M │\n",
            "│   │ public_validation_set_2.0.ta… │ 1000 images and 498           │          │\n",
            "│   │                               │ categories, with annotations) │          │\n",
            "│ 4 │ [Round 2]                     │ [Public] Testing Dataset      │     185M │\n",
            "│   │ public_test_release_2.1.tar.… │ (contains 2819 images,        │          │\n",
            "│   │                               │ without annotations)          │          │\n",
            "│ 5 │ [Round 2]                     │ (optional) annotations file   │ 32.66 MB │\n",
            "│   │ public_training_annotations_… │ for v2.1 dataset in case you  │          │\n",
            "│   │                               │ already have images           │          │\n",
            "│   │                               │ downloaded                    │          │\n",
            "│ 6 │ [Round 2]                     │ Training Dataset (contains    │     3.1G │\n",
            "│   │ public_training_set_release_… │ 54392 images and 323          │          │\n",
            "│   │                               │ categories)                   │          │\n",
            "│ 7 │ [Round 2]                     │ Validation Dataset (contains  │      57M │\n",
            "│   │ public_validation_set_2.1.ta… │ 946 images and 323            │          │\n",
            "│   │                               │ categories, with annotations) │          │\n",
            "└───┴───────────────────────────────┴───────────────────────────────┴──────────┘\n",
            "public_test_release_2.1.tar.gz: 100% 166M/166M [00:27<00:00, 6.06MB/s]\n",
            "public_training_set_release_2.1.tar.gz: 100% 3.12G/3.12G [08:38<00:00, 6.02MB/s]\n",
            "public_validation_set_release_2.1.tar.gz: 100% 55.1M/55.1M [00:12<00:00, 4.53MB/s]\n"
          ]
        }
      ]
    },
    {
      "cell_type": "code",
      "execution_count": 3,
      "metadata": {
        "id": "Yat_fhYLgZkc",
        "colab": {
          "base_uri": "https://localhost:8080/"
        },
        "outputId": "2c637401-8d16-45f5-8e0e-68d26c6324ba"
      },
      "outputs": [
        {
          "output_type": "stream",
          "name": "stdout",
          "text": [
            "Extracting test dataset\n",
            "Extracting val dataset\n",
            "tar: Ignoring unknown extended header keyword 'LIBARCHIVE.xattr.com.apple.quarantine'\n",
            "tar: Ignoring unknown extended header keyword 'LIBARCHIVE.xattr.com.apple.lastuseddate#PS'\n",
            "tar: Ignoring unknown extended header keyword 'LIBARCHIVE.xattr.com.apple.quarantine'\n",
            "tar: Ignoring unknown extended header keyword 'LIBARCHIVE.xattr.com.apple.lastuseddate#PS'\n",
            "Extracting train dataset\n"
          ]
        }
      ],
      "source": [
        "!mkdir -p data/ data/train data/val data/test\n",
        "!echo \"Extracting test dataset\" && tar -xvf public_test_release_2.1.tar.gz -C data/test  > /dev/null\n",
        "!echo \"Extracting val dataset\" && tar -xvf public_validation_set_release_2.1.tar.gz -C data/val  > /dev/null\n",
        "!echo \"Extracting train dataset\" && tar -xvf public_training_set_release_2.1.tar.gz -C data/train  > /dev/null\n",
        "!rm -r *.gz"
      ]
    },
    {
      "cell_type": "markdown",
      "source": [
        "## Mount the Google Drive"
      ],
      "metadata": {
        "id": "ZGQXbjCPV0_g"
      }
    },
    {
      "cell_type": "code",
      "source": [
        "from google.colab import drive\n",
        "drive.mount('/content/drive')"
      ],
      "metadata": {
        "colab": {
          "base_uri": "https://localhost:8080/"
        },
        "id": "8eoHSnDcJ3ql",
        "outputId": "7d1cda9c-9065-4dec-a510-d9ccf6c63ec9"
      },
      "execution_count": 4,
      "outputs": [
        {
          "output_type": "stream",
          "name": "stdout",
          "text": [
            "Mounted at /content/drive\n"
          ]
        }
      ]
    },
    {
      "cell_type": "markdown",
      "metadata": {
        "id": "9pPSEFV4gryz"
      },
      "source": [
        "So, the `data` directory is something like this:\n",
        "\n",
        "<img src=\"https://images.aicrowd.com/uploads/ckeditor/pictures/674/content_carbon__3_.png\" width=\"50%\">"
      ]
    },
    {
      "cell_type": "code",
      "source": [
        "!git clone https://github.com/saidineshpola/Mask2Former.git"
      ],
      "metadata": {
        "colab": {
          "base_uri": "https://localhost:8080/"
        },
        "id": "IJjNOudoH5Vn",
        "outputId": "56685016-854d-4055-93ed-7d9ed17edaff"
      },
      "execution_count": 5,
      "outputs": [
        {
          "output_type": "stream",
          "name": "stdout",
          "text": [
            "Cloning into 'Mask2Former'...\n",
            "remote: Enumerating objects: 323, done.\u001b[K\n",
            "remote: Counting objects: 100% (156/156), done.\u001b[K\n",
            "remote: Compressing objects: 100% (130/130), done.\u001b[K\n",
            "remote: Total 323 (delta 68), reused 86 (delta 26), pack-reused 167\u001b[K\n",
            "Receiving objects: 100% (323/323), 449.46 KiB | 933.00 KiB/s, done.\n",
            "Resolving deltas: 100% (119/119), done.\n"
          ]
        }
      ]
    },
    {
      "cell_type": "markdown",
      "metadata": {
        "id": "n5CR0muClo9k"
      },
      "source": [
        "## Importing Necessary Libraries"
      ]
    },
    {
      "cell_type": "code",
      "execution_count": null,
      "metadata": {
        "id": "7yPa_aQL_14d"
      },
      "outputs": [],
      "source": [
        "# Making sure that we are using GPUs\n",
        "!nvcc --version"
      ]
    },
    {
      "cell_type": "code",
      "source": [
        "#!pip install -U torch==1.9.0+cu111 torchvision==0.10.0+cu111 -f https://download.pytorch.org/whl/torch_stable.html\n",
        "!pip install cython pyyaml==5.1\n",
        "!pip install -U pycocotools\n",
        "\n",
        "import torch\n",
        "TORCH_VERSION = \".\".join(torch.__version__.split(\".\")[:2])\n",
        "CUDA_VERSION = torch.__version__.split(\"+\")[-1]\n",
        "print(\"torch: \", TORCH_VERSION, \"; cuda: \", CUDA_VERSION)\n",
        "# Install detectron2 that matches the above pytorch version\n",
        "# See https://detectron2.readthedocs.io/tutorials/install.html for instructions\n",
        "!pip install detectron2 -f https://dl.fbaipublicfiles.com/detectron2/wheels/$CUDA_VERSION/torch$TORCH_VERSION/index.html\n",
        "# If there is not yet a detectron2 release that matches the given torch + CUDA version, you need to install a different pytorch.\n",
        "########don't forget to restart the runtime "
      ],
      "metadata": {
        "id": "zylqtEL_ygVK"
      },
      "execution_count": null,
      "outputs": []
    },
    {
      "cell_type": "code",
      "source": [
        "\n",
        "!pip install detectron2 -f https://dl.fbaipublicfiles.com/detectron2/wheels/$CUDA_VERSION/torch$TORCH_VERSION/index.html\n",
        "# If there is not yet a detectron2 release that matches the given torch + CUDA version, you need to install a different pytorch.\n",
        "########don't forget to restart the runtime "
      ],
      "metadata": {
        "id": "Y4o-ij2SJi48"
      },
      "execution_count": null,
      "outputs": []
    },
    {
      "cell_type": "code",
      "execution_count": 1,
      "metadata": {
        "id": "fHOXIyRql2-l",
        "colab": {
          "base_uri": "https://localhost:8080/",
          "height": 539
        },
        "outputId": "f58b5ded-6109-48c5-cf55-b35b80182d70"
      },
      "outputs": [
        {
          "output_type": "error",
          "ename": "ImportError",
          "evalue": "ignored",
          "traceback": [
            "\u001b[0;31m---------------------------------------------------------------------------\u001b[0m",
            "\u001b[0;31mImportError\u001b[0m                               Traceback (most recent call last)",
            "\u001b[0;32m<ipython-input-1-5c820dfd9c94>\u001b[0m in \u001b[0;36m<module>\u001b[0;34m()\u001b[0m\n\u001b[1;32m     18\u001b[0m \u001b[0;34m\u001b[0m\u001b[0m\n\u001b[1;32m     19\u001b[0m \u001b[0;31m# import some common detectron2 utilities\u001b[0m\u001b[0;34m\u001b[0m\u001b[0;34m\u001b[0m\u001b[0;34m\u001b[0m\u001b[0m\n\u001b[0;32m---> 20\u001b[0;31m \u001b[0;32mfrom\u001b[0m \u001b[0mdetectron2\u001b[0m \u001b[0;32mimport\u001b[0m \u001b[0mmodel_zoo\u001b[0m\u001b[0;34m\u001b[0m\u001b[0;34m\u001b[0m\u001b[0m\n\u001b[0m\u001b[1;32m     21\u001b[0m \u001b[0;32mfrom\u001b[0m \u001b[0mdetectron2\u001b[0m\u001b[0;34m.\u001b[0m\u001b[0mengine\u001b[0m \u001b[0;32mimport\u001b[0m \u001b[0mDefaultPredictor\u001b[0m\u001b[0;34m\u001b[0m\u001b[0;34m\u001b[0m\u001b[0m\n\u001b[1;32m     22\u001b[0m \u001b[0;32mfrom\u001b[0m \u001b[0mdetectron2\u001b[0m\u001b[0;34m.\u001b[0m\u001b[0mconfig\u001b[0m \u001b[0;32mimport\u001b[0m \u001b[0mget_cfg\u001b[0m\u001b[0;34m\u001b[0m\u001b[0;34m\u001b[0m\u001b[0m\n",
            "\u001b[0;32m/usr/local/lib/python3.7/dist-packages/detectron2/model_zoo/__init__.py\u001b[0m in \u001b[0;36m<module>\u001b[0;34m()\u001b[0m\n\u001b[1;32m      6\u001b[0m \"\"\"\n\u001b[1;32m      7\u001b[0m \u001b[0;34m\u001b[0m\u001b[0m\n\u001b[0;32m----> 8\u001b[0;31m \u001b[0;32mfrom\u001b[0m \u001b[0;34m.\u001b[0m\u001b[0mmodel_zoo\u001b[0m \u001b[0;32mimport\u001b[0m \u001b[0mget\u001b[0m\u001b[0;34m,\u001b[0m \u001b[0mget_config_file\u001b[0m\u001b[0;34m,\u001b[0m \u001b[0mget_checkpoint_url\u001b[0m\u001b[0;34m,\u001b[0m \u001b[0mget_config\u001b[0m\u001b[0;34m\u001b[0m\u001b[0;34m\u001b[0m\u001b[0m\n\u001b[0m\u001b[1;32m      9\u001b[0m \u001b[0;34m\u001b[0m\u001b[0m\n\u001b[1;32m     10\u001b[0m \u001b[0m__all__\u001b[0m \u001b[0;34m=\u001b[0m \u001b[0;34m[\u001b[0m\u001b[0;34m\"get_checkpoint_url\"\u001b[0m\u001b[0;34m,\u001b[0m \u001b[0;34m\"get\"\u001b[0m\u001b[0;34m,\u001b[0m \u001b[0;34m\"get_config_file\"\u001b[0m\u001b[0;34m,\u001b[0m \u001b[0;34m\"get_config\"\u001b[0m\u001b[0;34m]\u001b[0m\u001b[0;34m\u001b[0m\u001b[0;34m\u001b[0m\u001b[0m\n",
            "\u001b[0;32m/usr/local/lib/python3.7/dist-packages/detectron2/model_zoo/model_zoo.py\u001b[0m in \u001b[0;36m<module>\u001b[0;34m()\u001b[0m\n\u001b[1;32m      7\u001b[0m \u001b[0;32mfrom\u001b[0m \u001b[0mdetectron2\u001b[0m\u001b[0;34m.\u001b[0m\u001b[0mcheckpoint\u001b[0m \u001b[0;32mimport\u001b[0m \u001b[0mDetectionCheckpointer\u001b[0m\u001b[0;34m\u001b[0m\u001b[0;34m\u001b[0m\u001b[0m\n\u001b[1;32m      8\u001b[0m \u001b[0;32mfrom\u001b[0m \u001b[0mdetectron2\u001b[0m\u001b[0;34m.\u001b[0m\u001b[0mconfig\u001b[0m \u001b[0;32mimport\u001b[0m \u001b[0mCfgNode\u001b[0m\u001b[0;34m,\u001b[0m \u001b[0mLazyConfig\u001b[0m\u001b[0;34m,\u001b[0m \u001b[0mget_cfg\u001b[0m\u001b[0;34m,\u001b[0m \u001b[0minstantiate\u001b[0m\u001b[0;34m\u001b[0m\u001b[0;34m\u001b[0m\u001b[0m\n\u001b[0;32m----> 9\u001b[0;31m \u001b[0;32mfrom\u001b[0m \u001b[0mdetectron2\u001b[0m\u001b[0;34m.\u001b[0m\u001b[0mmodeling\u001b[0m \u001b[0;32mimport\u001b[0m \u001b[0mbuild_model\u001b[0m\u001b[0;34m\u001b[0m\u001b[0;34m\u001b[0m\u001b[0m\n\u001b[0m\u001b[1;32m     10\u001b[0m \u001b[0;34m\u001b[0m\u001b[0m\n\u001b[1;32m     11\u001b[0m \u001b[0;34m\u001b[0m\u001b[0m\n",
            "\u001b[0;32m/usr/local/lib/python3.7/dist-packages/detectron2/modeling/__init__.py\u001b[0m in \u001b[0;36m<module>\u001b[0;34m()\u001b[0m\n\u001b[1;32m      1\u001b[0m \u001b[0;31m# Copyright (c) Facebook, Inc. and its affiliates.\u001b[0m\u001b[0;34m\u001b[0m\u001b[0;34m\u001b[0m\u001b[0;34m\u001b[0m\u001b[0m\n\u001b[0;32m----> 2\u001b[0;31m \u001b[0;32mfrom\u001b[0m \u001b[0mdetectron2\u001b[0m\u001b[0;34m.\u001b[0m\u001b[0mlayers\u001b[0m \u001b[0;32mimport\u001b[0m \u001b[0mShapeSpec\u001b[0m\u001b[0;34m\u001b[0m\u001b[0;34m\u001b[0m\u001b[0m\n\u001b[0m\u001b[1;32m      3\u001b[0m \u001b[0;34m\u001b[0m\u001b[0m\n\u001b[1;32m      4\u001b[0m \u001b[0;32mfrom\u001b[0m \u001b[0;34m.\u001b[0m\u001b[0manchor_generator\u001b[0m \u001b[0;32mimport\u001b[0m \u001b[0mbuild_anchor_generator\u001b[0m\u001b[0;34m,\u001b[0m \u001b[0mANCHOR_GENERATOR_REGISTRY\u001b[0m\u001b[0;34m\u001b[0m\u001b[0;34m\u001b[0m\u001b[0m\n\u001b[1;32m      5\u001b[0m from .backbone import (\n",
            "\u001b[0;32m/usr/local/lib/python3.7/dist-packages/detectron2/layers/__init__.py\u001b[0m in \u001b[0;36m<module>\u001b[0;34m()\u001b[0m\n\u001b[1;32m      1\u001b[0m \u001b[0;31m# Copyright (c) Facebook, Inc. and its affiliates.\u001b[0m\u001b[0;34m\u001b[0m\u001b[0;34m\u001b[0m\u001b[0;34m\u001b[0m\u001b[0m\n\u001b[1;32m      2\u001b[0m \u001b[0;32mfrom\u001b[0m \u001b[0;34m.\u001b[0m\u001b[0mbatch_norm\u001b[0m \u001b[0;32mimport\u001b[0m \u001b[0mFrozenBatchNorm2d\u001b[0m\u001b[0;34m,\u001b[0m \u001b[0mget_norm\u001b[0m\u001b[0;34m,\u001b[0m \u001b[0mNaiveSyncBatchNorm\u001b[0m\u001b[0;34m,\u001b[0m \u001b[0mCycleBatchNormList\u001b[0m\u001b[0;34m\u001b[0m\u001b[0;34m\u001b[0m\u001b[0m\n\u001b[0;32m----> 3\u001b[0;31m \u001b[0;32mfrom\u001b[0m \u001b[0;34m.\u001b[0m\u001b[0mdeform_conv\u001b[0m \u001b[0;32mimport\u001b[0m \u001b[0mDeformConv\u001b[0m\u001b[0;34m,\u001b[0m \u001b[0mModulatedDeformConv\u001b[0m\u001b[0;34m\u001b[0m\u001b[0;34m\u001b[0m\u001b[0m\n\u001b[0m\u001b[1;32m      4\u001b[0m \u001b[0;32mfrom\u001b[0m \u001b[0;34m.\u001b[0m\u001b[0mmask_ops\u001b[0m \u001b[0;32mimport\u001b[0m \u001b[0mpaste_masks_in_image\u001b[0m\u001b[0;34m\u001b[0m\u001b[0;34m\u001b[0m\u001b[0m\n\u001b[1;32m      5\u001b[0m \u001b[0;32mfrom\u001b[0m \u001b[0;34m.\u001b[0m\u001b[0mnms\u001b[0m \u001b[0;32mimport\u001b[0m \u001b[0mbatched_nms\u001b[0m\u001b[0;34m,\u001b[0m \u001b[0mbatched_nms_rotated\u001b[0m\u001b[0;34m,\u001b[0m \u001b[0mnms\u001b[0m\u001b[0;34m,\u001b[0m \u001b[0mnms_rotated\u001b[0m\u001b[0;34m\u001b[0m\u001b[0;34m\u001b[0m\u001b[0m\n",
            "\u001b[0;32m/usr/local/lib/python3.7/dist-packages/detectron2/layers/deform_conv.py\u001b[0m in \u001b[0;36m<module>\u001b[0;34m()\u001b[0m\n\u001b[1;32m      9\u001b[0m \u001b[0;32mfrom\u001b[0m \u001b[0mtorchvision\u001b[0m\u001b[0;34m.\u001b[0m\u001b[0mops\u001b[0m \u001b[0;32mimport\u001b[0m \u001b[0mdeform_conv2d\u001b[0m\u001b[0;34m\u001b[0m\u001b[0;34m\u001b[0m\u001b[0m\n\u001b[1;32m     10\u001b[0m \u001b[0;34m\u001b[0m\u001b[0m\n\u001b[0;32m---> 11\u001b[0;31m \u001b[0;32mfrom\u001b[0m \u001b[0mdetectron2\u001b[0m \u001b[0;32mimport\u001b[0m \u001b[0m_C\u001b[0m\u001b[0;34m\u001b[0m\u001b[0;34m\u001b[0m\u001b[0m\n\u001b[0m\u001b[1;32m     12\u001b[0m \u001b[0;34m\u001b[0m\u001b[0m\n\u001b[1;32m     13\u001b[0m \u001b[0;32mfrom\u001b[0m \u001b[0;34m.\u001b[0m\u001b[0mwrappers\u001b[0m \u001b[0;32mimport\u001b[0m \u001b[0m_NewEmptyTensorOp\u001b[0m\u001b[0;34m\u001b[0m\u001b[0;34m\u001b[0m\u001b[0m\n",
            "\u001b[0;31mImportError\u001b[0m: /usr/local/lib/python3.7/dist-packages/detectron2/_C.cpython-37m-x86_64-linux-gnu.so: undefined symbol: _ZNK2at10TensorBase8data_ptrIdEEPT_v",
            "",
            "\u001b[0;31m---------------------------------------------------------------------------\u001b[0;32m\nNOTE: If your import is failing due to a missing package, you can\nmanually install dependencies using either !pip or !apt.\n\nTo view examples of installing some common dependencies, click the\n\"Open Examples\" button below.\n\u001b[0;31m---------------------------------------------------------------------------\u001b[0m\n"
          ],
          "errorDetails": {
            "actions": [
              {
                "action": "open_url",
                "actionText": "Open Examples",
                "url": "/notebooks/snippets/importing_libraries.ipynb"
              }
            ]
          }
        }
      ],
      "source": [
        "# You may need to restart your runtime prior to this, to let your installation take effect\n",
        "# Some basic setup:\n",
        "# Setup detectron2 logger\n",
        "import detectron2\n",
        "from detectron2.utils.logger import setup_logger\n",
        "setup_logger()\n",
        "\n",
        "# import some common libraries\n",
        "import numpy as np\n",
        "import pandas as pd\n",
        "import cv2\n",
        "import json\n",
        "from tqdm.notebook import tqdm\n",
        "import subprocess\n",
        "import time\n",
        "from pathlib import Path\n",
        "\n",
        "\n",
        "# import some common detectron2 utilities\n",
        "from detectron2 import model_zoo\n",
        "from detectron2.engine import DefaultPredictor\n",
        "from detectron2.config import get_cfg\n",
        "from detectron2.utils.visualizer import Visualizer\n",
        "from detectron2.data import MetadataCatalog\n",
        "from detectron2.utils.visualizer import ColorMode\n",
        "from detectron2.data.datasets import register_coco_instances\n",
        "from detectron2.engine import DefaultTrainer\n",
        "from detectron2.evaluation import COCOEvaluator, inference_on_dataset\n",
        "from detectron2.data import build_detection_test_loader\n",
        "from detectron2.structures import Boxes, BoxMode \n",
        "import pycocotools.mask as mask_util\n",
        "\n",
        "\n",
        "# For reading annotations file\n",
        "from pycocotools.coco import COCO\n",
        "\n",
        "# utilities\n",
        "from pprint import pprint # For beautiful print!\n",
        "from collections import OrderedDict\n",
        "import os \n",
        "\n",
        "# For data visualisation\n",
        "import matplotlib.pyplot as plt\n",
        "import plotly.graph_objects as go\n",
        "import plotly.express as px\n",
        "from google.colab.patches import cv2_imshow"
      ]
    },
    {
      "cell_type": "markdown",
      "source": [
        "## Fixing the data"
      ],
      "metadata": {
        "id": "qizezEkgZsds"
      }
    },
    {
      "cell_type": "code",
      "source": [
        "#fix dataset\n",
        "import numpy as np\n",
        "import pandas as pd\n",
        "import cv2\n",
        "import json\n",
        "from tqdm import tqdm\n",
        "\n",
        "# Reading annotations.json\n",
        "TRAIN_ANNOTATIONS_PATH = \"data/train/annotations.json\"\n",
        "TRAIN_IMAGE_DIRECTIORY = \"data/train/images/\"\n",
        "\n",
        "VAL_ANNOTATIONS_PATH = \"data/val/annotations.json\"\n",
        "VAL_IMAGE_DIRECTIORY = \"data/val/images/\"\n",
        "\n",
        "# train_coco = COCO(TRAIN_ANNOTATIONS_PATH)\n",
        "\n",
        "# Reading the annotation files\n",
        "with open(TRAIN_ANNOTATIONS_PATH) as f:\n",
        "  train_annotations_data = json.load(f)\n",
        "\n",
        "with open(VAL_ANNOTATIONS_PATH) as f:\n",
        "  val_annotations_data = json.load(f)\n",
        "\n",
        "\n",
        "\n",
        "# Function for taking a annotation & directiory of images and returning new annoation json with fixed image size info\n",
        "def fix_data(annotations, directiory, VERBOSE = False):\n",
        "  for n, i in enumerate(tqdm((annotations['images']))):\n",
        "   \n",
        "      img = cv2.imread(directiory+i[\"file_name\"])\n",
        " \n",
        "      if img.shape[0] != i['height']:\n",
        "          annotations['images'][n]['height'] = img.shape[0]\n",
        "          if VERBOSE:\n",
        "            print(i[\"file_name\"])\n",
        "            print(annotations['images'][n], img.shape)\n",
        "\n",
        "      if img.shape[1] != i['width']:\n",
        "          annotations['images'][n]['width'] = img.shape[1]\n",
        "          if VERBOSE:\n",
        "            print(i[\"file_name\"])\n",
        "            print(annotations['images'][n], img.shape)\n",
        "\n",
        "  return annotations\n",
        "\n",
        "train_annotations_data = fix_data(train_annotations_data, TRAIN_IMAGE_DIRECTIORY)\n",
        "\n",
        "with open('data/train/new_ann.json', 'w') as f:\n",
        "    json.dump(train_annotations_data, f)\n",
        "\n",
        "val_annotations_data = fix_data(val_annotations_data, VAL_IMAGE_DIRECTIORY)\n",
        "\n",
        "with open('data/val/new_ann.json', 'w') as f:\n",
        "    json.dump(val_annotations_data, f)"
      ],
      "metadata": {
        "id": "n8Qklcm6BgdY"
      },
      "execution_count": null,
      "outputs": []
    },
    {
      "cell_type": "code",
      "source": [
        "## registering the data\n",
        "train_annotations_path = 'data/train/new_ann.json'\n",
        "train_images_path = 'data/train/images'\n",
        "\n",
        "val_annotations_path = 'data/val/new_ann.json'\n",
        "val_images_path = 'data/val/images'\n",
        "\n",
        "register_coco_instances(\"training_dataset\", {},train_annotations_path, train_images_path)\n",
        "register_coco_instances(\"validation_dataset\", {},val_annotations_path, VAL_IMAGE_DIRECTIORY)"
      ],
      "metadata": {
        "id": "ZkFjev2hBWaP"
      },
      "execution_count": 9,
      "outputs": []
    },
    {
      "cell_type": "code",
      "source": [
        "from detectron2.data.catalog import DatasetCatalog\n",
        "MetadataCatalog.get(\"training_dataset\")\n",
        "DatasetCatalog.get(\"training_dataset\")\n",
        "\n",
        "MetadataCatalog.get(\"validation_dataset\")\n",
        "data_val_dicts=DatasetCatalog.get(\"validation_dataset\")\n",
        "\n"
      ],
      "metadata": {
        "id": "G4teK9jZSq9V"
      },
      "execution_count": null,
      "outputs": []
    },
    {
      "cell_type": "code",
      "source": [
        "!git clone https://github.com/saidineshpola/Mask2Former.git"
      ],
      "metadata": {
        "colab": {
          "base_uri": "https://localhost:8080/"
        },
        "id": "GX9VafOKVbzj",
        "outputId": "e13b1d23-029c-4b85-a77d-b0e81cb10c58"
      },
      "execution_count": 8,
      "outputs": [
        {
          "output_type": "stream",
          "name": "stdout",
          "text": [
            "Cloning into 'Mask2Former'...\n",
            "remote: Enumerating objects: 320, done.\u001b[K\n",
            "remote: Counting objects: 100% (153/153), done.\u001b[K\n",
            "remote: Compressing objects: 100% (127/127), done.\u001b[K\n",
            "remote: Total 320 (delta 66), reused 86 (delta 26), pack-reused 167\u001b[K\n",
            "Receiving objects: 100% (320/320), 448.75 KiB | 835.00 KiB/s, done.\n",
            "Resolving deltas: 100% (117/117), done.\n"
          ]
        }
      ]
    },
    {
      "cell_type": "markdown",
      "source": [
        "## Mask2Former"
      ],
      "metadata": {
        "id": "HLZbCv-PJu6b"
      }
    },
    {
      "cell_type": "code",
      "source": [
        "%cd /content/Mask2Former\n"
      ],
      "metadata": {
        "colab": {
          "base_uri": "https://localhost:8080/"
        },
        "id": "6n5skZr9JuHT",
        "outputId": "c5a29817-e55a-47fc-d6f3-19893047ff47"
      },
      "execution_count": 14,
      "outputs": [
        {
          "output_type": "stream",
          "name": "stdout",
          "text": [
            "/content/Mask2Former\n"
          ]
        }
      ]
    },
    {
      "cell_type": "code",
      "source": [
        "!pip install -r requirements.txt"
      ],
      "metadata": {
        "id": "lluzjlelMTaq"
      },
      "execution_count": null,
      "outputs": []
    },
    {
      "cell_type": "code",
      "source": [
        "!python train_net.py --config-file configs/coco/instance-segmentation/swin/maskformer2_swin_base_IN21k_384_bs16_50ep.yaml \\\n",
        "  --num-gpus 1  SOLVER.IMS_PER_BATCH 1 SOLVER.BASE_LR 0.00025 "
      ],
      "metadata": {
        "id": "0FDR-O70J7W2"
      },
      "execution_count": null,
      "outputs": []
    },
    {
      "cell_type": "code",
      "source": [
        "%cd mask2former/modeling/pixel_decoder/ops\n",
        "!sh make.sh"
      ],
      "metadata": {
        "id": "_n5eMj2pMmBm"
      },
      "execution_count": null,
      "outputs": []
    },
    {
      "cell_type": "code",
      "source": [
        "!wget -O base_m2f.pkl \"https://dl.fbaipublicfiles.com/maskformer/mask2former/coco/instance/maskformer2_swin_base_IN21k_384_bs16_50ep/model_final_83d103.pkl\""
      ],
      "metadata": {
        "id": "-ZkGHYnyZb8f"
      },
      "execution_count": null,
      "outputs": []
    },
    {
      "cell_type": "markdown",
      "metadata": {
        "id": "JjXs1F3taBMH"
      },
      "source": [
        "# Creating our Dataset 🔨\n",
        "\n",
        "In this section we are goind to fix out dataset first ( because there is some issues with dataset ( size mismatch ) & creating our dataset to put into the model"
      ]
    },
    {
      "cell_type": "markdown",
      "metadata": {
        "id": "4-rglUXYaB8g"
      },
      "source": [
        "## Fixing the Data"
      ]
    },
    {
      "cell_type": "code",
      "execution_count": null,
      "metadata": {
        "colab": {
          "base_uri": "https://localhost:8080/"
        },
        "id": "ThQhfzeEyjnC",
        "outputId": "638437fe-20ee-408f-b8d9-9cbcd3bec66c"
      },
      "outputs": [
        {
          "output_type": "execute_result",
          "data": {
            "text/plain": [
              "((1, 38), (4,))"
            ]
          },
          "metadata": {},
          "execution_count": 25
        }
      ],
      "source": [
        "#example print\n",
        "np.array(train_annotations_data['annotations'][2]['segmentation']).shape , np.array(train_annotations_data['annotations'][2]['bbox']).shape"
      ]
    },
    {
      "cell_type": "code",
      "execution_count": null,
      "metadata": {
        "id": "qvdTrwPvY0U1",
        "colab": {
          "base_uri": "https://localhost:8080/",
          "height": 81,
          "referenced_widgets": [
            "b0882ecee6e041139f763eb557ade702",
            "2dd2ee0945f44b59b709440f3c94ccc0",
            "139a0cbb9bb34c55a13803ffc0d7f7d8",
            "ee1b420e9c494564a865742e3161b4bc",
            "1a90baad40f342fda1c8a6ae55bce121",
            "45f9fd61810c405d9a24417fde127c21",
            "adc72a43bf054ed1840e5be3ea232456",
            "d6b53139d41b41418bbd3420b9aa7382",
            "1f4304b798be45c0928846df5c136285",
            "a3dff113b3cf480194440fd4d8469247",
            "ea6b87d67e634fc1aaae57bc8437712c",
            "390146e26c1f4dd4bd48d233520cd27b",
            "a2c577470695414a8eb6388015e9840e",
            "1dfbd8167e4a4bd7a63771263a1e17dc",
            "05b62b8eac1b46019e6589676864ca32",
            "b83d21d1ea8a48a7bd8057f5398fc814",
            "184d98efba39440ea31666a15c278821",
            "d62085afb5da4c82801707eceaf0551b",
            "7cc789e97a1d4dad982c8833d2ebe8e2",
            "744fc4066c0444bf9fee9063f171e166",
            "bd7aa8502c494b89a618e977a294a5a8",
            "ac37e1460394445cbdd0de42380aa39b"
          ]
        },
        "outputId": "88e259ea-4d1c-4d95-bdaf-4671436dfa95"
      },
      "outputs": [
        {
          "output_type": "display_data",
          "data": {
            "application/vnd.jupyter.widget-view+json": {
              "model_id": "b0882ecee6e041139f763eb557ade702",
              "version_minor": 0,
              "version_major": 2
            },
            "text/plain": [
              "  0%|          | 0/39962 [00:00<?, ?it/s]"
            ]
          },
          "metadata": {}
        },
        {
          "output_type": "display_data",
          "data": {
            "application/vnd.jupyter.widget-view+json": {
              "model_id": "390146e26c1f4dd4bd48d233520cd27b",
              "version_minor": 0,
              "version_major": 2
            },
            "text/plain": [
              "  0%|          | 0/1000 [00:00<?, ?it/s]"
            ]
          },
          "metadata": {}
        }
      ],
      "source": [
        "# Function for taking a annotation & directiory of images and returning new annoation json with fixed image size info\n",
        "def fix_data(annotations, directiory, VERBOSE = False):\n",
        "  for n, i in enumerate(tqdm((annotations['images']))):\n",
        "   \n",
        "      img = cv2.imread(directiory+i[\"file_name\"])\n",
        " \n",
        "      if img.shape[0] != i['height']:\n",
        "          annotations['images'][n]['height'] = img.shape[0]\n",
        "          if VERBOSE:\n",
        "            print(i[\"file_name\"])\n",
        "            print(annotations['images'][n], img.shape)\n",
        "\n",
        "      if img.shape[1] != i['width']:\n",
        "          annotations['images'][n]['width'] = img.shape[1]\n",
        "          if VERBOSE:\n",
        "            print(i[\"file_name\"])\n",
        "            print(annotations['images'][n], img.shape)\n",
        "\n",
        "  return annotations\n",
        "\n",
        "#fix annotations for training dataset\n",
        "train_annotations_data = fix_data(train_annotations_data, TRAIN_IMAGE_DIRECTIORY)\n",
        "\n",
        "with open('data/train/new_ann.json', 'w') as f:\n",
        "    json.dump(train_annotations_data, f)\n",
        "\n",
        "#similar processing for validation data\n",
        "val_annotations_data = fix_data(val_annotations_data, VAL_IMAGE_DIRECTIORY)\n",
        "\n",
        "with open('data/val/new_ann.json', 'w') as f:\n",
        "    json.dump(val_annotations_data, f)"
      ]
    },
    {
      "cell_type": "code",
      "source": [
        "#mount the drive for logging and active submission\n",
        "# from google.colab import drive\n",
        "# drive.mount('/content/drive')"
      ],
      "metadata": {
        "colab": {
          "base_uri": "https://localhost:8080/"
        },
        "id": "PDoGJK1vzpGi",
        "outputId": "ba00b680-9c50-437e-de05-3049dc0a4036"
      },
      "execution_count": null,
      "outputs": [
        {
          "output_type": "stream",
          "name": "stdout",
          "text": [
            "Mounted at /content/drive\n"
          ]
        }
      ]
    },
    {
      "cell_type": "markdown",
      "metadata": {
        "id": "SnCqpxmjdx1o"
      },
      "source": [
        "## Loading Dataset"
      ]
    },
    {
      "cell_type": "markdown",
      "source": [
        "Here comes the actual training part starting with first loading the datasets in coco format and registering them as instances"
      ],
      "metadata": {
        "id": "VxkrrikVV6TI"
      }
    },
    {
      "cell_type": "code",
      "execution_count": null,
      "metadata": {
        "id": "jnoBR_t6exwJ"
      },
      "outputs": [],
      "source": [
        "train_annotations_path = 'data/train/new_ann.json'\n",
        "train_images_path = 'data/train/images'\n",
        "\n",
        "val_annotations_path = 'data/val/new_ann.json'\n",
        "val_images_path = 'data/val/images'\n",
        "register_coco_instances(\"training_dataset\", {},train_annotations_path, train_images_path)\n",
        "register_coco_instances(\"validation_dataset\", {},val_annotations_path, VAL_IMAGE_DIRECTIORY)"
      ]
    },
    {
      "cell_type": "markdown",
      "metadata": {
        "id": "mVrHnP_BfMeY"
      },
      "source": [
        "# Creating our Detectron2 Model 🏭\n",
        "\n",
        "We are going to make an Faster R-CNN Model with ResNeXt 101 backbone using Detectron2 libarary, and setting up hyperpamaters to train our model. [Here at model_zoo page](https://github.com/facebookresearch/detectron2/blob/main/MODEL_ZOO.md) you can find available pretrained models to start your traning from. "
      ]
    },
    {
      "cell_type": "markdown",
      "metadata": {
        "id": "xa89ntbpfRU0"
      },
      "source": [
        "## Creating Mask R-CNN Model and Training on Our Dataset"
      ]
    },
    {
      "cell_type": "markdown",
      "source": [
        "we first load the configuration file for the model architecture, then load the pretrained model from model_zoo. Visit the model_zoo repo page for more details on configuration. "
      ],
      "metadata": {
        "id": "oGxt6_-JXGxx"
      }
    },
    {
      "cell_type": "code",
      "execution_count": null,
      "metadata": {
        "id": "t658Pm0xe2AI"
      },
      "outputs": [],
      "source": [
        "# Select your config from model_zoo, we have released pre-trained models for x101 and r50.\n",
        "\n",
        "# Download available here: https://drive.google.com/drive/folders/10_JiikWP59vm2eGIxRenAXxvYLDjUOz0?usp=sharing (10k iters)\n",
        "# Pre-trained with score of (0.030 AP, 0.050 AR)\n",
        "# MODEL_ARCH = \"COCO-InstanceSegmentation/mask_rcnn_X_101_32x8d_FPN_3x.yaml\"\n",
        "\n",
        "# Download available here: https://drive.google.com/drive/folders/1-LLFE8xFGOKkzPXF1DKF45c6O4W-38hu?usp=sharing (110k iters)\n",
        "# Pre-trained with score of (0.082 AP, 0.128 AR)\n",
        "MODEL_ARCH = \"COCO-InstanceSegmentation/mask_rcnn_R_50_FPN_3x.yaml\"\n",
        "\n",
        "cfg = get_cfg()\n",
        "# Check the model zoo and use any of the models ( from detectron2 github repo)\n",
        "\n",
        "# cfg.merge_from_file(model_zoo.get_config_file(\"COCO-InstanceSegmentation/mask_rcnn_R_50_FPN_3x.yaml\"))\n",
        "# cfg.merge_from_file(model_zoo.get_config_file(\"COCO-InstanceSegmentation/mask_rcnn_R_101_FPN_3x.yaml\"))\n",
        "cfg.merge_from_file(model_zoo.get_config_file(MODEL_ARCH))\n",
        "\n",
        "cfg.DATASETS.TRAIN = (\"training_dataset\",)\n",
        "cfg.DATASETS.TEST = ()\n",
        "\n",
        "cfg.DATALOADER.NUM_WORKERS = 2\n",
        "\n",
        "# Loading pre trained weights\n",
        "# cfg.MODEL.WEIGHTS = model_zoo.get_checkpoint_url(\"COCO-InstanceSegmentation/mask_rcnn_R_50_FPN_3x.yaml\")\n",
        "# cfg.MODEL.WEIGHTS = model_zoo.get_checkpoint_url(\"COCO-InstanceSegmentation/mask_rcnn_R_101_FPN_3x.yaml\")\n",
        "cfg.MODEL.WEIGHTS = model_zoo.get_checkpoint_url(MODEL_ARCH)"
      ]
    },
    {
      "cell_type": "markdown",
      "metadata": {
        "id": "_TOQaXMDfWo4"
      },
      "source": [
        "## Setting up hyperparameters"
      ]
    },
    {
      "cell_type": "markdown",
      "source": [
        "Modify the model configuration hyperparameters for our training"
      ],
      "metadata": {
        "id": "veNf4K3FXT0_"
      }
    },
    {
      "cell_type": "code",
      "execution_count": null,
      "metadata": {
        "id": "u7f8Ng25fWxR"
      },
      "outputs": [],
      "source": [
        "# No. of Batchs\n",
        "cfg.SOLVER.IMS_PER_BATCH = 4     #for 16 GB GPU, reduce it to 2 for 12 GB GPU if you face CUDA memory error\n",
        "\n",
        "# Learning Rate: \n",
        "cfg.SOLVER.BASE_LR = 0.0025\n",
        "\n",
        "# No of Interations\n",
        "cfg.SOLVER.MAX_ITER = 150000\n",
        "\n",
        "# Options: WarmupMultiStepLR, WarmupCosineLR.\n",
        "# See detectron2/solver/build.py for definition.\n",
        "cfg.SOLVER.LR_SCHEDULER_NAME = \"WarmupMultiStepLR\"\n",
        "\n",
        "#save every 1000 steps\n",
        "cfg.SOLVER.CHECKPOINT_PERIOD = 1000\n",
        "\n",
        "# Images per batch (Batch Size) \n",
        "cfg.MODEL.ROI_HEADS.BATCH_SIZE_PER_IMAGE = 256  \n",
        "\n",
        "# No of Categories(Classes) present\n",
        "cfg.MODEL.ROI_HEADS.NUM_CLASSES = 498\n",
        "\n",
        "\n",
        "\n",
        "#Output directory\n",
        "#### NOTE: You can also download pre-trained folder from Google Drive and upload in your drive; links are shared in above cell.\n",
        "# cfg.OUTPUT_DIR = \"/content/drive/MyDrive/logs_detectron2_x101\"\n",
        "cfg.OUTPUT_DIR = \"/content/drive/MyDrive/logs_detectron2_r50\"\n",
        "\n",
        "os.makedirs(cfg.OUTPUT_DIR, exist_ok=True)"
      ]
    },
    {
      "cell_type": "code",
      "execution_count": null,
      "metadata": {
        "colab": {
          "base_uri": "https://localhost:8080/"
        },
        "id": "sN_VI7Z3e6Ag",
        "outputId": "97ffe68c-9083-4456-f3a1-8266feacebac"
      },
      "outputs": [
        {
          "output_type": "stream",
          "name": "stdout",
          "text": [
            "\u001b[32m[01/31 12:31:56 d2.engine.defaults]: \u001b[0mModel:\n",
            "GeneralizedRCNN(\n",
            "  (backbone): FPN(\n",
            "    (fpn_lateral2): Conv2d(256, 256, kernel_size=(1, 1), stride=(1, 1))\n",
            "    (fpn_output2): Conv2d(256, 256, kernel_size=(3, 3), stride=(1, 1), padding=(1, 1))\n",
            "    (fpn_lateral3): Conv2d(512, 256, kernel_size=(1, 1), stride=(1, 1))\n",
            "    (fpn_output3): Conv2d(256, 256, kernel_size=(3, 3), stride=(1, 1), padding=(1, 1))\n",
            "    (fpn_lateral4): Conv2d(1024, 256, kernel_size=(1, 1), stride=(1, 1))\n",
            "    (fpn_output4): Conv2d(256, 256, kernel_size=(3, 3), stride=(1, 1), padding=(1, 1))\n",
            "    (fpn_lateral5): Conv2d(2048, 256, kernel_size=(1, 1), stride=(1, 1))\n",
            "    (fpn_output5): Conv2d(256, 256, kernel_size=(3, 3), stride=(1, 1), padding=(1, 1))\n",
            "    (top_block): LastLevelMaxPool()\n",
            "    (bottom_up): ResNet(\n",
            "      (stem): BasicStem(\n",
            "        (conv1): Conv2d(\n",
            "          3, 64, kernel_size=(7, 7), stride=(2, 2), padding=(3, 3), bias=False\n",
            "          (norm): FrozenBatchNorm2d(num_features=64, eps=1e-05)\n",
            "        )\n",
            "      )\n",
            "      (res2): Sequential(\n",
            "        (0): BottleneckBlock(\n",
            "          (shortcut): Conv2d(\n",
            "            64, 256, kernel_size=(1, 1), stride=(1, 1), bias=False\n",
            "            (norm): FrozenBatchNorm2d(num_features=256, eps=1e-05)\n",
            "          )\n",
            "          (conv1): Conv2d(\n",
            "            64, 64, kernel_size=(1, 1), stride=(1, 1), bias=False\n",
            "            (norm): FrozenBatchNorm2d(num_features=64, eps=1e-05)\n",
            "          )\n",
            "          (conv2): Conv2d(\n",
            "            64, 64, kernel_size=(3, 3), stride=(1, 1), padding=(1, 1), bias=False\n",
            "            (norm): FrozenBatchNorm2d(num_features=64, eps=1e-05)\n",
            "          )\n",
            "          (conv3): Conv2d(\n",
            "            64, 256, kernel_size=(1, 1), stride=(1, 1), bias=False\n",
            "            (norm): FrozenBatchNorm2d(num_features=256, eps=1e-05)\n",
            "          )\n",
            "        )\n",
            "        (1): BottleneckBlock(\n",
            "          (conv1): Conv2d(\n",
            "            256, 64, kernel_size=(1, 1), stride=(1, 1), bias=False\n",
            "            (norm): FrozenBatchNorm2d(num_features=64, eps=1e-05)\n",
            "          )\n",
            "          (conv2): Conv2d(\n",
            "            64, 64, kernel_size=(3, 3), stride=(1, 1), padding=(1, 1), bias=False\n",
            "            (norm): FrozenBatchNorm2d(num_features=64, eps=1e-05)\n",
            "          )\n",
            "          (conv3): Conv2d(\n",
            "            64, 256, kernel_size=(1, 1), stride=(1, 1), bias=False\n",
            "            (norm): FrozenBatchNorm2d(num_features=256, eps=1e-05)\n",
            "          )\n",
            "        )\n",
            "        (2): BottleneckBlock(\n",
            "          (conv1): Conv2d(\n",
            "            256, 64, kernel_size=(1, 1), stride=(1, 1), bias=False\n",
            "            (norm): FrozenBatchNorm2d(num_features=64, eps=1e-05)\n",
            "          )\n",
            "          (conv2): Conv2d(\n",
            "            64, 64, kernel_size=(3, 3), stride=(1, 1), padding=(1, 1), bias=False\n",
            "            (norm): FrozenBatchNorm2d(num_features=64, eps=1e-05)\n",
            "          )\n",
            "          (conv3): Conv2d(\n",
            "            64, 256, kernel_size=(1, 1), stride=(1, 1), bias=False\n",
            "            (norm): FrozenBatchNorm2d(num_features=256, eps=1e-05)\n",
            "          )\n",
            "        )\n",
            "      )\n",
            "      (res3): Sequential(\n",
            "        (0): BottleneckBlock(\n",
            "          (shortcut): Conv2d(\n",
            "            256, 512, kernel_size=(1, 1), stride=(2, 2), bias=False\n",
            "            (norm): FrozenBatchNorm2d(num_features=512, eps=1e-05)\n",
            "          )\n",
            "          (conv1): Conv2d(\n",
            "            256, 128, kernel_size=(1, 1), stride=(2, 2), bias=False\n",
            "            (norm): FrozenBatchNorm2d(num_features=128, eps=1e-05)\n",
            "          )\n",
            "          (conv2): Conv2d(\n",
            "            128, 128, kernel_size=(3, 3), stride=(1, 1), padding=(1, 1), bias=False\n",
            "            (norm): FrozenBatchNorm2d(num_features=128, eps=1e-05)\n",
            "          )\n",
            "          (conv3): Conv2d(\n",
            "            128, 512, kernel_size=(1, 1), stride=(1, 1), bias=False\n",
            "            (norm): FrozenBatchNorm2d(num_features=512, eps=1e-05)\n",
            "          )\n",
            "        )\n",
            "        (1): BottleneckBlock(\n",
            "          (conv1): Conv2d(\n",
            "            512, 128, kernel_size=(1, 1), stride=(1, 1), bias=False\n",
            "            (norm): FrozenBatchNorm2d(num_features=128, eps=1e-05)\n",
            "          )\n",
            "          (conv2): Conv2d(\n",
            "            128, 128, kernel_size=(3, 3), stride=(1, 1), padding=(1, 1), bias=False\n",
            "            (norm): FrozenBatchNorm2d(num_features=128, eps=1e-05)\n",
            "          )\n",
            "          (conv3): Conv2d(\n",
            "            128, 512, kernel_size=(1, 1), stride=(1, 1), bias=False\n",
            "            (norm): FrozenBatchNorm2d(num_features=512, eps=1e-05)\n",
            "          )\n",
            "        )\n",
            "        (2): BottleneckBlock(\n",
            "          (conv1): Conv2d(\n",
            "            512, 128, kernel_size=(1, 1), stride=(1, 1), bias=False\n",
            "            (norm): FrozenBatchNorm2d(num_features=128, eps=1e-05)\n",
            "          )\n",
            "          (conv2): Conv2d(\n",
            "            128, 128, kernel_size=(3, 3), stride=(1, 1), padding=(1, 1), bias=False\n",
            "            (norm): FrozenBatchNorm2d(num_features=128, eps=1e-05)\n",
            "          )\n",
            "          (conv3): Conv2d(\n",
            "            128, 512, kernel_size=(1, 1), stride=(1, 1), bias=False\n",
            "            (norm): FrozenBatchNorm2d(num_features=512, eps=1e-05)\n",
            "          )\n",
            "        )\n",
            "        (3): BottleneckBlock(\n",
            "          (conv1): Conv2d(\n",
            "            512, 128, kernel_size=(1, 1), stride=(1, 1), bias=False\n",
            "            (norm): FrozenBatchNorm2d(num_features=128, eps=1e-05)\n",
            "          )\n",
            "          (conv2): Conv2d(\n",
            "            128, 128, kernel_size=(3, 3), stride=(1, 1), padding=(1, 1), bias=False\n",
            "            (norm): FrozenBatchNorm2d(num_features=128, eps=1e-05)\n",
            "          )\n",
            "          (conv3): Conv2d(\n",
            "            128, 512, kernel_size=(1, 1), stride=(1, 1), bias=False\n",
            "            (norm): FrozenBatchNorm2d(num_features=512, eps=1e-05)\n",
            "          )\n",
            "        )\n",
            "      )\n",
            "      (res4): Sequential(\n",
            "        (0): BottleneckBlock(\n",
            "          (shortcut): Conv2d(\n",
            "            512, 1024, kernel_size=(1, 1), stride=(2, 2), bias=False\n",
            "            (norm): FrozenBatchNorm2d(num_features=1024, eps=1e-05)\n",
            "          )\n",
            "          (conv1): Conv2d(\n",
            "            512, 256, kernel_size=(1, 1), stride=(2, 2), bias=False\n",
            "            (norm): FrozenBatchNorm2d(num_features=256, eps=1e-05)\n",
            "          )\n",
            "          (conv2): Conv2d(\n",
            "            256, 256, kernel_size=(3, 3), stride=(1, 1), padding=(1, 1), bias=False\n",
            "            (norm): FrozenBatchNorm2d(num_features=256, eps=1e-05)\n",
            "          )\n",
            "          (conv3): Conv2d(\n",
            "            256, 1024, kernel_size=(1, 1), stride=(1, 1), bias=False\n",
            "            (norm): FrozenBatchNorm2d(num_features=1024, eps=1e-05)\n",
            "          )\n",
            "        )\n",
            "        (1): BottleneckBlock(\n",
            "          (conv1): Conv2d(\n",
            "            1024, 256, kernel_size=(1, 1), stride=(1, 1), bias=False\n",
            "            (norm): FrozenBatchNorm2d(num_features=256, eps=1e-05)\n",
            "          )\n",
            "          (conv2): Conv2d(\n",
            "            256, 256, kernel_size=(3, 3), stride=(1, 1), padding=(1, 1), bias=False\n",
            "            (norm): FrozenBatchNorm2d(num_features=256, eps=1e-05)\n",
            "          )\n",
            "          (conv3): Conv2d(\n",
            "            256, 1024, kernel_size=(1, 1), stride=(1, 1), bias=False\n",
            "            (norm): FrozenBatchNorm2d(num_features=1024, eps=1e-05)\n",
            "          )\n",
            "        )\n",
            "        (2): BottleneckBlock(\n",
            "          (conv1): Conv2d(\n",
            "            1024, 256, kernel_size=(1, 1), stride=(1, 1), bias=False\n",
            "            (norm): FrozenBatchNorm2d(num_features=256, eps=1e-05)\n",
            "          )\n",
            "          (conv2): Conv2d(\n",
            "            256, 256, kernel_size=(3, 3), stride=(1, 1), padding=(1, 1), bias=False\n",
            "            (norm): FrozenBatchNorm2d(num_features=256, eps=1e-05)\n",
            "          )\n",
            "          (conv3): Conv2d(\n",
            "            256, 1024, kernel_size=(1, 1), stride=(1, 1), bias=False\n",
            "            (norm): FrozenBatchNorm2d(num_features=1024, eps=1e-05)\n",
            "          )\n",
            "        )\n",
            "        (3): BottleneckBlock(\n",
            "          (conv1): Conv2d(\n",
            "            1024, 256, kernel_size=(1, 1), stride=(1, 1), bias=False\n",
            "            (norm): FrozenBatchNorm2d(num_features=256, eps=1e-05)\n",
            "          )\n",
            "          (conv2): Conv2d(\n",
            "            256, 256, kernel_size=(3, 3), stride=(1, 1), padding=(1, 1), bias=False\n",
            "            (norm): FrozenBatchNorm2d(num_features=256, eps=1e-05)\n",
            "          )\n",
            "          (conv3): Conv2d(\n",
            "            256, 1024, kernel_size=(1, 1), stride=(1, 1), bias=False\n",
            "            (norm): FrozenBatchNorm2d(num_features=1024, eps=1e-05)\n",
            "          )\n",
            "        )\n",
            "        (4): BottleneckBlock(\n",
            "          (conv1): Conv2d(\n",
            "            1024, 256, kernel_size=(1, 1), stride=(1, 1), bias=False\n",
            "            (norm): FrozenBatchNorm2d(num_features=256, eps=1e-05)\n",
            "          )\n",
            "          (conv2): Conv2d(\n",
            "            256, 256, kernel_size=(3, 3), stride=(1, 1), padding=(1, 1), bias=False\n",
            "            (norm): FrozenBatchNorm2d(num_features=256, eps=1e-05)\n",
            "          )\n",
            "          (conv3): Conv2d(\n",
            "            256, 1024, kernel_size=(1, 1), stride=(1, 1), bias=False\n",
            "            (norm): FrozenBatchNorm2d(num_features=1024, eps=1e-05)\n",
            "          )\n",
            "        )\n",
            "        (5): BottleneckBlock(\n",
            "          (conv1): Conv2d(\n",
            "            1024, 256, kernel_size=(1, 1), stride=(1, 1), bias=False\n",
            "            (norm): FrozenBatchNorm2d(num_features=256, eps=1e-05)\n",
            "          )\n",
            "          (conv2): Conv2d(\n",
            "            256, 256, kernel_size=(3, 3), stride=(1, 1), padding=(1, 1), bias=False\n",
            "            (norm): FrozenBatchNorm2d(num_features=256, eps=1e-05)\n",
            "          )\n",
            "          (conv3): Conv2d(\n",
            "            256, 1024, kernel_size=(1, 1), stride=(1, 1), bias=False\n",
            "            (norm): FrozenBatchNorm2d(num_features=1024, eps=1e-05)\n",
            "          )\n",
            "        )\n",
            "      )\n",
            "      (res5): Sequential(\n",
            "        (0): BottleneckBlock(\n",
            "          (shortcut): Conv2d(\n",
            "            1024, 2048, kernel_size=(1, 1), stride=(2, 2), bias=False\n",
            "            (norm): FrozenBatchNorm2d(num_features=2048, eps=1e-05)\n",
            "          )\n",
            "          (conv1): Conv2d(\n",
            "            1024, 512, kernel_size=(1, 1), stride=(2, 2), bias=False\n",
            "            (norm): FrozenBatchNorm2d(num_features=512, eps=1e-05)\n",
            "          )\n",
            "          (conv2): Conv2d(\n",
            "            512, 512, kernel_size=(3, 3), stride=(1, 1), padding=(1, 1), bias=False\n",
            "            (norm): FrozenBatchNorm2d(num_features=512, eps=1e-05)\n",
            "          )\n",
            "          (conv3): Conv2d(\n",
            "            512, 2048, kernel_size=(1, 1), stride=(1, 1), bias=False\n",
            "            (norm): FrozenBatchNorm2d(num_features=2048, eps=1e-05)\n",
            "          )\n",
            "        )\n",
            "        (1): BottleneckBlock(\n",
            "          (conv1): Conv2d(\n",
            "            2048, 512, kernel_size=(1, 1), stride=(1, 1), bias=False\n",
            "            (norm): FrozenBatchNorm2d(num_features=512, eps=1e-05)\n",
            "          )\n",
            "          (conv2): Conv2d(\n",
            "            512, 512, kernel_size=(3, 3), stride=(1, 1), padding=(1, 1), bias=False\n",
            "            (norm): FrozenBatchNorm2d(num_features=512, eps=1e-05)\n",
            "          )\n",
            "          (conv3): Conv2d(\n",
            "            512, 2048, kernel_size=(1, 1), stride=(1, 1), bias=False\n",
            "            (norm): FrozenBatchNorm2d(num_features=2048, eps=1e-05)\n",
            "          )\n",
            "        )\n",
            "        (2): BottleneckBlock(\n",
            "          (conv1): Conv2d(\n",
            "            2048, 512, kernel_size=(1, 1), stride=(1, 1), bias=False\n",
            "            (norm): FrozenBatchNorm2d(num_features=512, eps=1e-05)\n",
            "          )\n",
            "          (conv2): Conv2d(\n",
            "            512, 512, kernel_size=(3, 3), stride=(1, 1), padding=(1, 1), bias=False\n",
            "            (norm): FrozenBatchNorm2d(num_features=512, eps=1e-05)\n",
            "          )\n",
            "          (conv3): Conv2d(\n",
            "            512, 2048, kernel_size=(1, 1), stride=(1, 1), bias=False\n",
            "            (norm): FrozenBatchNorm2d(num_features=2048, eps=1e-05)\n",
            "          )\n",
            "        )\n",
            "      )\n",
            "    )\n",
            "  )\n",
            "  (proposal_generator): RPN(\n",
            "    (rpn_head): StandardRPNHead(\n",
            "      (conv): Conv2d(\n",
            "        256, 256, kernel_size=(3, 3), stride=(1, 1), padding=(1, 1)\n",
            "        (activation): ReLU()\n",
            "      )\n",
            "      (objectness_logits): Conv2d(256, 3, kernel_size=(1, 1), stride=(1, 1))\n",
            "      (anchor_deltas): Conv2d(256, 12, kernel_size=(1, 1), stride=(1, 1))\n",
            "    )\n",
            "    (anchor_generator): DefaultAnchorGenerator(\n",
            "      (cell_anchors): BufferList()\n",
            "    )\n",
            "  )\n",
            "  (roi_heads): StandardROIHeads(\n",
            "    (box_pooler): ROIPooler(\n",
            "      (level_poolers): ModuleList(\n",
            "        (0): ROIAlign(output_size=(7, 7), spatial_scale=0.25, sampling_ratio=0, aligned=True)\n",
            "        (1): ROIAlign(output_size=(7, 7), spatial_scale=0.125, sampling_ratio=0, aligned=True)\n",
            "        (2): ROIAlign(output_size=(7, 7), spatial_scale=0.0625, sampling_ratio=0, aligned=True)\n",
            "        (3): ROIAlign(output_size=(7, 7), spatial_scale=0.03125, sampling_ratio=0, aligned=True)\n",
            "      )\n",
            "    )\n",
            "    (box_head): FastRCNNConvFCHead(\n",
            "      (flatten): Flatten(start_dim=1, end_dim=-1)\n",
            "      (fc1): Linear(in_features=12544, out_features=1024, bias=True)\n",
            "      (fc_relu1): ReLU()\n",
            "      (fc2): Linear(in_features=1024, out_features=1024, bias=True)\n",
            "      (fc_relu2): ReLU()\n",
            "    )\n",
            "    (box_predictor): FastRCNNOutputLayers(\n",
            "      (cls_score): Linear(in_features=1024, out_features=499, bias=True)\n",
            "      (bbox_pred): Linear(in_features=1024, out_features=1992, bias=True)\n",
            "    )\n",
            "    (mask_pooler): ROIPooler(\n",
            "      (level_poolers): ModuleList(\n",
            "        (0): ROIAlign(output_size=(14, 14), spatial_scale=0.25, sampling_ratio=0, aligned=True)\n",
            "        (1): ROIAlign(output_size=(14, 14), spatial_scale=0.125, sampling_ratio=0, aligned=True)\n",
            "        (2): ROIAlign(output_size=(14, 14), spatial_scale=0.0625, sampling_ratio=0, aligned=True)\n",
            "        (3): ROIAlign(output_size=(14, 14), spatial_scale=0.03125, sampling_ratio=0, aligned=True)\n",
            "      )\n",
            "    )\n",
            "    (mask_head): MaskRCNNConvUpsampleHead(\n",
            "      (mask_fcn1): Conv2d(\n",
            "        256, 256, kernel_size=(3, 3), stride=(1, 1), padding=(1, 1)\n",
            "        (activation): ReLU()\n",
            "      )\n",
            "      (mask_fcn2): Conv2d(\n",
            "        256, 256, kernel_size=(3, 3), stride=(1, 1), padding=(1, 1)\n",
            "        (activation): ReLU()\n",
            "      )\n",
            "      (mask_fcn3): Conv2d(\n",
            "        256, 256, kernel_size=(3, 3), stride=(1, 1), padding=(1, 1)\n",
            "        (activation): ReLU()\n",
            "      )\n",
            "      (mask_fcn4): Conv2d(\n",
            "        256, 256, kernel_size=(3, 3), stride=(1, 1), padding=(1, 1)\n",
            "        (activation): ReLU()\n",
            "      )\n",
            "      (deconv): ConvTranspose2d(256, 256, kernel_size=(2, 2), stride=(2, 2))\n",
            "      (deconv_relu): ReLU()\n",
            "      (predictor): Conv2d(256, 498, kernel_size=(1, 1), stride=(1, 1))\n",
            "    )\n",
            "  )\n",
            ")\n",
            "\u001b[32m[01/31 12:31:59 d2.data.datasets.coco]: \u001b[0mLoading data/train/new_ann.json takes 3.09 seconds.\n",
            "\u001b[5m\u001b[31mWARNING\u001b[0m \u001b[32m[01/31 12:31:59 d2.data.datasets.coco]: \u001b[0m\n",
            "Category ids in annotations are not in [1, #categories]! We'll apply a mapping for you.\n",
            "\n",
            "\u001b[32m[01/31 12:31:59 d2.data.datasets.coco]: \u001b[0mLoaded 39962 images in COCO format from data/train/new_ann.json\n",
            "\u001b[32m[01/31 12:32:01 d2.data.build]: \u001b[0mRemoved 0 images with no usable annotations. 39962 images left.\n",
            "\u001b[32m[01/31 12:32:03 d2.data.dataset_mapper]: \u001b[0m[DatasetMapper] Augmentations used in training: [ResizeShortestEdge(short_edge_length=(640, 672, 704, 736, 768, 800), max_size=1333, sample_style='choice'), RandomFlip()]\n",
            "\u001b[32m[01/31 12:32:03 d2.data.build]: \u001b[0mUsing training sampler TrainingSampler\n",
            "\u001b[32m[01/31 12:32:03 d2.data.common]: \u001b[0mSerializing 39962 elements to byte tensors and concatenating them all ...\n",
            "\u001b[32m[01/31 12:32:03 d2.data.common]: \u001b[0mSerialized dataset takes 117.68 MiB\n",
            "\u001b[5m\u001b[31mWARNING\u001b[0m \u001b[32m[01/31 12:32:04 d2.solver.build]: \u001b[0mSOLVER.STEPS contains values larger than SOLVER.MAX_ITER. These values will be ignored.\n",
            "\u001b[32m[01/31 12:32:04 d2.engine.hooks]: \u001b[0mLoading scheduler from state_dict ...\n"
          ]
        }
      ],
      "source": [
        "#set if to true if you want to resume training\n",
        "RESUME = True\n",
        "trainer = DefaultTrainer(cfg) \n",
        "\n",
        "if RESUME:\n",
        "  trainer.resume_or_load(resume=True)\n",
        "else:\n",
        "  trainer.resume_or_load(resume=False)"
      ]
    },
    {
      "cell_type": "markdown",
      "metadata": {
        "id": "4xstkfNrfe16"
      },
      "source": [
        "# Training the Model 🚂\n",
        "\n",
        "Finally training our model!"
      ]
    },
    {
      "cell_type": "markdown",
      "metadata": {
        "id": "7f0PPXe2gNAF"
      },
      "source": [
        "### Start Training!!!"
      ]
    },
    {
      "cell_type": "code",
      "execution_count": null,
      "metadata": {
        "id": "lRA1kK2EgNWH"
      },
      "outputs": [],
      "source": [
        "trainer.train()"
      ]
    },
    {
      "cell_type": "markdown",
      "source": [
        "## Evaluating the Model on Validation Set!"
      ],
      "metadata": {
        "id": "QA8u4DAMdXP3"
      }
    },
    {
      "cell_type": "code",
      "source": [
        "# copy the trained model to content directory in colab\n",
        "!cp '/content/drive/MyDrive/logs_detectron2_r50/model_final.pth' /content/model_final.pth"
      ],
      "metadata": {
        "id": "jS3z1eHpfk2Q"
      },
      "execution_count": null,
      "outputs": []
    },
    {
      "cell_type": "code",
      "execution_count": null,
      "metadata": {
        "colab": {
          "base_uri": "https://localhost:8080/"
        },
        "id": "tr20Bx0lhHQF",
        "outputId": "29b93615-5389-4877-d455-6e262b11dfdc"
      },
      "outputs": [
        {
          "output_type": "stream",
          "name": "stdout",
          "text": [
            "\u001b[5m\u001b[31mWARNING\u001b[0m \u001b[32m[01/31 11:59:19 d2.evaluation.coco_evaluation]: \u001b[0mCOCO Evaluator instantiated using config, this is deprecated behavior. Please pass in explicit arguments instead.\n",
            "\u001b[5m\u001b[31mWARNING\u001b[0m \u001b[32m[01/31 11:59:19 d2.data.datasets.coco]: \u001b[0m\n",
            "Category ids in annotations are not in [1, #categories]! We'll apply a mapping for you.\n",
            "\n",
            "\u001b[32m[01/31 11:59:19 d2.data.datasets.coco]: \u001b[0mLoaded 1000 images in COCO format from data/val/new_ann.json\n",
            "\u001b[32m[01/31 11:59:20 d2.data.dataset_mapper]: \u001b[0m[DatasetMapper] Augmentations used in inference: [ResizeShortestEdge(short_edge_length=(800, 800), max_size=1333, sample_style='choice')]\n",
            "\u001b[32m[01/31 11:59:20 d2.data.common]: \u001b[0mSerializing 1000 elements to byte tensors and concatenating them all ...\n",
            "\u001b[32m[01/31 11:59:20 d2.data.common]: \u001b[0mSerialized dataset takes 1.58 MiB\n",
            "\u001b[32m[01/31 11:59:20 d2.evaluation.evaluator]: \u001b[0mStart inference on 1000 batches\n"
          ]
        },
        {
          "output_type": "stream",
          "name": "stderr",
          "text": [
            "/usr/local/lib/python3.7/dist-packages/detectron2/structures/image_list.py:88: UserWarning:\n",
            "\n",
            "__floordiv__ is deprecated, and its behavior will change in a future version of pytorch. It currently rounds toward 0 (like the 'trunc' function NOT 'floor'). This results in incorrect rounding for negative values. To keep the current behavior, use torch.div(a, b, rounding_mode='trunc'), or for actual floor division, use torch.div(a, b, rounding_mode='floor').\n",
            "\n"
          ]
        },
        {
          "output_type": "stream",
          "name": "stdout",
          "text": [
            "\u001b[32m[01/31 11:59:22 d2.evaluation.evaluator]: \u001b[0mInference done 11/1000. Dataloading: 0.0022 s/iter. Inference: 0.1114 s/iter. Eval: 0.0237 s/iter. Total: 0.1373 s/iter. ETA=0:02:15\n",
            "\u001b[32m[01/31 11:59:27 d2.evaluation.evaluator]: \u001b[0mInference done 47/1000. Dataloading: 0.0032 s/iter. Inference: 0.1187 s/iter. Eval: 0.0178 s/iter. Total: 0.1399 s/iter. ETA=0:02:13\n",
            "\u001b[32m[01/31 11:59:32 d2.evaluation.evaluator]: \u001b[0mInference done 95/1000. Dataloading: 0.0023 s/iter. Inference: 0.1046 s/iter. Eval: 0.0144 s/iter. Total: 0.1214 s/iter. ETA=0:01:49\n",
            "\u001b[32m[01/31 11:59:37 d2.evaluation.evaluator]: \u001b[0mInference done 141/1000. Dataloading: 0.0021 s/iter. Inference: 0.1018 s/iter. Eval: 0.0136 s/iter. Total: 0.1176 s/iter. ETA=0:01:41\n",
            "\u001b[32m[01/31 11:59:42 d2.evaluation.evaluator]: \u001b[0mInference done 189/1000. Dataloading: 0.0019 s/iter. Inference: 0.1000 s/iter. Eval: 0.0124 s/iter. Total: 0.1144 s/iter. ETA=0:01:32\n",
            "\u001b[32m[01/31 11:59:47 d2.evaluation.evaluator]: \u001b[0mInference done 235/1000. Dataloading: 0.0020 s/iter. Inference: 0.0991 s/iter. Eval: 0.0122 s/iter. Total: 0.1134 s/iter. ETA=0:01:26\n",
            "\u001b[32m[01/31 11:59:52 d2.evaluation.evaluator]: \u001b[0mInference done 281/1000. Dataloading: 0.0020 s/iter. Inference: 0.0988 s/iter. Eval: 0.0118 s/iter. Total: 0.1127 s/iter. ETA=0:01:21\n",
            "\u001b[32m[01/31 11:59:57 d2.evaluation.evaluator]: \u001b[0mInference done 328/1000. Dataloading: 0.0020 s/iter. Inference: 0.0983 s/iter. Eval: 0.0116 s/iter. Total: 0.1119 s/iter. ETA=0:01:15\n",
            "\u001b[32m[01/31 12:00:02 d2.evaluation.evaluator]: \u001b[0mInference done 373/1000. Dataloading: 0.0020 s/iter. Inference: 0.0986 s/iter. Eval: 0.0113 s/iter. Total: 0.1119 s/iter. ETA=0:01:10\n",
            "\u001b[32m[01/31 12:00:07 d2.evaluation.evaluator]: \u001b[0mInference done 417/1000. Dataloading: 0.0020 s/iter. Inference: 0.0987 s/iter. Eval: 0.0116 s/iter. Total: 0.1124 s/iter. ETA=0:01:05\n",
            "\u001b[32m[01/31 12:00:12 d2.evaluation.evaluator]: \u001b[0mInference done 464/1000. Dataloading: 0.0019 s/iter. Inference: 0.0982 s/iter. Eval: 0.0116 s/iter. Total: 0.1119 s/iter. ETA=0:00:59\n",
            "\u001b[32m[01/31 12:00:17 d2.evaluation.evaluator]: \u001b[0mInference done 510/1000. Dataloading: 0.0020 s/iter. Inference: 0.0982 s/iter. Eval: 0.0114 s/iter. Total: 0.1116 s/iter. ETA=0:00:54\n",
            "\u001b[32m[01/31 12:00:22 d2.evaluation.evaluator]: \u001b[0mInference done 550/1000. Dataloading: 0.0021 s/iter. Inference: 0.0983 s/iter. Eval: 0.0122 s/iter. Total: 0.1127 s/iter. ETA=0:00:50\n",
            "\u001b[32m[01/31 12:00:27 d2.evaluation.evaluator]: \u001b[0mInference done 592/1000. Dataloading: 0.0021 s/iter. Inference: 0.0984 s/iter. Eval: 0.0125 s/iter. Total: 0.1131 s/iter. ETA=0:00:46\n",
            "\u001b[32m[01/31 12:00:32 d2.evaluation.evaluator]: \u001b[0mInference done 639/1000. Dataloading: 0.0021 s/iter. Inference: 0.0980 s/iter. Eval: 0.0125 s/iter. Total: 0.1127 s/iter. ETA=0:00:40\n",
            "\u001b[32m[01/31 12:00:37 d2.evaluation.evaluator]: \u001b[0mInference done 686/1000. Dataloading: 0.0021 s/iter. Inference: 0.0976 s/iter. Eval: 0.0127 s/iter. Total: 0.1125 s/iter. ETA=0:00:35\n",
            "\u001b[32m[01/31 12:00:42 d2.evaluation.evaluator]: \u001b[0mInference done 733/1000. Dataloading: 0.0021 s/iter. Inference: 0.0972 s/iter. Eval: 0.0128 s/iter. Total: 0.1122 s/iter. ETA=0:00:29\n",
            "\u001b[32m[01/31 12:00:47 d2.evaluation.evaluator]: \u001b[0mInference done 781/1000. Dataloading: 0.0021 s/iter. Inference: 0.0970 s/iter. Eval: 0.0126 s/iter. Total: 0.1118 s/iter. ETA=0:00:24\n",
            "\u001b[32m[01/31 12:00:53 d2.evaluation.evaluator]: \u001b[0mInference done 829/1000. Dataloading: 0.0020 s/iter. Inference: 0.0968 s/iter. Eval: 0.0125 s/iter. Total: 0.1114 s/iter. ETA=0:00:19\n",
            "\u001b[32m[01/31 12:00:58 d2.evaluation.evaluator]: \u001b[0mInference done 876/1000. Dataloading: 0.0020 s/iter. Inference: 0.0966 s/iter. Eval: 0.0125 s/iter. Total: 0.1112 s/iter. ETA=0:00:13\n",
            "\u001b[32m[01/31 12:01:03 d2.evaluation.evaluator]: \u001b[0mInference done 920/1000. Dataloading: 0.0021 s/iter. Inference: 0.0964 s/iter. Eval: 0.0128 s/iter. Total: 0.1114 s/iter. ETA=0:00:08\n",
            "\u001b[32m[01/31 12:01:08 d2.evaluation.evaluator]: \u001b[0mInference done 961/1000. Dataloading: 0.0021 s/iter. Inference: 0.0961 s/iter. Eval: 0.0136 s/iter. Total: 0.1119 s/iter. ETA=0:00:04\n",
            "\u001b[32m[01/31 12:01:13 d2.evaluation.evaluator]: \u001b[0mInference done 999/1000. Dataloading: 0.0021 s/iter. Inference: 0.0960 s/iter. Eval: 0.0145 s/iter. Total: 0.1126 s/iter. ETA=0:00:00\n",
            "\u001b[32m[01/31 12:01:13 d2.evaluation.evaluator]: \u001b[0mTotal inference time: 0:01:52.250462 (0.112815 s / iter per device, on 1 devices)\n",
            "\u001b[32m[01/31 12:01:13 d2.evaluation.evaluator]: \u001b[0mTotal inference pure compute time: 0:01:35 (0.096029 s / iter per device, on 1 devices)\n",
            "\u001b[32m[01/31 12:01:13 d2.evaluation.coco_evaluation]: \u001b[0mPreparing results for COCO format ...\n",
            "\u001b[32m[01/31 12:01:13 d2.evaluation.coco_evaluation]: \u001b[0mSaving results to /content/drive/MyDrive/logs_detectron2_r50/coco_instances_results.json\n",
            "\u001b[32m[01/31 12:01:13 d2.evaluation.coco_evaluation]: \u001b[0mEvaluating predictions with unofficial COCO API...\n",
            "Loading and preparing results...\n",
            "DONE (t=0.02s)\n",
            "creating index...\n",
            "index created!\n",
            "\u001b[32m[01/31 12:01:13 d2.evaluation.fast_eval_api]: \u001b[0mEvaluate annotation type *bbox*\n",
            "\u001b[32m[01/31 12:01:22 d2.evaluation.fast_eval_api]: \u001b[0mCOCOeval_opt.evaluate() finished in 9.17 seconds.\n",
            "\u001b[32m[01/31 12:01:22 d2.evaluation.fast_eval_api]: \u001b[0mAccumulating evaluation results...\n",
            "\u001b[32m[01/31 12:01:24 d2.evaluation.fast_eval_api]: \u001b[0mCOCOeval_opt.accumulate() finished in 1.60 seconds.\n",
            " Average Precision  (AP) @[ IoU=0.50:0.95 | area=   all | maxDets=100 ] = 0.065\n",
            " Average Precision  (AP) @[ IoU=0.50      | area=   all | maxDets=100 ] = 0.130\n",
            " Average Precision  (AP) @[ IoU=0.75      | area=   all | maxDets=100 ] = 0.057\n",
            " Average Precision  (AP) @[ IoU=0.50:0.95 | area= small | maxDets=100 ] = 0.000\n",
            " Average Precision  (AP) @[ IoU=0.50:0.95 | area=medium | maxDets=100 ] = 0.025\n",
            " Average Precision  (AP) @[ IoU=0.50:0.95 | area= large | maxDets=100 ] = 0.070\n",
            " Average Recall     (AR) @[ IoU=0.50:0.95 | area=   all | maxDets=  1 ] = 0.116\n",
            " Average Recall     (AR) @[ IoU=0.50:0.95 | area=   all | maxDets= 10 ] = 0.127\n",
            " Average Recall     (AR) @[ IoU=0.50:0.95 | area=   all | maxDets=100 ] = 0.127\n",
            " Average Recall     (AR) @[ IoU=0.50:0.95 | area= small | maxDets=100 ] = 0.000\n",
            " Average Recall     (AR) @[ IoU=0.50:0.95 | area=medium | maxDets=100 ] = 0.030\n",
            " Average Recall     (AR) @[ IoU=0.50:0.95 | area= large | maxDets=100 ] = 0.136\n",
            "\u001b[32m[01/31 12:01:24 d2.evaluation.coco_evaluation]: \u001b[0mEvaluation results for bbox: \n",
            "|  AP   |  AP50  |  AP75  |  APs  |  APm  |  APl  |\n",
            "|:-----:|:------:|:------:|:-----:|:-----:|:-----:|\n",
            "| 6.522 | 13.004 | 5.664  | 0.000 | 2.518 | 6.980 |\n",
            "\u001b[32m[01/31 12:01:24 d2.evaluation.coco_evaluation]: \u001b[0mPer-category bbox AP: \n",
            "| category                                                                | AP     | category                                                         | AP     | category                                                                 | AP     |\n",
            "|:------------------------------------------------------------------------|:-------|:-----------------------------------------------------------------|:-------|:-------------------------------------------------------------------------|:-------|\n",
            "| beetroot-steamed-without-addition-of-salt                               | 11.469 | carrot-steamed-without-addition-of-salt                          | 0.000  | mushroom-average-stewed-without-addition-of-fat-without-addition-of-salt | 0.000  |\n",
            "| savoy-cabbage-steamed-without-addition-of-salt                          | nan    | zucchini-stewed-without-addition-of-fat-without-addition-of-salt | nan    | vanille-cream-cooked-custard-creme-dessert                               | nan    |\n",
            "| shrimp-boiled                                                           | 0.000  | spinach-steamed-without-addition-of-salt                         | 0.000  | spinach-raw                                                              | 0.000  |\n",
            "| green-bean-steamed-without-addition-of-salt                             | 0.000  | sweet-corn-canned                                                | 0.000  | watermelon-fresh                                                         | 9.185  |\n",
            "| pizza-with-ham-with-mushrooms-baked                                     | 0.000  | pizza-with-ham-baked                                             | 0.000  | pizza-with-vegetables-baked                                              | 2.805  |\n",
            "| bell-pepper-red-stewed-without-addition-of-fat-without-addition-of-salt | 0.000  | applesauce-unsweetened-canned                                    | 0.000  | quiche-with-cheese-baked-with-puff-pastry                                | 0.000  |\n",
            "| quiche-with-spinach-baked-with-cake-dough                               | 70.000 | risotto-with-mushrooms-cooked                                    | nan    | potato-salad-with-mayonnaise-yogurt-dressing                             | 0.000  |\n",
            "| wienerli-swiss-sausage                                                  | 0.000  | curds-natural-with-at-most-10-fidm                               | 0.000  | tuna-in-oil-drained                                                      | nan    |\n",
            "| tomato-stewed-without-addition-of-fat-without-addition-of-salt          | 0.000  | sweet-potato                                                     | 0.000  | country-fries                                                            | 3.366  |\n",
            "| potato-gnocchi                                                          | 0.000  | potatoes-steamed                                                 | 2.868  | chips-french-fries                                                       | 23.028 |\n",
            "| rosti                                                                   | 0.000  | vegetable-mix-peas-and-carrots                                   | 0.000  | coleslaw-chopped-without-sauce                                           | nan    |\n",
            "| vegetables                                                              | 0.000  | mixed-vegetables                                                 | 2.523  | ratatouille                                                              | 0.000  |\n",
            "| mixed-salad-chopped-without-sauce                                       | 10.651 | leaf-spinach                                                     | 1.037  | witloof-chicory                                                          | 0.000  |\n",
            "| salad-rocket                                                            | 1.073  | salad-leaf-salad-green                                           | 25.492 | salad-lambs-ear                                                          | 25.050 |\n",
            "| artichoke                                                               | nan    | eggplant                                                         | 0.000  | avocado                                                                  | 5.153  |\n",
            "| french-beans                                                            | 10.066 | cucumber-pickled                                                 | 0.000  | cucumber                                                                 | 9.994  |\n",
            "| capers                                                                  | 0.000  | pumpkin                                                          | 0.000  | bell-pepper-red-raw                                                      | 2.749  |\n",
            "| tomato-raw                                                              | 4.378  | zucchini                                                         | 0.000  | red-radish                                                               | 1.545  |\n",
            "| beetroot-raw                                                            | 0.000  | white-radish                                                     | nan    | carrot-raw                                                               | 9.086  |\n",
            "| celeriac                                                                | nan    | cauliflower                                                      | 0.743  | broccoli                                                                 | 5.262  |\n",
            "| chinese-cabbage                                                         | 0.000  | kolhrabi                                                         | 0.000  | romanesco                                                                | 0.000  |\n",
            "| brussel-sprouts                                                         | 0.000  | red-cabbage                                                      | 12.500 | sauerkraut                                                               | 0.000  |\n",
            "| white-cabbage                                                           | nan    | mushroom                                                         | 0.000  | mushrooms                                                                | 0.000  |\n",
            "| peas                                                                    | 0.000  | corn                                                             | 15.149 | spring-onion-scallion                                                    | 0.000  |\n",
            "| garlic                                                                  | 0.000  | leek                                                             | 0.000  | pearl-onions                                                             | nan    |\n",
            "| onion                                                                   | 0.000  | fennel                                                           | 3.366  | swiss-chard                                                              | 0.000  |\n",
            "| mungbean-sprouts                                                        | nan    | green-asparagus                                                  | 0.000  | white-asparagus                                                          | nan    |\n",
            "| shoots                                                                  | 0.000  | alfa-sprouts                                                     | nan    | celery                                                                   | 0.000  |\n",
            "| bean-seeds                                                              | nan    | beans-kidney                                                     | 0.000  | beans-white                                                              | 0.000  |\n",
            "| chickpeas                                                               | 8.267  | lentils                                                          | 0.421  | pineapple                                                                | 0.000  |\n",
            "| apple                                                                   | 21.625 | pomegranate                                                      | 0.000  | apricots                                                                 | 5.891  |\n",
            "| banana                                                                  | 32.386 | berries                                                          | 0.000  | pear                                                                     | 12.067 |\n",
            "| blackberry                                                              | nan    | dates                                                            | 12.634 | strawberries                                                             | 38.699 |\n",
            "| figs                                                                    | 16.832 | fruit-salad                                                      | 80.000 | grapefruit-pomelo                                                        | 7.855  |\n",
            "| blueberries                                                             | 16.393 | raspberries                                                      | 4.455  | kaki                                                                     | 1.443  |\n",
            "| cherries                                                                | 0.000  | kiwi                                                             | 18.869 | mandarine                                                                | 18.469 |\n",
            "| mango                                                                   | 10.000 | sugar-melon                                                      | 31.832 | nectarine                                                                | 0.000  |\n",
            "| orange                                                                  | 9.407  | peach                                                            | 19.632 | plums                                                                    | 7.904  |\n",
            "| grapes                                                                  | 18.994 | dried-raisins                                                    | 0.000  | lemon                                                                    | 0.000  |\n",
            "| damson-plum                                                             | 0.000  | peanut-butter                                                    | 0.000  | chestnuts                                                                | 7.723  |\n",
            "| seeds                                                                   | 0.000  | pumpkin-seeds                                                    | 0.000  | pine-nuts                                                                | 0.000  |\n",
            "| sunflower-seeds                                                         | 0.000  | mixed-seeds                                                      | nan    | almonds                                                                  | 40.495 |\n",
            "| nuts                                                                    | nan    | walnut                                                           | 32.970 | cashew-nut                                                               | 5.050  |\n",
            "| peanut                                                                  | 0.000  | hazelnut                                                         | 11.535 | coconut                                                                  | 0.000  |\n",
            "| brazil-nut                                                              | 0.000  | pecan-nut                                                        | 80.000 | mixed-nuts                                                               | 19.337 |\n",
            "| pistachio                                                               | 30.297 | linseeds                                                         | 0.000  | sesame-seeds                                                             | 0.000  |\n",
            "| green-olives                                                            | 0.000  | black-olives                                                     | 0.099  | milk                                                                     | 2.055  |\n",
            "| kefir-drink                                                             | 0.000  | coconut-milk                                                     | 0.000  | soya-drink-soy-milk                                                      | 0.000  |\n",
            "| soya-yaourt-yahourt-yogourt-ou-yoghourt                                 | 0.000  | cottage-cheese                                                   | 0.000  | curd                                                                     | nan    |\n",
            "| blue-mould-cheese                                                       | 0.000  | brie                                                             | 0.000  | cheddar                                                                  | 0.000  |\n",
            "| emmental-cheese                                                         | 0.000  | feta                                                             | 0.000  | fondue                                                                   | 29.109 |\n",
            "| fresh-cheese                                                            | 0.000  | gruyere                                                          | 0.426  | semi-hard-cheese                                                         | 0.000  |\n",
            "| halloumi                                                                | 0.000  | hard-cheese                                                      | 2.263  | cheese                                                                   | 1.055  |\n",
            "| mozzarella                                                              | 0.000  | parmesan                                                         | 2.873  | philadelphia                                                             | 0.000  |\n",
            "| cheese-for-raclette                                                     | 16.667 | cream-cheese                                                     | 0.000  | processed-cheese                                                         | 0.000  |\n",
            "| tete-de-moine                                                           | 0.000  | tomme                                                            | 0.000  | soft-cheese                                                              | 0.000  |\n",
            "| mousse                                                                  | nan    | panna-cotta                                                      | nan    | tiramisu                                                                 | 80.000 |\n",
            "| cream                                                                   | 0.000  | sour-cream                                                       | 0.000  | thickened-cream-35                                                       | nan    |\n",
            "| dairy-ice-cream                                                         | 1.160  | sorbet                                                           | 0.000  | flakes-oat                                                               | 0.000  |\n",
            "| rice-noodles-vermicelli                                                 | 0.000  | bulgur                                                           | 0.000  | couscous                                                                 | 0.000  |\n",
            "| ebly                                                                    | 0.000  | grits-polenta-maize-flour                                        | 3.805  | quinoa                                                                   | 2.693  |\n",
            "| rice                                                                    | 8.469  | rice-basmati                                                     | 8.531  | rice-jasmin                                                              | nan    |\n",
            "| rice-whole-grain                                                        | 0.000  | rice-wild                                                        | 0.000  | spaetzle                                                                 | 5.050  |\n",
            "| pasta                                                                   | 8.720  | pasta-hornli                                                     | 0.000  | pasta-in-butterfly-form-farfalle                                         | 0.000  |\n",
            "| pasta-linguini-parpadelle-tagliatelle                                   | 15.446 | pasta-in-conch-form                                              | 0.000  | pasta-noodles                                                            | 19.685 |\n",
            "| pasta-penne                                                             | 3.196  | pasta-ravioli-stuffing                                           | 0.000  | pasta-spaghetti                                                          | 20.693 |\n",
            "| pasta-twist                                                             | 26.733 | pasta-tortelloni-stuffing                                        | nan    | pasta-wholemeal                                                          | 0.000  |\n",
            "| bagel-without-filling                                                   | 0.000  | bread-french-white-flour                                         | 6.059  | bread                                                                    | 0.000  |\n",
            "| bread-5-grain                                                           | nan    | bread-spelt                                                      | 0.000  | bread-fruit                                                              | 0.000  |\n",
            "| bread-half-white                                                        | 1.136  | bread-grain                                                      | 6.335  | bread-nut                                                                | nan    |\n",
            "| bread-olive                                                             | 0.000  | bread-pita                                                       | 0.000  | bread-rye                                                                | 25.248 |\n",
            "| bread-whole-wheat                                                       | 4.367  | bread-sourdough                                                  | 3.366  | bread-black                                                              | 0.000  |\n",
            "| bread-ticino                                                            | 60.000 | bread-toast                                                      | 8.158  | bread-wholemeal-toast                                                    | 11.584 |\n",
            "| bread-wholemeal                                                         | 10.127 | bread-white                                                      | 18.696 | brioche                                                                  | 0.000  |\n",
            "| roll-of-half-white-or-white-flour-with-large-void                       | 36.898 | hamburger-bun                                                    | 0.000  | roll-with-pieces-of-chocolate                                            | 3.030  |\n",
            "| white-bread-with-butter-eggs-and-milk                                   | 0.000  | focaccia                                                         | 0.000  | croissant                                                                | 38.350 |\n",
            "| croissant-wholegrain                                                    | 0.000  | lye-pretzel-soft                                                 | 17.756 | braided-white-loaf                                                       | 15.445 |\n",
            "| crisp-bread-wasa                                                        | nan    | breadcrumbs-unspiced                                             | 0.000  | rice-waffels                                                             | 0.000  |\n",
            "| grissini                                                                | 70.000 | rusk-wholemeal                                                   | 0.000  | corn-flakes                                                              | nan    |\n",
            "| crunch-muesli                                                           | 34.389 | muesli                                                           | 26.766 | dough-puff-pastry-shortcrust-bread-pizza-dough                           | nan    |\n",
            "| pastry-flaky                                                            | nan    | meat                                                             | 0.000  | minced-meat                                                              | nan    |\n",
            "| beef                                                                    | 0.000  | beef-roast                                                       | 0.000  | beef-sirloin-steak                                                       | 3.030  |\n",
            "| beef-filet                                                              | nan    | beef-minced-only-meat                                            | 0.000  | beef-cut-into-stripes-only-meat                                          | 0.000  |\n",
            "| pork                                                                    | 0.000  | pork-roast                                                       | 0.000  | pork-chop                                                                | nan    |\n",
            "| pork-escalope                                                           | nan    | lamb                                                             | nan    | lamb-chop                                                                | 0.000  |\n",
            "| chicken                                                                 | 0.000  | chicken-breast                                                   | 0.000  | chicken-wing                                                             | nan    |\n",
            "| chicken-cut-into-stripes-only-meat                                      | 0.000  | chicken-leg                                                      | 0.000  | frying-sausage                                                           | 16.667 |\n",
            "| cervelat                                                                | 0.000  | chicken-nuggets                                                  | 0.000  | chorizo                                                                  | 0.000  |\n",
            "| meatloaf                                                                | 0.000  | hamburger                                                        | 0.000  | dried-meat                                                               | 20.561 |\n",
            "| veal-sausage                                                            | 0.000  | processed-meat-charcuterie                                       | nan    | salami                                                                   | 5.050  |\n",
            "| cooked-sausage                                                          | nan    | ham                                                              | 0.000  | ham-cooked                                                               | 0.000  |\n",
            "| ham-raw                                                                 | 4.301  | ham-turkey                                                       | 0.000  | smoked-cooked-sausage-of-pork-and-beef-meat-sausag                       | nan    |\n",
            "| bacon                                                                   | nan    | bacon-frying                                                     | 0.000  | bacon-cooking                                                            | 0.000  |\n",
            "| bacon-raw                                                               | 0.000  | meat-terrine-pate                                                | 0.000  | sausage                                                                  | 0.000  |\n",
            "| veggie-burger                                                           | 0.000  | tofu                                                             | 0.000  | fish                                                                     | 0.000  |\n",
            "| cod                                                                     | 0.000  | salmon                                                           | 0.000  | anchovies                                                                | 0.000  |\n",
            "| tuna                                                                    | nan    | shrimp-prawn-small                                               | nan    | shrimp-prawn-large                                                       | 0.000  |\n",
            "| fish-crunchies-battered                                                 | nan    | fish-fingers-breaded                                             | 0.000  | egg                                                                      | 4.906  |\n",
            "| oil                                                                     | 0.000  | butter                                                           | 9.019  | butter-herb                                                              | 0.000  |\n",
            "| margarine                                                               | 0.000  | praline                                                          | 1.250  | jam                                                                      | 18.228 |\n",
            "| honey                                                                   | 5.041  | sugar-glazing                                                    | nan    | maple-syrup-concentrate                                                  | 0.000  |\n",
            "| dark-chocolate                                                          | 15.024 | milk-chocolate                                                   | 40.886 | white-chocolate                                                          | nan    |\n",
            "| chocolate                                                               | 1.443  | chocolate-filled                                                 | nan    | cocoa-powder                                                             | nan    |\n",
            "| hazelnut-chocolate-spread-nutella-ovomaltine-caotina                    | 4.158  | m-m-s                                                            | 11.023 | chocolate-egg-small                                                      | 50.000 |\n",
            "| sweets-candies                                                          | 0.000  | gummi-bears-fruit-jellies-jelly-babies-with-fruit-essence        | nan    | apple-pie                                                                | 0.000  |\n",
            "| brownie                                                                 | nan    | cake-oblong                                                      | 0.000  | lemon-cake                                                               | nan    |\n",
            "| crepe-plain                                                             | 21.490 | fruit-tart                                                       | 20.000 | cake-marble                                                              | 0.000  |\n",
            "| cake-chocolate                                                          | 6.312  | muffin                                                           | 5.170  | omelette-plain                                                           | 0.000  |\n",
            "| carrot-cake                                                             | 0.000  | black-forest-tart                                                | 0.000  | tart                                                                     | 25.000 |\n",
            "| waffle                                                                  | nan    | croissant-with-chocolate-filling                                 | 0.000  | cookies                                                                  | 26.312 |\n",
            "| biscuits                                                                | 1.063  | macaroon                                                         | 0.000  | meringue                                                                 | 0.000  |\n",
            "| biscuit-with-butter                                                     | 0.000  | chocolate-cookies                                                | 16.584 | juice-apple                                                              | 1.056  |\n",
            "| juice-multifruit                                                        | 0.000  | juice-orange                                                     | nan    | smoothie                                                                 | nan    |\n",
            "| coca-cola                                                               | nan    | coca-cola-zero                                                   | 19.472 | ice-tea                                                                  | nan    |\n",
            "| syrup-diluted-ready-to-drink                                            | 0.833  | tea                                                              | 7.909  | cappuccino                                                               | 18.663 |\n",
            "| espresso-with-caffeine                                                  | 5.474  | coffee-with-caffeine                                             | 12.061 | coffee-decaffeinated                                                     | 0.000  |\n",
            "| latte-macchiato-with-caffeine                                           | 0.000  | white-coffee-with-caffeine                                       | 10.765 | ristretto-with-caffeine                                                  | 2.394  |\n",
            "| tea-green                                                               | 0.187  | tea-black                                                        | nan    | tea-verveine                                                             | nan    |\n",
            "| tea-fruit                                                               | nan    | tea-spice                                                        | nan    | tea-ginger                                                               | nan    |\n",
            "| herbal-tea                                                              | 5.445  | tea-peppermint                                                   | 5.014  | tea-rooibos                                                              | 0.000  |\n",
            "| ice-cubes                                                               | nan    | water                                                            | 28.784 | water-mineral                                                            | 8.465  |\n",
            "| aperitif-with-alcohol-aperol-spritz                                     | nan    | cocktail                                                         | 70.000 | champagne                                                                | 0.000  |\n",
            "| prosecco                                                                | 0.000  | sekt                                                             | 0.000  | wine-rose                                                                | 27.211 |\n",
            "| wine-red                                                                | 49.726 | wine-white                                                       | 12.893 | beer                                                                     | 7.942  |\n",
            "| light-beer                                                              | 0.000  | sauce-savoury                                                    | 0.000  | sauce-roast                                                              | 0.000  |\n",
            "| sauce-carbonara                                                         | nan    | sauce-cocktail                                                   | 0.000  | sauce-curry                                                              | 0.000  |\n",
            "| sauce-pesto                                                             | 0.000  | sauce-mushroom                                                   | 0.000  | sauce-cream                                                              | 0.000  |\n",
            "| sauce-sweet-sour                                                        | 0.000  | ketchup                                                          | 0.000  | bolognaise-sauce                                                         | 13.465 |\n",
            "| tomato-sauce                                                            | 0.715  | dips                                                             | nan    | salad-dressing                                                           | 0.000  |\n",
            "| balsamic-salad-dressing                                                 | 0.000  | french-salad-dressing                                            | 5.047  | italian-salad-dressing                                                   | 0.000  |\n",
            "| oil-vinegar-salad-dressing                                              | 0.000  | guacamole                                                        | 0.000  | mayonnaise                                                               | 0.000  |\n",
            "| tartar-sauce                                                            | 0.000  | tzatziki                                                         | 0.000  | basil                                                                    | 0.000  |\n",
            "| coriander                                                               | 0.000  | bouquet-garni                                                    | 0.000  | parsley                                                                  | 0.000  |\n",
            "| chives                                                                  | 0.000  | cenovis-yeast-spread                                             | nan    | sauce-soya                                                               | 0.000  |\n",
            "| mustard                                                                 | 0.000  | mustard-dijon                                                    | nan    | balsamic-vinegar                                                         | nan    |\n",
            "| soup-vegetable                                                          | 24.491 | soup-cream-of-vegetables                                         | 25.248 | soup-potato                                                              | 8.333  |\n",
            "| soup-pumpkin                                                            | 19.279 | soup-miso                                                        | 16.667 | soup-tomato                                                              | 10.099 |\n",
            "| bouillon                                                                | 0.000  | bouillon-vegetable                                               | 0.000  | falafel-balls                                                            | 0.000  |\n",
            "| savoury-puff-pastry                                                     | nan    | savoury-puff-pastry-stick                                        | 0.000  | corn-crisps                                                              | nan    |\n",
            "| crackers                                                                | 0.000  | croutons                                                         | 0.000  | crisps                                                                   | 0.259  |\n",
            "| popcorn-salted                                                          | 37.884 | croque-monsieur                                                  | 0.000  | spring-roll-fried                                                        | 0.000  |\n",
            "| ham-croissant                                                           | nan    | salt-cake-vegetables-filled                                      | nan    | hamburger-bread-meat-ketchup                                             | 6.796  |\n",
            "| cordon-bleu-from-pork-schnitzel-fried                                   | 3.366  | lasagne-meat-prepared                                            | 28.317 | mashed-potatoes-prepared-with-full-fat-milk-with-butter                  | 0.000  |\n",
            "| pizza-margherita-baked                                                  | 11.169 | sandwich-ham-cheese-and-butter                                   | nan    | sushi                                                                    | 2.079  |\n",
            "| kebab-in-pita-bread                                                     | 0.000  | pancakes                                                         | nan    | hummus                                                                   | 0.000  |\n",
            "| greek-salad                                                             | 0.000  | dumplings                                                        | nan    | apricot-dried                                                            | 0.000  |\n",
            "| chocolate-mousse                                                        | nan    | cheesecake                                                       | 0.000  | caprese-salad-tomato-mozzarella                                          | 0.000  |\n",
            "| chili-con-carne-prepared                                                | 60.000 | taboule-prepared-with-couscous                                   | nan    | perch-fillets-lake                                                       | nan    |\n",
            "| risotto-without-cheese-cooked                                           | 14.543 | salmon-smoked                                                    | 1.545  | pie-apricot-baked-with-cake-dough                                        | 0.000  |\n",
            "| eggplant-caviar                                                         | 0.000  | apple-crumble                                                    | nan    | egg-scrambled-prepared                                                   | 5.891  |\n",
            "| oat-milk                                                                | 0.000  | lemon-pie                                                        | nan    | glucose-drink-50g                                                        | 7.539  |\n",
            "| goat-average-raw                                                        | nan    | pie-rhubarb-baked-with-cake-dough                                | nan    | chicken-curry-cream-coconut-milk-curry-spices-paste                      | nan    |\n",
            "| pie-plum-baked-with-cake-dough                                          | 31.149 | potatoes-au-gratin-dauphinois-prepared                           | 0.000  | buckwheat-grain-peeled                                                   | nan    |\n",
            "| birchermuesli-prepared-no-sugar-added                                   | 3.432  | fajita-bread-only                                                | 0.000  | mango-dried                                                              | 0.000  |\n",
            "| lentils-green-du-puy-du-berry                                           | 0.000  | naan-indien-bread                                                | nan    | butter-spread-puree-almond                                               | 0.000  |\n",
            "| chocolate-milk-chocolate-drink                                          | nan    | water-with-lemon-juice                                           | 2.459  | sun-dried-tomatoe                                                        | 0.000  |\n",
            "| gluten-free-bread                                                       | 0.000  | fruit-coulis                                                     | 0.000  | greek-yaourt-yahourt-yogourt-ou-yoghourt                                 | 0.000  |\n",
            "| cake-salted                                                             | 0.000  | soup-of-lentils-dahl-dhal                                        | nan    | fig-dried                                                                | 0.000  |\n",
            "| turnover-with-meat-small-meat-pie-empanadas                             | 0.000  | lasagne-vegetable-prepared                                       | 0.000  | sauce-sweet-salted-asian                                                 | 0.000  |\n",
            "| french-pizza-from-alsace-baked                                          | 0.000  | fruit-compotes                                                   | nan    | vegetable-au-gratin-baked                                                | 0.000  |\n",
            "| porridge-prepared-with-partially-skimmed-milk                           | nan    | curry-vegetarian                                                 | nan    | bread-meat-substitute-lettuce-sauce                                      | 8.079  |\n",
            "| tartar-meat                                                             | 0.000  | chia-grains                                                      | nan    | faux-mage-cashew-vegan-chers                                             | 0.000  |\n",
            "| milk-chocolate-with-hazelnuts                                           | 38.020 | yaourt-yahourt-yogourt-ou-yoghourt-natural                       | 10.612 | paprika-chips                                                            | nan    |\n",
            "| banana-cake                                                             | 14.554 | cream-spinach                                                    | nan    | cantonese-fried-rice                                                     | 0.000  |\n",
            "| goat-cheese-soft                                                        | 0.000  | buckwheat-pancake                                                | 0.000  | meat-balls                                                               | 0.000  |\n",
            "| high-protein-pasta-made-of-lentils-peas                                 | 0.000  | mix-of-dried-fruits-and-nuts                                     | 60.000 | baked-potato                                                             | 3.465  |\n",
            "Loading and preparing results...\n",
            "DONE (t=0.19s)\n",
            "creating index...\n",
            "index created!\n",
            "\u001b[32m[01/31 12:01:25 d2.evaluation.fast_eval_api]: \u001b[0mEvaluate annotation type *segm*\n",
            "\u001b[32m[01/31 12:01:33 d2.evaluation.fast_eval_api]: \u001b[0mCOCOeval_opt.evaluate() finished in 7.89 seconds.\n",
            "\u001b[32m[01/31 12:01:33 d2.evaluation.fast_eval_api]: \u001b[0mAccumulating evaluation results...\n",
            "\u001b[32m[01/31 12:01:34 d2.evaluation.fast_eval_api]: \u001b[0mCOCOeval_opt.accumulate() finished in 1.60 seconds.\n",
            " Average Precision  (AP) @[ IoU=0.50:0.95 | area=   all | maxDets=100 ] = 0.092\n",
            " Average Precision  (AP) @[ IoU=0.50      | area=   all | maxDets=100 ] = 0.148\n",
            " Average Precision  (AP) @[ IoU=0.75      | area=   all | maxDets=100 ] = 0.095\n",
            " Average Precision  (AP) @[ IoU=0.50:0.95 | area= small | maxDets=100 ] = 0.000\n",
            " Average Precision  (AP) @[ IoU=0.50:0.95 | area=medium | maxDets=100 ] = 0.016\n",
            " Average Precision  (AP) @[ IoU=0.50:0.95 | area= large | maxDets=100 ] = 0.099\n",
            " Average Recall     (AR) @[ IoU=0.50:0.95 | area=   all | maxDets=  1 ] = 0.165\n",
            " Average Recall     (AR) @[ IoU=0.50:0.95 | area=   all | maxDets= 10 ] = 0.175\n",
            " Average Recall     (AR) @[ IoU=0.50:0.95 | area=   all | maxDets=100 ] = 0.175\n",
            " Average Recall     (AR) @[ IoU=0.50:0.95 | area= small | maxDets=100 ] = 0.000\n",
            " Average Recall     (AR) @[ IoU=0.50:0.95 | area=medium | maxDets=100 ] = 0.032\n",
            " Average Recall     (AR) @[ IoU=0.50:0.95 | area= large | maxDets=100 ] = 0.188\n",
            "\u001b[32m[01/31 12:01:35 d2.evaluation.coco_evaluation]: \u001b[0mEvaluation results for segm: \n",
            "|  AP   |  AP50  |  AP75  |  APs  |  APm  |  APl  |\n",
            "|:-----:|:------:|:------:|:-----:|:-----:|:-----:|\n",
            "| 9.197 | 14.805 | 9.489  | 0.000 | 1.623 | 9.941 |\n",
            "\u001b[32m[01/31 12:01:35 d2.evaluation.coco_evaluation]: \u001b[0mPer-category segm AP: \n",
            "| category                                                                | AP     | category                                                         | AP      | category                                                                 | AP     |\n",
            "|:------------------------------------------------------------------------|:-------|:-----------------------------------------------------------------|:--------|:-------------------------------------------------------------------------|:-------|\n",
            "| beetroot-steamed-without-addition-of-salt                               | 8.880  | carrot-steamed-without-addition-of-salt                          | 0.000   | mushroom-average-stewed-without-addition-of-fat-without-addition-of-salt | 0.000  |\n",
            "| savoy-cabbage-steamed-without-addition-of-salt                          | nan    | zucchini-stewed-without-addition-of-fat-without-addition-of-salt | nan     | vanille-cream-cooked-custard-creme-dessert                               | nan    |\n",
            "| shrimp-boiled                                                           | 0.000  | spinach-steamed-without-addition-of-salt                         | 0.000   | spinach-raw                                                              | 0.000  |\n",
            "| green-bean-steamed-without-addition-of-salt                             | 0.000  | sweet-corn-canned                                                | 0.000   | watermelon-fresh                                                         | 24.995 |\n",
            "| pizza-with-ham-with-mushrooms-baked                                     | 0.000  | pizza-with-ham-baked                                             | 0.000   | pizza-with-vegetables-baked                                              | 3.927  |\n",
            "| bell-pepper-red-stewed-without-addition-of-fat-without-addition-of-salt | 0.000  | applesauce-unsweetened-canned                                    | 0.000   | quiche-with-cheese-baked-with-puff-pastry                                | 0.000  |\n",
            "| quiche-with-spinach-baked-with-cake-dough                               | 40.000 | risotto-with-mushrooms-cooked                                    | nan     | potato-salad-with-mayonnaise-yogurt-dressing                             | 0.000  |\n",
            "| wienerli-swiss-sausage                                                  | 0.000  | curds-natural-with-at-most-10-fidm                               | 0.000   | tuna-in-oil-drained                                                      | nan    |\n",
            "| tomato-stewed-without-addition-of-fat-without-addition-of-salt          | 0.000  | sweet-potato                                                     | 0.000   | country-fries                                                            | 3.366  |\n",
            "| potato-gnocchi                                                          | 0.000  | potatoes-steamed                                                 | 12.805  | chips-french-fries                                                       | 39.535 |\n",
            "| rosti                                                                   | 0.000  | vegetable-mix-peas-and-carrots                                   | 0.000   | coleslaw-chopped-without-sauce                                           | nan    |\n",
            "| vegetables                                                              | 0.000  | mixed-vegetables                                                 | 1.289   | ratatouille                                                              | 0.000  |\n",
            "| mixed-salad-chopped-without-sauce                                       | 23.891 | leaf-spinach                                                     | 6.007   | witloof-chicory                                                          | 0.000  |\n",
            "| salad-rocket                                                            | 2.919  | salad-leaf-salad-green                                           | 27.667  | salad-lambs-ear                                                          | 46.278 |\n",
            "| artichoke                                                               | nan    | eggplant                                                         | 0.000   | avocado                                                                  | 9.851  |\n",
            "| french-beans                                                            | 16.013 | cucumber-pickled                                                 | 0.000   | cucumber                                                                 | 12.092 |\n",
            "| capers                                                                  | 0.000  | pumpkin                                                          | 0.000   | bell-pepper-red-raw                                                      | 0.911  |\n",
            "| tomato-raw                                                              | 8.917  | zucchini                                                         | 7.129   | red-radish                                                               | 8.495  |\n",
            "| beetroot-raw                                                            | 0.000  | white-radish                                                     | nan     | carrot-raw                                                               | 8.166  |\n",
            "| celeriac                                                                | nan    | cauliflower                                                      | 0.000   | broccoli                                                                 | 5.261  |\n",
            "| chinese-cabbage                                                         | 0.000  | kolhrabi                                                         | 6.733   | romanesco                                                                | 0.000  |\n",
            "| brussel-sprouts                                                         | 0.000  | red-cabbage                                                      | 20.000  | sauerkraut                                                               | 0.000  |\n",
            "| white-cabbage                                                           | nan    | mushroom                                                         | 0.000   | mushrooms                                                                | 0.000  |\n",
            "| peas                                                                    | 0.000  | corn                                                             | 23.564  | spring-onion-scallion                                                    | 0.000  |\n",
            "| garlic                                                                  | 0.000  | leek                                                             | 0.000   | pearl-onions                                                             | nan    |\n",
            "| onion                                                                   | 0.000  | fennel                                                           | 16.832  | swiss-chard                                                              | 0.000  |\n",
            "| mungbean-sprouts                                                        | nan    | green-asparagus                                                  | 0.000   | white-asparagus                                                          | nan    |\n",
            "| shoots                                                                  | 0.000  | alfa-sprouts                                                     | nan     | celery                                                                   | 0.000  |\n",
            "| bean-seeds                                                              | nan    | beans-kidney                                                     | 0.000   | beans-white                                                              | 0.000  |\n",
            "| chickpeas                                                               | 7.096  | lentils                                                          | 0.842   | pineapple                                                                | 0.000  |\n",
            "| apple                                                                   | 35.492 | pomegranate                                                      | 0.000   | apricots                                                                 | 7.574  |\n",
            "| banana                                                                  | 36.262 | berries                                                          | 0.000   | pear                                                                     | 19.546 |\n",
            "| blackberry                                                              | nan    | dates                                                            | 14.653  | strawberries                                                             | 45.928 |\n",
            "| figs                                                                    | 26.931 | fruit-salad                                                      | 100.000 | grapefruit-pomelo                                                        | 6.733  |\n",
            "| blueberries                                                             | 11.879 | raspberries                                                      | 7.354   | kaki                                                                     | 2.885  |\n",
            "| cherries                                                                | 13.465 | kiwi                                                             | 24.373  | mandarine                                                                | 36.373 |\n",
            "| mango                                                                   | 70.000 | sugar-melon                                                      | 37.030  | nectarine                                                                | 0.000  |\n",
            "| orange                                                                  | 16.459 | peach                                                            | 37.765  | plums                                                                    | 6.922  |\n",
            "| grapes                                                                  | 36.125 | dried-raisins                                                    | 0.000   | lemon                                                                    | 0.000  |\n",
            "| damson-plum                                                             | 0.000  | peanut-butter                                                    | 0.000   | chestnuts                                                                | 7.723  |\n",
            "| seeds                                                                   | 0.000  | pumpkin-seeds                                                    | 0.000   | pine-nuts                                                                | 0.000  |\n",
            "| sunflower-seeds                                                         | 0.000  | mixed-seeds                                                      | nan     | almonds                                                                  | 47.070 |\n",
            "| nuts                                                                    | nan    | walnut                                                           | 36.634  | cashew-nut                                                               | 10.099 |\n",
            "| peanut                                                                  | 0.000  | hazelnut                                                         | 6.040   | coconut                                                                  | 0.000  |\n",
            "| brazil-nut                                                              | 0.000  | pecan-nut                                                        | 80.000  | mixed-nuts                                                               | 55.040 |\n",
            "| pistachio                                                               | 45.446 | linseeds                                                         | 0.000   | sesame-seeds                                                             | 0.000  |\n",
            "| green-olives                                                            | 3.366  | black-olives                                                     | 0.594   | milk                                                                     | 1.683  |\n",
            "| kefir-drink                                                             | 0.000  | coconut-milk                                                     | 0.000   | soya-drink-soy-milk                                                      | 0.000  |\n",
            "| soya-yaourt-yahourt-yogourt-ou-yoghourt                                 | 0.000  | cottage-cheese                                                   | 0.000   | curd                                                                     | nan    |\n",
            "| blue-mould-cheese                                                       | 0.000  | brie                                                             | 0.000   | cheddar                                                                  | 0.000  |\n",
            "| emmental-cheese                                                         | 0.000  | feta                                                             | 0.000   | fondue                                                                   | 26.436 |\n",
            "| fresh-cheese                                                            | 0.000  | gruyere                                                          | 4.625   | semi-hard-cheese                                                         | 0.000  |\n",
            "| halloumi                                                                | 0.000  | hard-cheese                                                      | 2.994   | cheese                                                                   | 2.284  |\n",
            "| mozzarella                                                              | 0.000  | parmesan                                                         | 14.208  | philadelphia                                                             | 0.000  |\n",
            "| cheese-for-raclette                                                     | 26.667 | cream-cheese                                                     | 0.000   | processed-cheese                                                         | 0.000  |\n",
            "| tete-de-moine                                                           | 0.000  | tomme                                                            | 0.000   | soft-cheese                                                              | 0.000  |\n",
            "| mousse                                                                  | nan    | panna-cotta                                                      | nan     | tiramisu                                                                 | 70.000 |\n",
            "| cream                                                                   | 0.000  | sour-cream                                                       | 0.000   | thickened-cream-35                                                       | nan    |\n",
            "| dairy-ice-cream                                                         | 5.180  | sorbet                                                           | 0.000   | flakes-oat                                                               | 0.000  |\n",
            "| rice-noodles-vermicelli                                                 | 0.000  | bulgur                                                           | 0.000   | couscous                                                                 | 0.000  |\n",
            "| ebly                                                                    | 0.000  | grits-polenta-maize-flour                                        | 7.016   | quinoa                                                                   | 2.693  |\n",
            "| rice                                                                    | 6.316  | rice-basmati                                                     | 13.231  | rice-jasmin                                                              | nan    |\n",
            "| rice-whole-grain                                                        | 0.000  | rice-wild                                                        | 0.000   | spaetzle                                                                 | 30.297 |\n",
            "| pasta                                                                   | 6.481  | pasta-hornli                                                     | 0.000   | pasta-in-butterfly-form-farfalle                                         | 0.000  |\n",
            "| pasta-linguini-parpadelle-tagliatelle                                   | 20.594 | pasta-in-conch-form                                              | 0.000   | pasta-noodles                                                            | 31.584 |\n",
            "| pasta-penne                                                             | 4.471  | pasta-ravioli-stuffing                                           | 0.000   | pasta-spaghetti                                                          | 35.205 |\n",
            "| pasta-twist                                                             | 53.168 | pasta-tortelloni-stuffing                                        | nan     | pasta-wholemeal                                                          | 0.000  |\n",
            "| bagel-without-filling                                                   | 0.000  | bread-french-white-flour                                         | 4.040   | bread                                                                    | 0.000  |\n",
            "| bread-5-grain                                                           | nan    | bread-spelt                                                      | 0.000   | bread-fruit                                                              | 0.000  |\n",
            "| bread-half-white                                                        | 2.045  | bread-grain                                                      | 6.445   | bread-nut                                                                | nan    |\n",
            "| bread-olive                                                             | 0.000  | bread-pita                                                       | 0.000   | bread-rye                                                                | 20.198 |\n",
            "| bread-whole-wheat                                                       | 4.538  | bread-sourdough                                                  | 10.099  | bread-black                                                              | 0.000  |\n",
            "| bread-ticino                                                            | 90.000 | bread-toast                                                      | 3.221   | bread-wholemeal-toast                                                    | 11.584 |\n",
            "| bread-wholemeal                                                         | 14.391 | bread-white                                                      | 27.513  | brioche                                                                  | 0.000  |\n",
            "| roll-of-half-white-or-white-flour-with-large-void                       | 63.696 | hamburger-bun                                                    | 0.000   | roll-with-pieces-of-chocolate                                            | 8.079  |\n",
            "| white-bread-with-butter-eggs-and-milk                                   | 0.000  | focaccia                                                         | 0.000   | croissant                                                                | 52.970 |\n",
            "| croissant-wholegrain                                                    | 0.000  | lye-pretzel-soft                                                 | 24.340  | braided-white-loaf                                                       | 14.637 |\n",
            "| crisp-bread-wasa                                                        | nan    | breadcrumbs-unspiced                                             | 0.000   | rice-waffels                                                             | 0.000  |\n",
            "| grissini                                                                | 0.000  | rusk-wholemeal                                                   | 0.000   | corn-flakes                                                              | nan    |\n",
            "| crunch-muesli                                                           | 34.934 | muesli                                                           | 25.545  | dough-puff-pastry-shortcrust-bread-pizza-dough                           | nan    |\n",
            "| pastry-flaky                                                            | nan    | meat                                                             | 0.000   | minced-meat                                                              | nan    |\n",
            "| beef                                                                    | 0.000  | beef-roast                                                       | 0.000   | beef-sirloin-steak                                                       | 5.050  |\n",
            "| beef-filet                                                              | nan    | beef-minced-only-meat                                            | 0.000   | beef-cut-into-stripes-only-meat                                          | 0.000  |\n",
            "| pork                                                                    | 0.000  | pork-roast                                                       | 0.000   | pork-chop                                                                | nan    |\n",
            "| pork-escalope                                                           | nan    | lamb                                                             | nan     | lamb-chop                                                                | 0.000  |\n",
            "| chicken                                                                 | 0.000  | chicken-breast                                                   | 0.000   | chicken-wing                                                             | nan    |\n",
            "| chicken-cut-into-stripes-only-meat                                      | 0.000  | chicken-leg                                                      | 0.000   | frying-sausage                                                           | 10.000 |\n",
            "| cervelat                                                                | 0.000  | chicken-nuggets                                                  | 0.000   | chorizo                                                                  | 0.000  |\n",
            "| meatloaf                                                                | 0.000  | hamburger                                                        | 0.000   | dried-meat                                                               | 30.297 |\n",
            "| veal-sausage                                                            | 0.000  | processed-meat-charcuterie                                       | nan     | salami                                                                   | 5.050  |\n",
            "| cooked-sausage                                                          | nan    | ham                                                              | 0.000   | ham-cooked                                                               | 0.000  |\n",
            "| ham-raw                                                                 | 8.977  | ham-turkey                                                       | 0.000   | smoked-cooked-sausage-of-pork-and-beef-meat-sausag                       | nan    |\n",
            "| bacon                                                                   | nan    | bacon-frying                                                     | 0.000   | bacon-cooking                                                            | 0.000  |\n",
            "| bacon-raw                                                               | 0.000  | meat-terrine-pate                                                | 0.000   | sausage                                                                  | 0.000  |\n",
            "| veggie-burger                                                           | 0.000  | tofu                                                             | 0.000   | fish                                                                     | 0.000  |\n",
            "| cod                                                                     | 0.000  | salmon                                                           | 0.000   | anchovies                                                                | 0.000  |\n",
            "| tuna                                                                    | nan    | shrimp-prawn-small                                               | nan     | shrimp-prawn-large                                                       | 0.000  |\n",
            "| fish-crunchies-battered                                                 | nan    | fish-fingers-breaded                                             | 0.000   | egg                                                                      | 13.587 |\n",
            "| oil                                                                     | 0.000  | butter                                                           | 7.457   | butter-herb                                                              | 0.000  |\n",
            "| margarine                                                               | 0.000  | praline                                                          | 11.250  | jam                                                                      | 23.774 |\n",
            "| honey                                                                   | 5.347  | sugar-glazing                                                    | nan     | maple-syrup-concentrate                                                  | 0.000  |\n",
            "| dark-chocolate                                                          | 22.674 | milk-chocolate                                                   | 44.986  | white-chocolate                                                          | nan    |\n",
            "| chocolate                                                               | 6.492  | chocolate-filled                                                 | nan     | cocoa-powder                                                             | nan    |\n",
            "| hazelnut-chocolate-spread-nutella-ovomaltine-caotina                    | 15.304 | m-m-s                                                            | 37.723  | chocolate-egg-small                                                      | 51.818 |\n",
            "| sweets-candies                                                          | 0.000  | gummi-bears-fruit-jellies-jelly-babies-with-fruit-essence        | nan     | apple-pie                                                                | 0.000  |\n",
            "| brownie                                                                 | nan    | cake-oblong                                                      | 0.000   | lemon-cake                                                               | nan    |\n",
            "| crepe-plain                                                             | 33.546 | fruit-tart                                                       | 16.667  | cake-marble                                                              | 0.000  |\n",
            "| cake-chocolate                                                          | 8.837  | muffin                                                           | 9.618   | omelette-plain                                                           | 50.000 |\n",
            "| carrot-cake                                                             | 0.000  | black-forest-tart                                                | 0.000   | tart                                                                     | 40.000 |\n",
            "| waffle                                                                  | nan    | croissant-with-chocolate-filling                                 | 0.000   | cookies                                                                  | 36.262 |\n",
            "| biscuits                                                                | 1.240  | macaroon                                                         | 0.000   | meringue                                                                 | 0.000  |\n",
            "| biscuit-with-butter                                                     | 0.000  | chocolate-cookies                                                | 38.119  | juice-apple                                                              | 1.040  |\n",
            "| juice-multifruit                                                        | 0.000  | juice-orange                                                     | nan     | smoothie                                                                 | nan    |\n",
            "| coca-cola                                                               | nan    | coca-cola-zero                                                   | 19.472  | ice-tea                                                                  | nan    |\n",
            "| syrup-diluted-ready-to-drink                                            | 0.985  | tea                                                              | 8.273   | cappuccino                                                               | 14.048 |\n",
            "| espresso-with-caffeine                                                  | 6.521  | coffee-with-caffeine                                             | 23.747  | coffee-decaffeinated                                                     | 0.000  |\n",
            "| latte-macchiato-with-caffeine                                           | 10.000 | white-coffee-with-caffeine                                       | 13.662  | ristretto-with-caffeine                                                  | 4.453  |\n",
            "| tea-green                                                               | 0.420  | tea-black                                                        | nan     | tea-verveine                                                             | nan    |\n",
            "| tea-fruit                                                               | nan    | tea-spice                                                        | nan     | tea-ginger                                                               | nan    |\n",
            "| herbal-tea                                                              | 7.127  | tea-peppermint                                                   | 10.909  | tea-rooibos                                                              | 0.000  |\n",
            "| ice-cubes                                                               | nan    | water                                                            | 35.033  | water-mineral                                                            | 13.406 |\n",
            "| aperitif-with-alcohol-aperol-spritz                                     | nan    | cocktail                                                         | 40.000  | champagne                                                                | 0.000  |\n",
            "| prosecco                                                                | 0.000  | sekt                                                             | 0.000   | wine-rose                                                                | 54.950 |\n",
            "| wine-red                                                                | 52.995 | wine-white                                                       | 23.787  | beer                                                                     | 7.061  |\n",
            "| light-beer                                                              | 0.000  | sauce-savoury                                                    | 0.000   | sauce-roast                                                              | 0.000  |\n",
            "| sauce-carbonara                                                         | nan    | sauce-cocktail                                                   | 0.000   | sauce-curry                                                              | 0.000  |\n",
            "| sauce-pesto                                                             | 0.000  | sauce-mushroom                                                   | 0.000   | sauce-cream                                                              | 0.000  |\n",
            "| sauce-sweet-sour                                                        | 0.000  | ketchup                                                          | 1.856   | bolognaise-sauce                                                         | 13.465 |\n",
            "| tomato-sauce                                                            | 7.382  | dips                                                             | nan     | salad-dressing                                                           | 0.000  |\n",
            "| balsamic-salad-dressing                                                 | 0.000  | french-salad-dressing                                            | 0.412   | italian-salad-dressing                                                   | 0.000  |\n",
            "| oil-vinegar-salad-dressing                                              | 0.000  | guacamole                                                        | 0.000   | mayonnaise                                                               | 0.000  |\n",
            "| tartar-sauce                                                            | 0.000  | tzatziki                                                         | 0.000   | basil                                                                    | 0.000  |\n",
            "| coriander                                                               | 0.000  | bouquet-garni                                                    | 0.000   | parsley                                                                  | 0.000  |\n",
            "| chives                                                                  | 0.000  | cenovis-yeast-spread                                             | nan     | sauce-soya                                                               | 0.000  |\n",
            "| mustard                                                                 | 0.000  | mustard-dijon                                                    | nan     | balsamic-vinegar                                                         | nan    |\n",
            "| soup-vegetable                                                          | 32.306 | soup-cream-of-vegetables                                         | 40.396  | soup-potato                                                              | 13.333 |\n",
            "| soup-pumpkin                                                            | 26.584 | soup-miso                                                        | 26.667  | soup-tomato                                                              | 1.683  |\n",
            "| bouillon                                                                | 0.000  | bouillon-vegetable                                               | 0.000   | falafel-balls                                                            | 0.000  |\n",
            "| savoury-puff-pastry                                                     | nan    | savoury-puff-pastry-stick                                        | 0.000   | corn-crisps                                                              | nan    |\n",
            "| crackers                                                                | 0.000  | croutons                                                         | 0.000   | crisps                                                                   | 2.934  |\n",
            "| popcorn-salted                                                          | 39.422 | croque-monsieur                                                  | 0.000   | spring-roll-fried                                                        | 0.000  |\n",
            "| ham-croissant                                                           | nan    | salt-cake-vegetables-filled                                      | nan     | hamburger-bread-meat-ketchup                                             | 28.630 |\n",
            "| cordon-bleu-from-pork-schnitzel-fried                                   | 11.782 | lasagne-meat-prepared                                            | 40.495  | mashed-potatoes-prepared-with-full-fat-milk-with-butter                  | 3.366  |\n",
            "| pizza-margherita-baked                                                  | 17.377 | sandwich-ham-cheese-and-butter                                   | nan     | sushi                                                                    | 6.188  |\n",
            "| kebab-in-pita-bread                                                     | 0.000  | pancakes                                                         | nan     | hummus                                                                   | 0.000  |\n",
            "| greek-salad                                                             | 0.000  | dumplings                                                        | nan     | apricot-dried                                                            | 0.000  |\n",
            "| chocolate-mousse                                                        | nan    | cheesecake                                                       | 0.000   | caprese-salad-tomato-mozzarella                                          | 70.000 |\n",
            "| chili-con-carne-prepared                                                | 70.000 | taboule-prepared-with-couscous                                   | nan     | perch-fillets-lake                                                       | nan    |\n",
            "| risotto-without-cheese-cooked                                           | 54.246 | salmon-smoked                                                    | 8.259   | pie-apricot-baked-with-cake-dough                                        | 0.000  |\n",
            "| eggplant-caviar                                                         | 0.000  | apple-crumble                                                    | nan     | egg-scrambled-prepared                                                   | 11.902 |\n",
            "| oat-milk                                                                | 0.000  | lemon-pie                                                        | nan     | glucose-drink-50g                                                        | 17.023 |\n",
            "| goat-average-raw                                                        | nan    | pie-rhubarb-baked-with-cake-dough                                | nan     | chicken-curry-cream-coconut-milk-curry-spices-paste                      | nan    |\n",
            "| pie-plum-baked-with-cake-dough                                          | 65.050 | potatoes-au-gratin-dauphinois-prepared                           | 0.000   | buckwheat-grain-peeled                                                   | nan    |\n",
            "| birchermuesli-prepared-no-sugar-added                                   | 5.528  | fajita-bread-only                                                | 0.000   | mango-dried                                                              | 0.000  |\n",
            "| lentils-green-du-puy-du-berry                                           | 0.000  | naan-indien-bread                                                | nan     | butter-spread-puree-almond                                               | 0.000  |\n",
            "| chocolate-milk-chocolate-drink                                          | nan    | water-with-lemon-juice                                           | 3.371   | sun-dried-tomatoe                                                        | 0.000  |\n",
            "| gluten-free-bread                                                       | 0.000  | fruit-coulis                                                     | 0.000   | greek-yaourt-yahourt-yogourt-ou-yoghourt                                 | 0.000  |\n",
            "| cake-salted                                                             | 0.000  | soup-of-lentils-dahl-dhal                                        | nan     | fig-dried                                                                | 0.000  |\n",
            "| turnover-with-meat-small-meat-pie-empanadas                             | 0.000  | lasagne-vegetable-prepared                                       | 0.000   | sauce-sweet-salted-asian                                                 | 0.000  |\n",
            "| french-pizza-from-alsace-baked                                          | 0.000  | fruit-compotes                                                   | nan     | vegetable-au-gratin-baked                                                | 0.000  |\n",
            "| porridge-prepared-with-partially-skimmed-milk                           | nan    | curry-vegetarian                                                 | nan     | bread-meat-substitute-lettuce-sauce                                      | 7.069  |\n",
            "| tartar-meat                                                             | 0.000  | chia-grains                                                      | nan     | faux-mage-cashew-vegan-chers                                             | 0.000  |\n",
            "| milk-chocolate-with-hazelnuts                                           | 36.634 | yaourt-yahourt-yogourt-ou-yoghourt-natural                       | 11.337  | paprika-chips                                                            | nan    |\n",
            "| banana-cake                                                             | 18.527 | cream-spinach                                                    | nan     | cantonese-fried-rice                                                     | 0.000  |\n",
            "| goat-cheese-soft                                                        | 0.000  | buckwheat-pancake                                                | 0.000   | meat-balls                                                               | 0.000  |\n",
            "| high-protein-pasta-made-of-lentils-peas                                 | 0.000  | mix-of-dried-fruits-and-nuts                                     | 80.000  | baked-potato                                                             | 16.040 |\n"
          ]
        }
      ],
      "source": [
        "cfg.MODEL.ROI_HEADS.SCORE_THRESH_TEST = 0.1\n",
        "\n",
        "# cfg.MODEL.WEIGHTS = os.path.join(cfg.OUTPUT_DIR, \"model_final.pth\")\n",
        "cfg.MODEL.WEIGHTS = '/content/model_final.pth'\n",
        "\n",
        "evaluator = COCOEvaluator(\"validation_dataset\", cfg, False, output_dir=cfg.OUTPUT_DIR)\n",
        "val_loader = build_detection_test_loader(cfg, \"validation_dataset\")\n",
        "valResults = inference_on_dataset(trainer.model, val_loader, evaluator)"
      ]
    },
    {
      "cell_type": "code",
      "execution_count": null,
      "metadata": {
        "id": "O7i7k93AhEMJ"
      },
      "outputs": [],
      "source": [
        "# cfg.MODEL.WEIGHTS = os.path.join(cfg.OUTPUT_DIR, \"model_final.pth\")\n",
        "cfg.MODEL.ROI_HEADS.SCORE_THRESH_TEST = 0.2\n",
        "cfg.MODEL.ROI_HEADS.NUM_CLASSES = 498\n",
        "\n",
        "cfg.DATASETS.TEST = (\"validation_dataset\", )\n",
        "predictor = DefaultPredictor(cfg)"
      ]
    },
    {
      "cell_type": "code",
      "execution_count": null,
      "metadata": {
        "colab": {
          "base_uri": "https://localhost:8080/",
          "height": 1000
        },
        "id": "lnMoGL7VUOEo",
        "outputId": "e8641eb0-756c-4b06-f0fe-b7fdfeca427c"
      },
      "outputs": [
        {
          "output_type": "stream",
          "name": "stderr",
          "text": [
            "/usr/local/lib/python3.7/dist-packages/detectron2/structures/image_list.py:88: UserWarning:\n",
            "\n",
            "__floordiv__ is deprecated, and its behavior will change in a future version of pytorch. It currently rounds toward 0 (like the 'trunc' function NOT 'floor'). This results in incorrect rounding for negative values. To keep the current behavior, use torch.div(a, b, rounding_mode='trunc'), or for actual floor division, use torch.div(a, b, rounding_mode='floor').\n",
            "\n"
          ]
        },
        {
          "output_type": "display_data",
          "data": {
            "image/png": "[encoded data removed]",
            "text/plain": [
              "<PIL.Image.Image image mode=RGB size=960x960 at 0x7F4D61FA2690>"
            ]
          },
          "metadata": {}
        }
      ],
      "source": [
        "val_metadata = MetadataCatalog.get(\"val_dataset\")\n",
        "\n",
        "#sample image \n",
        "image_id = '008536'\n",
        "im = cv2.imread(f\"data/val/images/{image_id}.jpg\")\n",
        "\n",
        "outputs = predictor(im)\n",
        "\n",
        "v = Visualizer(im[:, :, ::-1],\n",
        "                   metadata=val_metadata, \n",
        "                   scale=2,\n",
        "                   instance_mode=ColorMode.IMAGE_BW\n",
        "    )\n",
        "\n",
        "out = v.draw_instance_predictions(outputs[\"instances\"].to(\"cpu\"))\n",
        "cv2_imshow(out.get_image()[:, :, ::-1])"
      ]
    },
    {
      "cell_type": "markdown",
      "source": [
        "# Create Class_to_category mapping to get correct predictions after inference. "
      ],
      "metadata": {
        "id": "hVzY2rnbFCtW"
      }
    },
    {
      "cell_type": "code",
      "source": [
        "#generate class category ids from detectron2 internal dictinary mappings\n",
        "category_ids = sorted(train_coco.getCatIds())\n",
        "categories = train_coco.loadCats(category_ids)\n",
        "\n",
        "class_to_category = { int(class_id): int(category_id) for class_id, category_id in enumerate(category_ids) }\n",
        "\n",
        "with open(\"class_to_category.json\", \"w\") as fp:\n",
        "  json.dump(class_to_category, fp)"
      ],
      "metadata": {
        "id": "Q5CMwbOzI94W"
      },
      "execution_count": null,
      "outputs": []
    },
    {
      "cell_type": "markdown",
      "source": [
        "# Quick Submission 💪\n",
        "\n",
        "## Inference on the public test set\n",
        "*   loading the model config and setting up related paths\n",
        "*   running inference and generating json file for submission\n",
        "\n"
      ],
      "metadata": {
        "id": "fxkRJocSI6li"
      }
    },
    {
      "cell_type": "code",
      "source": [
        "#setting the paths and threshold\n",
        "test_images_dir = \"/content/data/test/images\"\n",
        "output_filepath = \"/content/predictions_detectron2.json\"\n",
        "\n",
        "#path of trained model\n",
        "model_path = '/content/model_final.pth'\n",
        "# model_path = os.path.join(cfg.OUTPUT_DIR, \"model_final.pth\")\n",
        "\n",
        "#threshold\n",
        "threshold = 0.1"
      ],
      "metadata": {
        "id": "ChSHB-ZZc0Za"
      },
      "execution_count": null,
      "outputs": []
    },
    {
      "cell_type": "code",
      "source": [
        "import os\n",
        "import json\n",
        "# import aicrowd_helpers\n",
        "import importlib\n",
        "import numpy as np\n",
        "import cv2\n",
        "import torch\n",
        "from detectron2.engine import DefaultPredictor\n",
        "\n",
        "from detectron2.evaluation import COCOEvaluator, inference_on_dataset\n",
        "from detectron2.data import build_detection_test_loader\n",
        "from detectron2.structures import Boxes, BoxMode\n",
        "from detectron2.config import get_cfg\n",
        "import pycocotools.mask as mask_util\n",
        "\n",
        "\n",
        "class_to_category = {}\n",
        "with open(\"class_to_category.json\") as fp:\n",
        "    class_to_category = json.load(fp)\n",
        "\n",
        "\n",
        "def run():\n",
        "    model_name = \"model_zoo\"\n",
        "    model = importlib.import_module(f\"detectron2.{model_name}\")\n",
        "\n",
        "    #set the config parameters, including the architecture which was previously used\n",
        "    cfg = get_cfg()\n",
        "    cfg.merge_from_file(model.get_config_file(MODEL_ARCH))\n",
        "    cfg.MODEL.WEIGHTS = model_path\n",
        "\n",
        "    #set the threshold \n",
        "    cfg.MODEL.ROI_HEADS.SCORE_THRESH_TEST = threshold   # set the testing threshold for this model\n",
        "    cfg.MODEL.ROI_HEADS.NUM_CLASSES = 498\n",
        "\n",
        "    cfg.MODEL.DEVICE = \"cuda\"\n",
        "    predictor = DefaultPredictor(cfg)\n",
        "\n",
        "    results = []\n",
        "    for img_file in tqdm(os.listdir(test_images_dir)):\n",
        "        filename = os.path.join(test_images_dir, img_file)\n",
        "        img = cv2.imread(filename)\n",
        "        prediction = predictor(img)\n",
        "\n",
        "        instances = prediction[\"instances\"]\n",
        "        if len(instances) > 0:\n",
        "            scores = instances.scores.tolist()\n",
        "            classes = instances.pred_classes.tolist()\n",
        "            bboxes = BoxMode.convert(\n",
        "                instances.pred_boxes.tensor.cpu(),\n",
        "                BoxMode.XYXY_ABS,\n",
        "                BoxMode.XYWH_ABS,\n",
        "            ).tolist()\n",
        "\n",
        "            masks = []\n",
        "            if instances.has(\"pred_masks\"):\n",
        "                for mask in instances.pred_masks.cpu():\n",
        "                    _mask = mask_util.encode(np.array(mask[:, :, None], order=\"F\", dtype=\"uint8\"))[0]\n",
        "                    _mask[\"counts\"] = _mask[\"counts\"].decode(\"utf-8\")\n",
        "                    masks.append(_mask)\n",
        "\n",
        "            for idx in range(len(instances)):\n",
        "                category_id = class_to_category[str(classes[idx])] # json converts int keys to str\n",
        "                output = {\n",
        "                    \"image_id\": int(img_file.split(\".\")[0]),\n",
        "                    \"category_id\": category_id,\n",
        "                    \"bbox\": bboxes[idx],\n",
        "                    \"score\": scores[idx],\n",
        "                }\n",
        "                if len(masks) > 0:\n",
        "                    output[\"segmentation\"] = masks[idx]\n",
        "                results.append(output)\n",
        "\n",
        "        with open(output_filepath, \"w\") as fp:\n",
        "            json.dump(results, fp)\n",
        "\n",
        "\n",
        "#run the inference which generates predictions as json file\n",
        "run()"
      ],
      "metadata": {
        "colab": {
          "base_uri": "https://localhost:8080/",
          "height": 138,
          "referenced_widgets": [
            "1fc12931292d4906a21f4e1b856ffb83",
            "7f78d09c22a24ec79a879d695c0d9a15",
            "f83c58329e654f83b8063f0861bee3da",
            "dc65016733dd435c8fbcc3a758e88768",
            "f32b8de907f24e4fa82aaf44729fa18b",
            "a3493d973b61483aa677f3307a979000",
            "99bc5bbb528e47cda1e22910316db947",
            "f047082ad9cb4fe0869f2132b58e6c99",
            "91895e0727864833a00050f7590a892f",
            "e3499f635c5346ecb15066543b1da61f",
            "ce158d30ced44a0e8aa2c0624b78e0f4"
          ]
        },
        "id": "Wrx0qXmgAqCN",
        "outputId": "23c6eaf4-d7b5-49ff-9ce0-5dde039ad998"
      },
      "execution_count": null,
      "outputs": [
        {
          "output_type": "display_data",
          "data": {
            "application/vnd.jupyter.widget-view+json": {
              "model_id": "1fc12931292d4906a21f4e1b856ffb83",
              "version_minor": 0,
              "version_major": 2
            },
            "text/plain": [
              "  0%|          | 0/3000 [00:00<?, ?it/s]"
            ]
          },
          "metadata": {}
        },
        {
          "output_type": "stream",
          "name": "stderr",
          "text": [
            "/usr/local/lib/python3.7/dist-packages/detectron2/structures/image_list.py:88: UserWarning:\n",
            "\n",
            "__floordiv__ is deprecated, and its behavior will change in a future version of pytorch. It currently rounds toward 0 (like the 'trunc' function NOT 'floor'). This results in incorrect rounding for negative values. To keep the current behavior, use torch.div(a, b, rounding_mode='trunc'), or for actual floor division, use torch.div(a, b, rounding_mode='floor').\n",
            "\n"
          ]
        }
      ]
    },
    {
      "cell_type": "markdown",
      "source": [
        "Now that the prediction file is generated for public test set, To make quick submission:\n",
        "* Use AIcrowd CLL `aicrowd submit` command to do a quick submission. </br>\n",
        "\n",
        "**Alternatively:**\n",
        "* download the `predictions_x101.json` file by running below cell\n",
        "* visit the [create submission page](https://www.aicrowd.com/challenges/food-recognition-benchmark-2022/submissions/new) \n",
        "* Upload the `predictions_x101.json` file \n",
        "* Voila!! You just made your first submission!\n"
      ],
      "metadata": {
        "id": "tALk5JdRkJsk"
      }
    },
    {
      "cell_type": "code",
      "source": [
        "#use aicrowd CLI to make quick submission\n",
        "!aicrowd submission create -c food-recognition-benchmark-2022 -f $output_filepath"
      ],
      "metadata": {
        "colab": {
          "base_uri": "https://localhost:8080/"
        },
        "id": "xk-T7fKAxR2c",
        "outputId": "27f744ac-3d94-4e2b-aefa-e8aebf98d469"
      },
      "execution_count": null,
      "outputs": [
        {
          "output_type": "stream",
          "name": "stdout",
          "text": [
            "\u001b[2K\u001b[1;34mpredictions_detectron2.json\u001b[0m \u001b[90m━━━━━━━━━━━\u001b[0m \u001b[35m100.0%\u001b[0m • \u001b[32m8.1/8.1 MB\u001b[0m • \u001b[31m2.5 MB/s\u001b[0m • \u001b[36m0:00:00\u001b[0m\n",
            "\u001b[?25h                                               ╭─────────────────────────╮                                               \n",
            "                                               │ \u001b[1mSuccessfully submitted!\u001b[0m │                                               \n",
            "                                               ╰─────────────────────────╯                                               \n",
            "\u001b[3m                                                     Important links                                                     \u001b[0m\n",
            "┌──────────────────┬────────────────────────────────────────────────────────────────────────────────────────────────────┐\n",
            "│  This submission │ https://www.aicrowd.com/challenges/food-recognition-benchmark-2022/submissions/172533              │\n",
            "│                  │                                                                                                    │\n",
            "│  All submissions │ https://www.aicrowd.com/challenges/food-recognition-benchmark-2022/submissions?my_submissions=true │\n",
            "│                  │                                                                                                    │\n",
            "│      Leaderboard │ https://www.aicrowd.com/challenges/food-recognition-benchmark-2022/leaderboards                    │\n",
            "│                  │                                                                                                    │\n",
            "│ Discussion forum │ https://discourse.aicrowd.com/c/food-recognition-benchmark-2022                                    │\n",
            "│                  │                                                                                                    │\n",
            "│   Challenge page │ https://www.aicrowd.com/challenges/food-recognition-benchmark-2022                                 │\n",
            "└──────────────────┴────────────────────────────────────────────────────────────────────────────────────────────────────┘\n",
            "{'submission_id': 172533, 'created_at': '2022-01-31T12:23:30.347Z'}\n"
          ]
        }
      ]
    },
    {
      "cell_type": "code",
      "source": [
        "!cp '/content/drive/MyDrive/AIcrowd Challenge - Food Recognition/food-recognition-challenge-starter-kit/logs_x101/model_final.pth' model_final.pth"
      ],
      "metadata": {
        "id": "0mbI3FWVZzZK"
      },
      "execution_count": null,
      "outputs": []
    },
    {
      "cell_type": "markdown",
      "source": [
        "#Active submission 🤩"
      ],
      "metadata": {
        "id": "Iijfdw1VgXke"
      }
    },
    {
      "cell_type": "markdown",
      "metadata": {
        "id": "qTtj3n0RrcjH"
      },
      "source": [
        "Step 0 : Fork the baseline to make your own changes to it. Go to settings and make the repo private.\n",
        "\n",
        "\n",
        "Step 1 : For first time setup, Setting up SSH to login to Gitlab.\n",
        "\n",
        "  0. Run the next cell to check if you already have SSH keys in your drive, if yes, skip this step. \n",
        "  1. Run `ssh-keygen -t ecdsa -b 521` \n",
        "  2. Run `cat ~./ssh/id_ecdsa.pub` and copy the output\n",
        "  3. Go to [Gitlab SSH Keys](https://gitlab.aicrowd.com/profile/keys) and then paste the output inside the key and use whaever title you like. \n",
        "\n",
        "\n",
        "Step 2: Clone your forked Repo & Add Models & Push Changes\n",
        "\n",
        "  1. Run `git clone git@gitlab.aicrowd.com:[Your Username]/food-recognition-2022-detectron2-baseline.git`\n",
        "  2. Put your model inside the models directioary and then run `git-lfs track \"*.pth\"`\n",
        "  3. Run `git add .` then `git commit -m \" adding model\"`\n",
        "  3. Run `git push origin master`\n",
        "\n",
        "Step 3. Create Submission\n",
        "\n",
        "  1. Go to the repo and then tags and then New Tag. \n",
        "  2. In the tag name,you can use `submission_v1`, ( Everytime you make a new submission, just increase the no. like - `submission_v2`,  `submission_v3` )\n",
        "  3. A new issue will be created with showing the process. Enjoy!\n",
        "\n",
        "\n",
        "\n",
        "\n",
        "If you do not have SSH Keys, Check this [Page](https://docs.gitlab.com/ee/ssh/index.html#generate-an-ssh-key-pair)\n",
        "\n",
        "Add your SSH Keys to your GitLab account by following the instructions here"
      ]
    },
    {
      "cell_type": "code",
      "source": [
        "%%bash\n",
        "SSH_PRIV_KEY=/content/drive/MyDrive/id_ecdsa\n",
        "SSH_PUB_KEY=/content/drive/MyDrive/id_ecdsa.pub\n",
        "if [ -f \"$SSH_PRIV_KEY\" ]; then\n",
        "    echo \"SSH Key found! ✅\\n\"\n",
        "    mkdir -p /root/.ssh\n",
        "    cp /content/drive/MyDrive/id_ecdsa ~/.ssh/id_ecdsa\n",
        "    cp /content/drive/MyDrive/id_ecdsa.pub ~/.ssh/id_ecdsa.pub\n",
        "    echo \"SSH key successfully copied to local!\"\n",
        "else\n",
        "    echo \"SSH Key does not exist.\"\n",
        "    ssh-keygen -t ecdsa -b521 -f ~/.ssh/id_ecdsa\n",
        "    cat ~/.ssh/id_ecdsa.pub\n",
        "    echo \"❗️Please open https://gitlab.aicrowd.com/profile/keys and copy-paste the above text in the **key** textbox.\"\n",
        "    cp  ~/.ssh/id_ecdsa /content/drive/MyDrive/id_ecdsa\n",
        "    cp  ~/.ssh/id_ecdsa.pub /content/drive/MyDrive/id_ecdsa.pub\n",
        "    echo \"SSH key successfully created and copied to drive!\"\n",
        "fi"
      ],
      "metadata": {
        "colab": {
          "base_uri": "https://localhost:8080/"
        },
        "id": "QMX3ttbbnRLP",
        "outputId": "13a834d4-c8d0-442d-a017-f7f845ce6c38"
      },
      "execution_count": null,
      "outputs": [
        {
          "output_type": "stream",
          "name": "stdout",
          "text": [
            "SSH Key found! ✅\\n\n",
            "SSH key successfully copied to local!\n"
          ]
        }
      ]
    },
    {
      "cell_type": "code",
      "source": [
        "import IPython\n",
        "\n",
        "html = \"<b>Copy paste below SSH key in your GitLab account here (one time):</b><br/>\"\n",
        "html += '<a href=\"https://gitlab.aicrowd.com/-/profile/keys\" target=\"_blank\">https://gitlab.aicrowd.com/-/profile/keys</a><br><br>'\n",
        "\n",
        "public_key = open(\"/content/drive/MyDrive/id_ecdsa.pub\").read()\n",
        "html += '<br/><textarea>'+public_key+'</textarea><button onclick=\"navigator.clipboard.writeText(\\''+public_key.strip()+'\\');this.innerHTML=\\'Copied ✅\\'\">Click to copy</button>'\n",
        "IPython.display.HTML(html)"
      ],
      "metadata": {
        "colab": {
          "base_uri": "https://localhost:8080/",
          "height": 130
        },
        "id": "H5NUAlB1ONYZ",
        "outputId": "04210796-6e1a-4483-df76-f0455c9406dd"
      },
      "execution_count": null,
      "outputs": [
        {
          "output_type": "execute_result",
          "data": {
            "text/html": [
              "<b>Copy paste below SSH key in your GitLab account here (one time):</b><br/><a href=\"https://gitlab.aicrowd.com/-/profile/keys\" target=\"_blank\">https://gitlab.aicrowd.com/-/profile/keys</a><br><br><br/><textarea>ecdsa-sha2-nistp521 AAAAE2VjZHNhLXNoYTItbmlzdHA1MjEAAAAIbmlzdHA1MjEAAACFBAEltL8vmAXMLgNDxvUhpm6RBCG8fVZmVzSNKsYM7eVtWKvHU1/+sQmJPXFCw4IhLKyAPkJZFHlyb17wykvv5f8saAB4EHFbpsDH+97M+aXau28mRlxMP4c+rNBWy3pjDmOWYyzgRzgzQG17CXbVi8bitduzw8BesY7lDhM7gDQZzin0fQ== root@5e7915ca5bf5\n",
              "</textarea><button onclick=\"navigator.clipboard.writeText('ecdsa-sha2-nistp521 AAAAE2VjZHNhLXNoYTItbmlzdHA1MjEAAAAIbmlzdHA1MjEAAACFBAEltL8vmAXMLgNDxvUhpm6RBCG8fVZmVzSNKsYM7eVtWKvHU1/+sQmJPXFCw4IhLKyAPkJZFHlyb17wykvv5f8saAB4EHFbpsDH+97M+aXau28mRlxMP4c+rNBWy3pjDmOWYyzgRzgzQG17CXbVi8bitduzw8BesY7lDhM7gDQZzin0fQ== root@5e7915ca5bf5');this.innerHTML='Copied ✅'\">Click to copy</button>"
            ],
            "text/plain": [
              "<IPython.core.display.HTML object>"
            ]
          },
          "metadata": {},
          "execution_count": 139
        }
      ]
    },
    {
      "cell_type": "markdown",
      "source": [
        "Clone the gitlab starter repo and add submission files"
      ],
      "metadata": {
        "id": "N4bMsMOuqXWG"
      }
    },
    {
      "cell_type": "code",
      "source": [
        "# Set your AIcrowd username for action submission.\n",
        "# This username will store repository and used for submitter's username, etc\n",
        "username = \"jerome_patel\"\n",
        "!echo -n {username} > author.txt"
      ],
      "metadata": {
        "id": "G8VOx9WUWvqW"
      },
      "execution_count": null,
      "outputs": []
    },
    {
      "cell_type": "code",
      "source": [
        "%%bash\n",
        "username=$(cat author.txt)\n",
        "echo \"Username $username\"\n",
        "\n",
        "git config --global user.name \"$username\"\n",
        "git config --global user.email \"$username@noreply.gitlab.aicrowd.com\"\n",
        "\n",
        "touch ${HOME}/.ssh/known_hosts\n",
        "ssh-keyscan -H gitlab.aicrowd.com >> ${HOME}/.ssh/known_hosts 2> /dev/null\n",
        "\n",
        "\n",
        "apt install -qq -y jq git-lfs &> /dev/null\n",
        "\n",
        "git lfs install\n",
        "cd /content/\n",
        "\n",
        "echo \"Checking if repository already exist, otherwise create one\"\n",
        "export SUBMISSION_REPO=\"git@gitlab.aicrowd.com:$username/food-recognition-2022-detectron2-baseline.git\"\n",
        "echo \"cloning the $SUBMISSION_REPO\"\n",
        "git clone $SUBMISSION_REPO food-recognition-2022-detectron2-baseline\n",
        "ALREADYEXIST=$?\n",
        "\n",
        "if [ $ALREADYEXIST -ne 0 ]; then\n",
        "  echo \"Project didn't exist, forking from upstream\"\n",
        "  git clone https://github.com/AIcrowd/food-recognition-benchmark-starter-kit.git food-recognition-2022-detectron2-baseline\n",
        "fi\n",
        "\n",
        "cd /content/food-recognition-2022-detectron2-baseline\n",
        "git remote remove origin\n",
        "git remote add origin \"$SUBMISSION_REPO\""
      ],
      "metadata": {
        "id": "GX54KjC7qKXq"
      },
      "execution_count": null,
      "outputs": []
    },
    {
      "cell_type": "markdown",
      "source": [
        "Active Submission Repo structure:\n",
        "* Required Files are `aicrowd.json, apt.txt, requirements.txt, predict.py` \n",
        "* Copy detectron2 trained model and `class_to_category.json` to repo\n",
        "* Modify requirements.txt and predict.py for detectron2\n",
        "* Modify aicrowd.json for your submission\n",
        " "
      ],
      "metadata": {
        "id": "jqlzmRz4vNTQ"
      }
    },
    {
      "cell_type": "code",
      "source": [
        "#@title Modify Requirements.txt (modify and run only if you changed torch/detectron2 or any other library python) { display-mode: \"form\" }\n",
        "%%writefile /content/food-recognition-2022-detectron2-baseline/requirements.txt\n",
        "boto3\n",
        "cython\n",
        "numpy\n",
        "Pillow\n",
        "pycocotools\n",
        "pandas\n",
        "aicrowd-repo2docker\n",
        "aicrowd-api\n",
        "opencv-python\n",
        "pyyaml==5.1\n",
        "\n",
        "-f https://download.pytorch.org/whl/cu111/torch_stable.html\n",
        "torch==1.10\n",
        "torchvision==0.11.1\n",
        "\n",
        "-f https://dl.fbaipublicfiles.com/detectron2/wheels/cu111/index.html\n",
        "detectron2==0.6"
      ],
      "metadata": {
        "colab": {
          "base_uri": "https://localhost:8080/"
        },
        "id": "rbI7bUyWyjz3",
        "outputId": "538090dc-56d1-4e1b-b8bd-c7d0f55b21e7"
      },
      "execution_count": null,
      "outputs": [
        {
          "output_type": "stream",
          "name": "stdout",
          "text": [
            "Overwriting /content/food-recognition-2022-detectron2-baseline/requirements.txt\n"
          ]
        }
      ]
    },
    {
      "cell_type": "markdown",
      "source": [
        "Set `\"debug\"=false` for actual submission and true for debug, `\"gpu\"=true` for using the GPU, in our case it's required for detectron2. Modify the `authors` , `SCORE_THRESH_TEST` and `model_config_file`  as per your setup.\n"
      ],
      "metadata": {
        "id": "pohNDxj6zRnL"
      }
    },
    {
      "cell_type": "code",
      "source": [
        "threshold = 0.15\n",
        "num_classes = cfg.MODEL.ROI_HEADS.NUM_CLASSES\n",
        "# MODEL_ARCH = \"COCO-InstanceSegmentation/mask_rcnn_R_50_FPN_3x.yaml\"\n",
        "\n",
        "aicrowd_json = {\n",
        "  \"challenge_id\" : \"food-recognition-benchmark-2022\",\n",
        "  \"authors\" : [\"jerome_patel\"],\n",
        "  \"description\" : \"Food Recognition Benchmark 2022 Submission\",\n",
        "  \"license\" : \"MIT\",\n",
        "  \"gpu\": True,\n",
        "  \"debug\": False,\n",
        "  \"model_path\": \"models/model_final.pth\",\n",
        "  \"model_type\": \"model_zoo\",\n",
        "  \"model_config_file\": MODEL_ARCH,\n",
        "  \"detectron_model_config\": {\n",
        "      \"ROI_HEADS\": {\n",
        "        \"SCORE_THRESH_TEST\": threshold,\n",
        "        \"NUM_CLASSES\": num_classes\n",
        "      }\n",
        "    }   \n",
        "}\n",
        "\n",
        "import json\n",
        "with open('/content/food-recognition-2022-detectron2-baseline/aicrowd.json', 'w') as fp:\n",
        "  fp.write(json.dumps(aicrowd_json, indent=4))"
      ],
      "metadata": {
        "id": "ruY4eLWiyj5l"
      },
      "execution_count": null,
      "outputs": []
    },
    {
      "cell_type": "code",
      "source": [
        "#@title Predict_detectron2 Script, Run only if you modified prediction code\n",
        "%%writefile /content/food-recognition-2022-detectron2-baseline/predict_detectron2.py\n",
        "\n",
        "#!/usr/bin/env python\n",
        "#\n",
        "# This file uses Detectron2 for instance segmentation.\n",
        "# It is one of the official baselines for the Food Recognition benchmark 2022 challenge.\n",
        "#\n",
        "# NOTE: Detectron2 needs the model and **its** aicrowd.json file to be submitted along with your code.\n",
        "#\n",
        "# Making submission using Detectron2:\n",
        "# 1. Copy the aicrowd_detectron2.json from utils to home directory:\n",
        "#    #> cp utils/aicrowd_detectron2_example.json aicrowd.json\n",
        "# 2. Change the model in `predict.py` to Detectron2Predictor.\n",
        "# 3. Download the pre-trained model from google drive into the folder `./models` using:\n",
        "#    #> mkdir models\n",
        "#    #> cd models\n",
        "#    #> pip install gdown\n",
        "#    ## To download model trained with \"COCO-InstanceSegmentation/mask_rcnn_X_101_32x8d_FPN_3x.yaml\" architecture and score of 0.03 on leaderboard\n",
        "#    #> gdown --id 1ylaOzaI6qBfZbICA844uD74dKxLwcd0K --output model_final_mrcnn_x101.pth\n",
        "#    ## Next line will download \"COCO-InstanceSegmentation/mask_rcnn_R_50_FPN_3x.yaml\" achitecture and score of 0.08\n",
        "#    #> gdown --id 1p5babyX6H80Rt8P8O2ts4g7SJihN2KtV --output model_final_mrcnn_resnet50.pth\n",
        "# 3. Submit your code using git-lfs\n",
        "#    #> git lfs install\n",
        "#    #> git lfs track \"*.pth\"\n",
        "#    #> git add .gitattributes\n",
        "#    #> git add models\n",
        "#\n",
        "\n",
        "import os\n",
        "import json\n",
        "import glob\n",
        "from PIL import Image\n",
        "import importlib\n",
        "import numpy as np\n",
        "import cv2\n",
        "import torch\n",
        "\n",
        "import pycocotools.mask as mask_util\n",
        "from detectron2.config import get_cfg\n",
        "from detectron2.engine import DefaultPredictor\n",
        "from detectron2.structures import Boxes, BoxMode\n",
        "\n",
        "from detectron2.data import build_detection_test_loader\n",
        "from detectron2.evaluation import COCOEvaluator, inference_on_dataset\n",
        "\n",
        "from evaluator.food_challenge import FoodChallengePredictor\n",
        "\n",
        "\n",
        "\"\"\"\n",
        "Expected ENVIRONMENT Variables\n",
        "* AICROWD_TEST_IMAGES_PATH : abs path to  folder containing all the test images\n",
        "* AICROWD_PREDICTIONS_OUTPUT_PATH : path where you are supposed to write the output predictions.json\n",
        "\"\"\"\n",
        "\n",
        "class Detectron2Predictor(FoodChallengePredictor):\n",
        "\n",
        "    \"\"\"\n",
        "    PARTICIPANT_TODO:\n",
        "    You can do any preprocessing required for your codebase here like loading up models into memory, etc.\n",
        "    \"\"\"\n",
        "    def prediction_setup(self):\n",
        "        # self.PADDING = 50\n",
        "        # self.SEGMENTATION_LENGTH = 10\n",
        "        # self.MAX_NUMBER_OF_ANNOTATIONS = 10\n",
        "\n",
        "        #set the config parameters, including the architecture which was previously used\n",
        "        self.config = self.get_detectron_config()\n",
        "        self.model_name = self.config[\"model_type\"]\n",
        "        self.model = importlib.import_module(f\"detectron2.{self.model_name}\")\n",
        "        self.class_to_category = self.get_class_to_category()\n",
        "\n",
        "        self.cfg = get_cfg()\n",
        "        self.cfg.merge_from_file(self.model.get_config_file(self.config[\"model_config_file\"]))\n",
        "        self.cfg.MODEL.WEIGHTS = self.config[\"model_path\"]\n",
        "\n",
        "        #set the threshold & num classes\n",
        "        self.cfg.MODEL.ROI_HEADS.SCORE_THRESH_TEST = self.config[\"detectron_model_config\"][\"ROI_HEADS\"][\"SCORE_THRESH_TEST\"]   # set the testing threshold for this model\n",
        "        self.cfg.MODEL.ROI_HEADS.NUM_CLASSES = 498\n",
        "\n",
        "        self.cfg.MODEL.DEVICE = \"cuda\"\n",
        "        self.predictor = DefaultPredictor(self.cfg)\n",
        "\n",
        "\n",
        "    \"\"\"\n",
        "    PARTICIPANT_TODO:\n",
        "    During the evaluation all image file path will be provided one by one.\n",
        "    NOTE: In case you want to load your model, please do so in `predict_setup` function.\n",
        "    \"\"\"\n",
        "    def prediction(self, image_path):\n",
        "        print(\"Generating for\", image_path)\n",
        "        # read the image\n",
        "        img = cv2.imread(image_path)\n",
        "        prediction = self.predictor(img)\n",
        "        \n",
        "        annotations = []\n",
        "        instances = prediction[\"instances\"]\n",
        "        if len(instances) > 0:\n",
        "            scores = instances.scores.tolist()\n",
        "            classes = instances.pred_classes.tolist()\n",
        "            bboxes = BoxMode.convert(\n",
        "                instances.pred_boxes.tensor.cpu(),\n",
        "                BoxMode.XYXY_ABS,\n",
        "                BoxMode.XYWH_ABS,\n",
        "            ).tolist()\n",
        "\n",
        "            masks = []\n",
        "            if instances.has(\"pred_masks\"):\n",
        "                for mask in instances.pred_masks.cpu():\n",
        "                    _mask = mask_util.encode(np.array(mask[:, :, None], order=\"F\", dtype=\"uint8\"))[0]\n",
        "                    _mask[\"counts\"] = _mask[\"counts\"].decode(\"utf-8\")\n",
        "                    masks.append(_mask)\n",
        "\n",
        "            for idx in range(len(instances)):\n",
        "                category_id = self.class_to_category[str(classes[idx])] # json converts int keys to str\n",
        "                output = {\n",
        "                    \"image_id\": int(os.path.basename(image_path).split(\".\")[0]),\n",
        "                    \"category_id\": category_id,\n",
        "                    \"bbox\": bboxes[idx],\n",
        "                    \"score\": scores[idx],\n",
        "                }\n",
        "                if len(masks) > 0:\n",
        "                    output[\"segmentation\"] = masks[idx]\n",
        "                annotations.append(output)\n",
        "        \n",
        "        # You can return single annotation or array of annotations in your code.\n",
        "        return annotations\n",
        "\n",
        "    def get_class_to_category(self):\n",
        "        class_to_category = {}\n",
        "        with open(\"utils/class_to_category.json\") as fp:\n",
        "            class_to_category = json.load(fp)\n",
        "        return class_to_category\n",
        "\n",
        "    def get_detectron_config(self):\n",
        "        with open(\"aicrowd.json\") as fp:\n",
        "            config = json.load(fp)\n",
        "        return config\n",
        "\n",
        "\n",
        "if __name__ == \"__main__\":\n",
        "    submission = Detectron2Predictor()\n",
        "    submission.run()\n",
        "    print(\"Successfully generated predictions!\")"
      ],
      "metadata": {
        "colab": {
          "base_uri": "https://localhost:8080/"
        },
        "cellView": "form",
        "id": "PbawUksbuF_5",
        "outputId": "aa5c570c-d019-4ede-f7db-1917cbc1f429"
      },
      "execution_count": null,
      "outputs": [
        {
          "output_type": "stream",
          "name": "stdout",
          "text": [
            "Overwriting /content/food-recognition-2022-detectron2-baseline/predict_detectron2.py\n"
          ]
        }
      ]
    },
    {
      "cell_type": "markdown",
      "source": [
        "Copy the Trained model file, `class_to_category.json` and install git-lfs and push the repo with `submission` tag"
      ],
      "metadata": {
        "id": "RvyPnS1NEjkP"
      }
    },
    {
      "cell_type": "code",
      "source": [
        "%%bash\n",
        "\n",
        "## Set your unique tag for this submission (no spaces), example:\n",
        "# export MSG=\"v1\"\n",
        "# export MSG=\"v2\" ...\n",
        "# or something more informative...\n",
        "export MSG=\"detectron2_submission_v1\"\n",
        "\n",
        "\n",
        "username=$(cat author.txt)\n",
        "echo \"Username $username\"\n",
        "\n",
        "sed -i 's/^submission = .*$/submission = detectron2_predictor/g' predict.py\n",
        "\n",
        "mkdir -p /content/food-recognition-2022-detectron2-baseline/models\n",
        "cp /content/class_to_category.json /content/food-recognition-2022-detectron2-baseline/utils/class_to_category.json\n",
        "cp /content/model_final.pth /content/food-recognition-2022-detectron2-baseline/models/model_final.pth\n",
        "\n",
        "cd /content/food-recognition-2022-detectron2-baseline\n",
        "git lfs track \"*.pth\"\n",
        "git add .gitattributes\n",
        "git add --all\n",
        "git commit -m \"$MSG\" || true\n",
        "\n",
        "find . -type f -size +5M -exec git lfs migrate import --include={} &> /dev/null \\;\n",
        "\n",
        "git tag -am \"submission_$MSG\" \"submission_$MSG\"\n",
        "git config lfs.https://gitlab.aicrowd.com/$username/food-recognition-2022-detectron2-baseline.git/info/lfs.locksverify false\n",
        "\n",
        "git remote remove origin\n",
        "git remote add origin git@gitlab.aicrowd.com:$username/food-recognition-2022-detectron2-baseline.git\n",
        "\n",
        "git lfs push origin master\n",
        "git push origin master\n",
        "git push origin \"submission_$MSG\"\n",
        "\n",
        "echo \"Track your submission status here: https://gitlab.aicrowd.com/$username/food-recognition-2022-detectron2-baseline/issues\""
      ],
      "metadata": {
        "colab": {
          "base_uri": "https://localhost:8080/"
        },
        "id": "NJ3phJwgDYXz",
        "outputId": "82b7877e-926e-49e0-cc22-3898e5c33c43"
      },
      "execution_count": null,
      "outputs": [
        {
          "output_type": "stream",
          "name": "stdout",
          "text": [
            "Username shivam\n",
            "Tracking \"*.pth\"\n",
            "[master 62ca19a] detectron2_submission_v1\n",
            " 3 files changed, 23 insertions(+), 7 deletions(-)\n",
            " create mode 100644 .gitattributes\n",
            " rewrite aicrowd.json (98%)\n",
            " create mode 100644 models/model_final.pth\n",
            "\rGit LFS: (0 of 1 files) 0 B / 178.25 MB                                        \rGit LFS: (0 of 1 files) 96.00 KB / 178.25 MB                                   \rGit LFS: (0 of 1 files) 160.00 KB / 178.25 MB                                  \rGit LFS: (0 of 1 files) 512.00 KB / 178.25 MB                                  \rGit LFS: (0 of 1 files) 1.06 MB / 178.25 MB                                    \rGit LFS: (0 of 1 files) 4.44 MB / 178.25 MB                                    \rGit LFS: (0 of 1 files) 7.41 MB / 178.25 MB                                    \rGit LFS: (0 of 1 files) 8.88 MB / 178.25 MB                                    \rGit LFS: (0 of 1 files) 13.28 MB / 178.25 MB                                   \rGit LFS: (0 of 1 files) 14.69 MB / 178.25 MB                                   \rGit LFS: (0 of 1 files) 19.03 MB / 178.25 MB                                   \rGit LFS: (0 of 1 files) 20.50 MB / 178.25 MB                                   \rGit LFS: (0 of 1 files) 24.94 MB / 178.25 MB                                   \rGit LFS: (0 of 1 files) 27.84 MB / 178.25 MB                                   \rGit LFS: (0 of 1 files) 29.28 MB / 178.25 MB                                   \rGit LFS: (0 of 1 files) 33.59 MB / 178.25 MB                                   \rGit LFS: (0 of 1 files) 35.06 MB / 178.25 MB                                   \rGit LFS: (0 of 1 files) 39.53 MB / 178.25 MB                                   \rGit LFS: (0 of 1 files) 42.38 MB / 178.25 MB                                   \rGit LFS: (0 of 1 files) 45.19 MB / 178.25 MB                                   \rGit LFS: (0 of 1 files) 48.03 MB / 178.25 MB                                   \rGit LFS: (0 of 1 files) 49.53 MB / 178.25 MB                                   \rGit LFS: (0 of 1 files) 53.84 MB / 178.25 MB                                   \rGit LFS: (0 of 1 files) 56.75 MB / 178.25 MB                                   \rGit LFS: (0 of 1 files) 59.59 MB / 178.25 MB                                   \rGit LFS: (0 of 1 files) 62.50 MB / 178.25 MB                                   \rGit LFS: (0 of 1 files) 65.28 MB / 178.25 MB                                   \rGit LFS: (0 of 1 files) 68.19 MB / 178.25 MB                                   \rGit LFS: (0 of 1 files) 71.06 MB / 178.25 MB                                   \rGit LFS: (0 of 1 files) 75.34 MB / 178.25 MB                                   \rGit LFS: (0 of 1 files) 76.81 MB / 178.25 MB                                   \rGit LFS: (0 of 1 files) 79.72 MB / 178.25 MB                                   \rGit LFS: (0 of 1 files) 82.69 MB / 178.25 MB                                   \rGit LFS: (0 of 1 files) 85.53 MB / 178.25 MB                                   \rGit LFS: (0 of 1 files) 89.84 MB / 178.25 MB                                   \rGit LFS: (0 of 1 files) 91.34 MB / 178.25 MB                                   \rGit LFS: (0 of 1 files) 95.66 MB / 178.25 MB                                   \rGit LFS: (0 of 1 files) 98.50 MB / 178.25 MB                                   \rGit LFS: (0 of 1 files) 99.97 MB / 178.25 MB                                   \rGit LFS: (0 of 1 files) 104.25 MB / 178.25 MB                                  \rGit LFS: (0 of 1 files) 107.06 MB / 178.25 MB                                  \rGit LFS: (0 of 1 files) 109.78 MB / 178.25 MB                                  \rGit LFS: (0 of 1 files) 112.62 MB / 178.25 MB                                  \rGit LFS: (0 of 1 files) 115.53 MB / 178.25 MB                                  \rGit LFS: (0 of 1 files) 118.50 MB / 178.25 MB                                  \rGit LFS: (0 of 1 files) 121.34 MB / 178.25 MB                                  \rGit LFS: (0 of 1 files) 124.31 MB / 178.25 MB                                  \rGit LFS: (0 of 1 files) 127.22 MB / 178.25 MB                                  \rGit LFS: (0 of 1 files) 130.16 MB / 178.25 MB                                  \rGit LFS: (0 of 1 files) 133.06 MB / 178.25 MB                                  \rGit LFS: (0 of 1 files) 135.97 MB / 178.25 MB                                  \rGit LFS: (0 of 1 files) 138.94 MB / 178.25 MB                                  \rGit LFS: (0 of 1 files) 141.97 MB / 178.25 MB                                  \rGit LFS: (0 of 1 files) 144.81 MB / 178.25 MB                                  \rGit LFS: (0 of 1 files) 147.66 MB / 178.25 MB                                  \rGit LFS: (0 of 1 files) 150.44 MB / 178.25 MB                                  \rGit LFS: (0 of 1 files) 153.22 MB / 178.25 MB                                  \rGit LFS: (0 of 1 files) 155.94 MB / 178.25 MB                                  \rGit LFS: (0 of 1 files) 158.81 MB / 178.25 MB                                  \rGit LFS: (0 of 1 files) 161.66 MB / 178.25 MB                                  \rGit LFS: (0 of 1 files) 165.94 MB / 178.25 MB                                  \rGit LFS: (0 of 1 files) 168.72 MB / 178.25 MB                                  \rGit LFS: (0 of 1 files) 171.53 MB / 178.25 MB                                  \rGit LFS: (0 of 1 files) 174.31 MB / 178.25 MB                                  \rGit LFS: (0 of 1 files) 177.16 MB / 178.25 MB                                  \rGit LFS: (0 of 1 files) 178.25 MB / 178.25 MB                                  \rGit LFS: (0 of 1 files) 178.25 MB / 178.25 MB                                  \rGit LFS: (0 of 1 files) 178.25 MB / 178.25 MB                                  \rGit LFS: (0 of 1 files) 178.25 MB / 178.25 MB                                  \rGit LFS: (1 of 1 files) 178.25 MB / 178.25 MB                                  \n",
            "\rGit LFS: (0 of 0 files, 1 skipped) 0 B / 0 B, 178.25 MB skipped                \rGit LFS: (0 of 0 files, 1 skipped) 0 B / 0 B, 178.25 MB skipped                "
          ]
        },
        {
          "output_type": "stream",
          "name": "stderr",
          "text": [
            "remote: \n",
            "remote: \n",
            "remote: The private project shivam/food-recognition-2022-detectron2-baseline was successfully created.        \n",
            "remote: \n",
            "remote: To configure the remote, run:        \n",
            "remote:   git remote add origin git@gitlab.aicrowd.com:shivam/food-recognition-2022-detectron2-baseline.git        \n",
            "remote: \n",
            "remote: To view the project, visit:\n",
            "remote:   http://gitlab.aicrowd.com/shivam/food-recognition-2022-detectron2-baseline        \n",
            "remote: \n",
            "remote: \n",
            "remote: \n",
            "To gitlab.aicrowd.com:shivam/food-recognition-2022-detectron2-baseline.git\n",
            " * [new branch]      master -> master\n",
            "remote: \n",
            "remote:           #///(            )///#        \n",
            "remote:          ////      ///      ////        \n",
            "remote:         /////   //////////   ////        \n",
            "remote:         /////////////////////////        \n",
            "remote:      /// /////////////////////// ///        \n",
            "remote:    ///////////////////////////////////        \n",
            "remote:   /////////////////////////////////////        \n",
            "remote:     )////////////////////////////////(        \n",
            "remote:      /////                      /////        \n",
            "remote:    (///////   ///       ///    //////)        \n",
            "remote:   ///////////    ///////     //////////        \n",
            "remote: (///////////////////////////////////////)        \n",
            "remote:           /////           /////        \n",
            "remote:             /////////////////        \n",
            "remote:                ///////////        \n",
            "remote: \n",
            "To gitlab.aicrowd.com:shivam/food-recognition-2022-detectron2-baseline.git\n",
            " * [new tag]         submission_detectron2_submission_v1 -> submission_detectron2_submission_v1\n"
          ]
        }
      ]
    },
    {
      "cell_type": "markdown",
      "source": [
        "## Local Evaluation for Active Submission Repo"
      ],
      "metadata": {
        "id": "gKuN7XOKJFT2"
      }
    },
    {
      "cell_type": "code",
      "source": [
        "%cd /content/food-recognition-2022-detectron2-baseline"
      ],
      "metadata": {
        "colab": {
          "base_uri": "https://localhost:8080/"
        },
        "id": "ZFZBfw58yHLL",
        "outputId": "4d884ec1-7348-44a3-d309-340302b79f5b"
      },
      "execution_count": null,
      "outputs": [
        {
          "output_type": "stream",
          "name": "stdout",
          "text": [
            "/content/food-recognition-2022-detectron2-baseline\n"
          ]
        }
      ]
    },
    {
      "cell_type": "code",
      "source": [
        "%%bash\n",
        "\n",
        "export TEST_DATASET_PATH='../data/test/images'\n",
        "export RESULTS_DATASET_PATH='../data'\n",
        "./run.sh"
      ],
      "metadata": {
        "id": "jIFXCMSFt8ai"
      },
      "execution_count": null,
      "outputs": []
    }
  ],
  "metadata": {
    "accelerator": "GPU",
    "colab": {
      "collapsed_sections": [
        "JjXs1F3taBMH",
        "xa89ntbpfRU0"
      ],
      "name": "mask2former",
      "provenance": [],
      "include_colab_link": true
    },
    "kernelspec": {
      "display_name": "Python 3",
      "name": "python3"
    },
    "widgets": {
      "application/vnd.jupyter.widget-state+json": {
        "b0882ecee6e041139f763eb557ade702": {
          "model_module": "@jupyter-widgets/controls",
          "model_name": "HBoxModel",
          "model_module_version": "1.5.0",
          "state": {
            "_view_name": "HBoxView",
            "_dom_classes": [],
            "_model_name": "HBoxModel",
            "_view_module": "@jupyter-widgets/controls",
            "_model_module_version": "1.5.0",
            "_view_count": null,
            "_view_module_version": "1.5.0",
            "box_style": "",
            "layout": "IPY_MODEL_2dd2ee0945f44b59b709440f3c94ccc0",
            "_model_module": "@jupyter-widgets/controls",
            "children": [
              "IPY_MODEL_139a0cbb9bb34c55a13803ffc0d7f7d8",
              "IPY_MODEL_ee1b420e9c494564a865742e3161b4bc",
              "IPY_MODEL_1a90baad40f342fda1c8a6ae55bce121"
            ]
          }
        },
        "2dd2ee0945f44b59b709440f3c94ccc0": {
          "model_module": "@jupyter-widgets/base",
          "model_name": "LayoutModel",
          "model_module_version": "1.2.0",
          "state": {
            "_view_name": "LayoutView",
            "grid_template_rows": null,
            "right": null,
            "justify_content": null,
            "_view_module": "@jupyter-widgets/base",
            "overflow": null,
            "_model_module_version": "1.2.0",
            "_view_count": null,
            "flex_flow": null,
            "width": null,
            "min_width": null,
            "border": null,
            "align_items": null,
            "bottom": null,
            "_model_module": "@jupyter-widgets/base",
            "top": null,
            "grid_column": null,
            "overflow_y": null,
            "overflow_x": null,
            "grid_auto_flow": null,
            "grid_area": null,
            "grid_template_columns": null,
            "flex": null,
            "_model_name": "LayoutModel",
            "justify_items": null,
            "grid_row": null,
            "max_height": null,
            "align_content": null,
            "visibility": null,
            "align_self": null,
            "height": null,
            "min_height": null,
            "padding": null,
            "grid_auto_rows": null,
            "grid_gap": null,
            "max_width": null,
            "order": null,
            "_view_module_version": "1.2.0",
            "grid_template_areas": null,
            "object_position": null,
            "object_fit": null,
            "grid_auto_columns": null,
            "margin": null,
            "display": null,
            "left": null
          }
        },
        "139a0cbb9bb34c55a13803ffc0d7f7d8": {
          "model_module": "@jupyter-widgets/controls",
          "model_name": "HTMLModel",
          "model_module_version": "1.5.0",
          "state": {
            "_view_name": "HTMLView",
            "style": "IPY_MODEL_45f9fd61810c405d9a24417fde127c21",
            "_dom_classes": [],
            "description": "",
            "_model_name": "HTMLModel",
            "placeholder": "​",
            "_view_module": "@jupyter-widgets/controls",
            "_model_module_version": "1.5.0",
            "value": "100%",
            "_view_count": null,
            "_view_module_version": "1.5.0",
            "description_tooltip": null,
            "_model_module": "@jupyter-widgets/controls",
            "layout": "IPY_MODEL_adc72a43bf054ed1840e5be3ea232456"
          }
        },
        "ee1b420e9c494564a865742e3161b4bc": {
          "model_module": "@jupyter-widgets/controls",
          "model_name": "FloatProgressModel",
          "model_module_version": "1.5.0",
          "state": {
            "_view_name": "ProgressView",
            "style": "IPY_MODEL_d6b53139d41b41418bbd3420b9aa7382",
            "_dom_classes": [],
            "description": "",
            "_model_name": "FloatProgressModel",
            "bar_style": "success",
            "max": 39962,
            "_view_module": "@jupyter-widgets/controls",
            "_model_module_version": "1.5.0",
            "value": 39962,
            "_view_count": null,
            "_view_module_version": "1.5.0",
            "orientation": "horizontal",
            "min": 0,
            "description_tooltip": null,
            "_model_module": "@jupyter-widgets/controls",
            "layout": "IPY_MODEL_1f4304b798be45c0928846df5c136285"
          }
        },
        "1a90baad40f342fda1c8a6ae55bce121": {
          "model_module": "@jupyter-widgets/controls",
          "model_name": "HTMLModel",
          "model_module_version": "1.5.0",
          "state": {
            "_view_name": "HTMLView",
            "style": "IPY_MODEL_a3dff113b3cf480194440fd4d8469247",
            "_dom_classes": [],
            "description": "",
            "_model_name": "HTMLModel",
            "placeholder": "​",
            "_view_module": "@jupyter-widgets/controls",
            "_model_module_version": "1.5.0",
            "value": " 39962/39962 [04:15&lt;00:00, 239.20it/s]",
            "_view_count": null,
            "_view_module_version": "1.5.0",
            "description_tooltip": null,
            "_model_module": "@jupyter-widgets/controls",
            "layout": "IPY_MODEL_ea6b87d67e634fc1aaae57bc8437712c"
          }
        },
        "45f9fd61810c405d9a24417fde127c21": {
          "model_module": "@jupyter-widgets/controls",
          "model_name": "DescriptionStyleModel",
          "model_module_version": "1.5.0",
          "state": {
            "_view_name": "StyleView",
            "_model_name": "DescriptionStyleModel",
            "description_width": "",
            "_view_module": "@jupyter-widgets/base",
            "_model_module_version": "1.5.0",
            "_view_count": null,
            "_view_module_version": "1.2.0",
            "_model_module": "@jupyter-widgets/controls"
          }
        },
        "adc72a43bf054ed1840e5be3ea232456": {
          "model_module": "@jupyter-widgets/base",
          "model_name": "LayoutModel",
          "model_module_version": "1.2.0",
          "state": {
            "_view_name": "LayoutView",
            "grid_template_rows": null,
            "right": null,
            "justify_content": null,
            "_view_module": "@jupyter-widgets/base",
            "overflow": null,
            "_model_module_version": "1.2.0",
            "_view_count": null,
            "flex_flow": null,
            "width": null,
            "min_width": null,
            "border": null,
            "align_items": null,
            "bottom": null,
            "_model_module": "@jupyter-widgets/base",
            "top": null,
            "grid_column": null,
            "overflow_y": null,
            "overflow_x": null,
            "grid_auto_flow": null,
            "grid_area": null,
            "grid_template_columns": null,
            "flex": null,
            "_model_name": "LayoutModel",
            "justify_items": null,
            "grid_row": null,
            "max_height": null,
            "align_content": null,
            "visibility": null,
            "align_self": null,
            "height": null,
            "min_height": null,
            "padding": null,
            "grid_auto_rows": null,
            "grid_gap": null,
            "max_width": null,
            "order": null,
            "_view_module_version": "1.2.0",
            "grid_template_areas": null,
            "object_position": null,
            "object_fit": null,
            "grid_auto_columns": null,
            "margin": null,
            "display": null,
            "left": null
          }
        },
        "d6b53139d41b41418bbd3420b9aa7382": {
          "model_module": "@jupyter-widgets/controls",
          "model_name": "ProgressStyleModel",
          "model_module_version": "1.5.0",
          "state": {
            "_view_name": "StyleView",
            "_model_name": "ProgressStyleModel",
            "description_width": "",
            "_view_module": "@jupyter-widgets/base",
            "_model_module_version": "1.5.0",
            "_view_count": null,
            "_view_module_version": "1.2.0",
            "bar_color": null,
            "_model_module": "@jupyter-widgets/controls"
          }
        },
        "1f4304b798be45c0928846df5c136285": {
          "model_module": "@jupyter-widgets/base",
          "model_name": "LayoutModel",
          "model_module_version": "1.2.0",
          "state": {
            "_view_name": "LayoutView",
            "grid_template_rows": null,
            "right": null,
            "justify_content": null,
            "_view_module": "@jupyter-widgets/base",
            "overflow": null,
            "_model_module_version": "1.2.0",
            "_view_count": null,
            "flex_flow": null,
            "width": null,
            "min_width": null,
            "border": null,
            "align_items": null,
            "bottom": null,
            "_model_module": "@jupyter-widgets/base",
            "top": null,
            "grid_column": null,
            "overflow_y": null,
            "overflow_x": null,
            "grid_auto_flow": null,
            "grid_area": null,
            "grid_template_columns": null,
            "flex": null,
            "_model_name": "LayoutModel",
            "justify_items": null,
            "grid_row": null,
            "max_height": null,
            "align_content": null,
            "visibility": null,
            "align_self": null,
            "height": null,
            "min_height": null,
            "padding": null,
            "grid_auto_rows": null,
            "grid_gap": null,
            "max_width": null,
            "order": null,
            "_view_module_version": "1.2.0",
            "grid_template_areas": null,
            "object_position": null,
            "object_fit": null,
            "grid_auto_columns": null,
            "margin": null,
            "display": null,
            "left": null
          }
        },
        "a3dff113b3cf480194440fd4d8469247": {
          "model_module": "@jupyter-widgets/controls",
          "model_name": "DescriptionStyleModel",
          "model_module_version": "1.5.0",
          "state": {
            "_view_name": "StyleView",
            "_model_name": "DescriptionStyleModel",
            "description_width": "",
            "_view_module": "@jupyter-widgets/base",
            "_model_module_version": "1.5.0",
            "_view_count": null,
            "_view_module_version": "1.2.0",
            "_model_module": "@jupyter-widgets/controls"
          }
        },
        "ea6b87d67e634fc1aaae57bc8437712c": {
          "model_module": "@jupyter-widgets/base",
          "model_name": "LayoutModel",
          "model_module_version": "1.2.0",
          "state": {
            "_view_name": "LayoutView",
            "grid_template_rows": null,
            "right": null,
            "justify_content": null,
            "_view_module": "@jupyter-widgets/base",
            "overflow": null,
            "_model_module_version": "1.2.0",
            "_view_count": null,
            "flex_flow": null,
            "width": null,
            "min_width": null,
            "border": null,
            "align_items": null,
            "bottom": null,
            "_model_module": "@jupyter-widgets/base",
            "top": null,
            "grid_column": null,
            "overflow_y": null,
            "overflow_x": null,
            "grid_auto_flow": null,
            "grid_area": null,
            "grid_template_columns": null,
            "flex": null,
            "_model_name": "LayoutModel",
            "justify_items": null,
            "grid_row": null,
            "max_height": null,
            "align_content": null,
            "visibility": null,
            "align_self": null,
            "height": null,
            "min_height": null,
            "padding": null,
            "grid_auto_rows": null,
            "grid_gap": null,
            "max_width": null,
            "order": null,
            "_view_module_version": "1.2.0",
            "grid_template_areas": null,
            "object_position": null,
            "object_fit": null,
            "grid_auto_columns": null,
            "margin": null,
            "display": null,
            "left": null
          }
        },
        "390146e26c1f4dd4bd48d233520cd27b": {
          "model_module": "@jupyter-widgets/controls",
          "model_name": "HBoxModel",
          "model_module_version": "1.5.0",
          "state": {
            "_view_name": "HBoxView",
            "_dom_classes": [],
            "_model_name": "HBoxModel",
            "_view_module": "@jupyter-widgets/controls",
            "_model_module_version": "1.5.0",
            "_view_count": null,
            "_view_module_version": "1.5.0",
            "box_style": "",
            "layout": "IPY_MODEL_a2c577470695414a8eb6388015e9840e",
            "_model_module": "@jupyter-widgets/controls",
            "children": [
              "IPY_MODEL_1dfbd8167e4a4bd7a63771263a1e17dc",
              "IPY_MODEL_05b62b8eac1b46019e6589676864ca32",
              "IPY_MODEL_b83d21d1ea8a48a7bd8057f5398fc814"
            ]
          }
        },
        "a2c577470695414a8eb6388015e9840e": {
          "model_module": "@jupyter-widgets/base",
          "model_name": "LayoutModel",
          "model_module_version": "1.2.0",
          "state": {
            "_view_name": "LayoutView",
            "grid_template_rows": null,
            "right": null,
            "justify_content": null,
            "_view_module": "@jupyter-widgets/base",
            "overflow": null,
            "_model_module_version": "1.2.0",
            "_view_count": null,
            "flex_flow": null,
            "width": null,
            "min_width": null,
            "border": null,
            "align_items": null,
            "bottom": null,
            "_model_module": "@jupyter-widgets/base",
            "top": null,
            "grid_column": null,
            "overflow_y": null,
            "overflow_x": null,
            "grid_auto_flow": null,
            "grid_area": null,
            "grid_template_columns": null,
            "flex": null,
            "_model_name": "LayoutModel",
            "justify_items": null,
            "grid_row": null,
            "max_height": null,
            "align_content": null,
            "visibility": null,
            "align_self": null,
            "height": null,
            "min_height": null,
            "padding": null,
            "grid_auto_rows": null,
            "grid_gap": null,
            "max_width": null,
            "order": null,
            "_view_module_version": "1.2.0",
            "grid_template_areas": null,
            "object_position": null,
            "object_fit": null,
            "grid_auto_columns": null,
            "margin": null,
            "display": null,
            "left": null
          }
        },
        "1dfbd8167e4a4bd7a63771263a1e17dc": {
          "model_module": "@jupyter-widgets/controls",
          "model_name": "HTMLModel",
          "model_module_version": "1.5.0",
          "state": {
            "_view_name": "HTMLView",
            "style": "IPY_MODEL_184d98efba39440ea31666a15c278821",
            "_dom_classes": [],
            "description": "",
            "_model_name": "HTMLModel",
            "placeholder": "​",
            "_view_module": "@jupyter-widgets/controls",
            "_model_module_version": "1.5.0",
            "value": "100%",
            "_view_count": null,
            "_view_module_version": "1.5.0",
            "description_tooltip": null,
            "_model_module": "@jupyter-widgets/controls",
            "layout": "IPY_MODEL_d62085afb5da4c82801707eceaf0551b"
          }
        },
        "05b62b8eac1b46019e6589676864ca32": {
          "model_module": "@jupyter-widgets/controls",
          "model_name": "FloatProgressModel",
          "model_module_version": "1.5.0",
          "state": {
            "_view_name": "ProgressView",
            "style": "IPY_MODEL_7cc789e97a1d4dad982c8833d2ebe8e2",
            "_dom_classes": [],
            "description": "",
            "_model_name": "FloatProgressModel",
            "bar_style": "success",
            "max": 1000,
            "_view_module": "@jupyter-widgets/controls",
            "_model_module_version": "1.5.0",
            "value": 1000,
            "_view_count": null,
            "_view_module_version": "1.5.0",
            "orientation": "horizontal",
            "min": 0,
            "description_tooltip": null,
            "_model_module": "@jupyter-widgets/controls",
            "layout": "IPY_MODEL_744fc4066c0444bf9fee9063f171e166"
          }
        },
        "b83d21d1ea8a48a7bd8057f5398fc814": {
          "model_module": "@jupyter-widgets/controls",
          "model_name": "HTMLModel",
          "model_module_version": "1.5.0",
          "state": {
            "_view_name": "HTMLView",
            "style": "IPY_MODEL_bd7aa8502c494b89a618e977a294a5a8",
            "_dom_classes": [],
            "description": "",
            "_model_name": "HTMLModel",
            "placeholder": "​",
            "_view_module": "@jupyter-widgets/controls",
            "_model_module_version": "1.5.0",
            "value": " 1000/1000 [00:07&lt;00:00, 91.54it/s]",
            "_view_count": null,
            "_view_module_version": "1.5.0",
            "description_tooltip": null,
            "_model_module": "@jupyter-widgets/controls",
            "layout": "IPY_MODEL_ac37e1460394445cbdd0de42380aa39b"
          }
        },
        "184d98efba39440ea31666a15c278821": {
          "model_module": "@jupyter-widgets/controls",
          "model_name": "DescriptionStyleModel",
          "model_module_version": "1.5.0",
          "state": {
            "_view_name": "StyleView",
            "_model_name": "DescriptionStyleModel",
            "description_width": "",
            "_view_module": "@jupyter-widgets/base",
            "_model_module_version": "1.5.0",
            "_view_count": null,
            "_view_module_version": "1.2.0",
            "_model_module": "@jupyter-widgets/controls"
          }
        },
        "d62085afb5da4c82801707eceaf0551b": {
          "model_module": "@jupyter-widgets/base",
          "model_name": "LayoutModel",
          "model_module_version": "1.2.0",
          "state": {
            "_view_name": "LayoutView",
            "grid_template_rows": null,
            "right": null,
            "justify_content": null,
            "_view_module": "@jupyter-widgets/base",
            "overflow": null,
            "_model_module_version": "1.2.0",
            "_view_count": null,
            "flex_flow": null,
            "width": null,
            "min_width": null,
            "border": null,
            "align_items": null,
            "bottom": null,
            "_model_module": "@jupyter-widgets/base",
            "top": null,
            "grid_column": null,
            "overflow_y": null,
            "overflow_x": null,
            "grid_auto_flow": null,
            "grid_area": null,
            "grid_template_columns": null,
            "flex": null,
            "_model_name": "LayoutModel",
            "justify_items": null,
            "grid_row": null,
            "max_height": null,
            "align_content": null,
            "visibility": null,
            "align_self": null,
            "height": null,
            "min_height": null,
            "padding": null,
            "grid_auto_rows": null,
            "grid_gap": null,
            "max_width": null,
            "order": null,
            "_view_module_version": "1.2.0",
            "grid_template_areas": null,
            "object_position": null,
            "object_fit": null,
            "grid_auto_columns": null,
            "margin": null,
            "display": null,
            "left": null
          }
        },
        "7cc789e97a1d4dad982c8833d2ebe8e2": {
          "model_module": "@jupyter-widgets/controls",
          "model_name": "ProgressStyleModel",
          "model_module_version": "1.5.0",
          "state": {
            "_view_name": "StyleView",
            "_model_name": "ProgressStyleModel",
            "description_width": "",
            "_view_module": "@jupyter-widgets/base",
            "_model_module_version": "1.5.0",
            "_view_count": null,
            "_view_module_version": "1.2.0",
            "bar_color": null,
            "_model_module": "@jupyter-widgets/controls"
          }
        },
        "744fc4066c0444bf9fee9063f171e166": {
          "model_module": "@jupyter-widgets/base",
          "model_name": "LayoutModel",
          "model_module_version": "1.2.0",
          "state": {
            "_view_name": "LayoutView",
            "grid_template_rows": null,
            "right": null,
            "justify_content": null,
            "_view_module": "@jupyter-widgets/base",
            "overflow": null,
            "_model_module_version": "1.2.0",
            "_view_count": null,
            "flex_flow": null,
            "width": null,
            "min_width": null,
            "border": null,
            "align_items": null,
            "bottom": null,
            "_model_module": "@jupyter-widgets/base",
            "top": null,
            "grid_column": null,
            "overflow_y": null,
            "overflow_x": null,
            "grid_auto_flow": null,
            "grid_area": null,
            "grid_template_columns": null,
            "flex": null,
            "_model_name": "LayoutModel",
            "justify_items": null,
            "grid_row": null,
            "max_height": null,
            "align_content": null,
            "visibility": null,
            "align_self": null,
            "height": null,
            "min_height": null,
            "padding": null,
            "grid_auto_rows": null,
            "grid_gap": null,
            "max_width": null,
            "order": null,
            "_view_module_version": "1.2.0",
            "grid_template_areas": null,
            "object_position": null,
            "object_fit": null,
            "grid_auto_columns": null,
            "margin": null,
            "display": null,
            "left": null
          }
        },
        "bd7aa8502c494b89a618e977a294a5a8": {
          "model_module": "@jupyter-widgets/controls",
          "model_name": "DescriptionStyleModel",
          "model_module_version": "1.5.0",
          "state": {
            "_view_name": "StyleView",
            "_model_name": "DescriptionStyleModel",
            "description_width": "",
            "_view_module": "@jupyter-widgets/base",
            "_model_module_version": "1.5.0",
            "_view_count": null,
            "_view_module_version": "1.2.0",
            "_model_module": "@jupyter-widgets/controls"
          }
        },
        "ac37e1460394445cbdd0de42380aa39b": {
          "model_module": "@jupyter-widgets/base",
          "model_name": "LayoutModel",
          "model_module_version": "1.2.0",
          "state": {
            "_view_name": "LayoutView",
            "grid_template_rows": null,
            "right": null,
            "justify_content": null,
            "_view_module": "@jupyter-widgets/base",
            "overflow": null,
            "_model_module_version": "1.2.0",
            "_view_count": null,
            "flex_flow": null,
            "width": null,
            "min_width": null,
            "border": null,
            "align_items": null,
            "bottom": null,
            "_model_module": "@jupyter-widgets/base",
            "top": null,
            "grid_column": null,
            "overflow_y": null,
            "overflow_x": null,
            "grid_auto_flow": null,
            "grid_area": null,
            "grid_template_columns": null,
            "flex": null,
            "_model_name": "LayoutModel",
            "justify_items": null,
            "grid_row": null,
            "max_height": null,
            "align_content": null,
            "visibility": null,
            "align_self": null,
            "height": null,
            "min_height": null,
            "padding": null,
            "grid_auto_rows": null,
            "grid_gap": null,
            "max_width": null,
            "order": null,
            "_view_module_version": "1.2.0",
            "grid_template_areas": null,
            "object_position": null,
            "object_fit": null,
            "grid_auto_columns": null,
            "margin": null,
            "display": null,
            "left": null
          }
        },
        "1fc12931292d4906a21f4e1b856ffb83": {
          "model_module": "@jupyter-widgets/controls",
          "model_name": "HBoxModel",
          "model_module_version": "1.5.0",
          "state": {
            "_view_name": "HBoxView",
            "_dom_classes": [],
            "_model_name": "HBoxModel",
            "_view_module": "@jupyter-widgets/controls",
            "_model_module_version": "1.5.0",
            "_view_count": null,
            "_view_module_version": "1.5.0",
            "box_style": "",
            "layout": "IPY_MODEL_7f78d09c22a24ec79a879d695c0d9a15",
            "_model_module": "@jupyter-widgets/controls",
            "children": [
              "IPY_MODEL_f83c58329e654f83b8063f0861bee3da",
              "IPY_MODEL_dc65016733dd435c8fbcc3a758e88768",
              "IPY_MODEL_f32b8de907f24e4fa82aaf44729fa18b"
            ]
          }
        },
        "7f78d09c22a24ec79a879d695c0d9a15": {
          "model_module": "@jupyter-widgets/base",
          "model_name": "LayoutModel",
          "model_module_version": "1.2.0",
          "state": {
            "_view_name": "LayoutView",
            "grid_template_rows": null,
            "right": null,
            "justify_content": null,
            "_view_module": "@jupyter-widgets/base",
            "overflow": null,
            "_model_module_version": "1.2.0",
            "_view_count": null,
            "flex_flow": null,
            "width": null,
            "min_width": null,
            "border": null,
            "align_items": null,
            "bottom": null,
            "_model_module": "@jupyter-widgets/base",
            "top": null,
            "grid_column": null,
            "overflow_y": null,
            "overflow_x": null,
            "grid_auto_flow": null,
            "grid_area": null,
            "grid_template_columns": null,
            "flex": null,
            "_model_name": "LayoutModel",
            "justify_items": null,
            "grid_row": null,
            "max_height": null,
            "align_content": null,
            "visibility": null,
            "align_self": null,
            "height": null,
            "min_height": null,
            "padding": null,
            "grid_auto_rows": null,
            "grid_gap": null,
            "max_width": null,
            "order": null,
            "_view_module_version": "1.2.0",
            "grid_template_areas": null,
            "object_position": null,
            "object_fit": null,
            "grid_auto_columns": null,
            "margin": null,
            "display": null,
            "left": null
          }
        },
        "f83c58329e654f83b8063f0861bee3da": {
          "model_module": "@jupyter-widgets/controls",
          "model_name": "HTMLModel",
          "model_module_version": "1.5.0",
          "state": {
            "_view_name": "HTMLView",
            "style": "IPY_MODEL_a3493d973b61483aa677f3307a979000",
            "_dom_classes": [],
            "description": "",
            "_model_name": "HTMLModel",
            "placeholder": "​",
            "_view_module": "@jupyter-widgets/controls",
            "_model_module_version": "1.5.0",
            "value": "100%",
            "_view_count": null,
            "_view_module_version": "1.5.0",
            "description_tooltip": null,
            "_model_module": "@jupyter-widgets/controls",
            "layout": "IPY_MODEL_99bc5bbb528e47cda1e22910316db947"
          }
        },
        "dc65016733dd435c8fbcc3a758e88768": {
          "model_module": "@jupyter-widgets/controls",
          "model_name": "FloatProgressModel",
          "model_module_version": "1.5.0",
          "state": {
            "_view_name": "ProgressView",
            "style": "IPY_MODEL_f047082ad9cb4fe0869f2132b58e6c99",
            "_dom_classes": [],
            "description": "",
            "_model_name": "FloatProgressModel",
            "bar_style": "success",
            "max": 3000,
            "_view_module": "@jupyter-widgets/controls",
            "_model_module_version": "1.5.0",
            "value": 3000,
            "_view_count": null,
            "_view_module_version": "1.5.0",
            "orientation": "horizontal",
            "min": 0,
            "description_tooltip": null,
            "_model_module": "@jupyter-widgets/controls",
            "layout": "IPY_MODEL_91895e0727864833a00050f7590a892f"
          }
        },
        "f32b8de907f24e4fa82aaf44729fa18b": {
          "model_module": "@jupyter-widgets/controls",
          "model_name": "HTMLModel",
          "model_module_version": "1.5.0",
          "state": {
            "_view_name": "HTMLView",
            "style": "IPY_MODEL_e3499f635c5346ecb15066543b1da61f",
            "_dom_classes": [],
            "description": "",
            "_model_name": "HTMLModel",
            "placeholder": "​",
            "_view_module": "@jupyter-widgets/controls",
            "_model_module_version": "1.5.0",
            "value": " 3000/3000 [17:21&lt;00:00,  1.76it/s]",
            "_view_count": null,
            "_view_module_version": "1.5.0",
            "description_tooltip": null,
            "_model_module": "@jupyter-widgets/controls",
            "layout": "IPY_MODEL_ce158d30ced44a0e8aa2c0624b78e0f4"
          }
        },
        "a3493d973b61483aa677f3307a979000": {
          "model_module": "@jupyter-widgets/controls",
          "model_name": "DescriptionStyleModel",
          "model_module_version": "1.5.0",
          "state": {
            "_view_name": "StyleView",
            "_model_name": "DescriptionStyleModel",
            "description_width": "",
            "_view_module": "@jupyter-widgets/base",
            "_model_module_version": "1.5.0",
            "_view_count": null,
            "_view_module_version": "1.2.0",
            "_model_module": "@jupyter-widgets/controls"
          }
        },
        "99bc5bbb528e47cda1e22910316db947": {
          "model_module": "@jupyter-widgets/base",
          "model_name": "LayoutModel",
          "model_module_version": "1.2.0",
          "state": {
            "_view_name": "LayoutView",
            "grid_template_rows": null,
            "right": null,
            "justify_content": null,
            "_view_module": "@jupyter-widgets/base",
            "overflow": null,
            "_model_module_version": "1.2.0",
            "_view_count": null,
            "flex_flow": null,
            "width": null,
            "min_width": null,
            "border": null,
            "align_items": null,
            "bottom": null,
            "_model_module": "@jupyter-widgets/base",
            "top": null,
            "grid_column": null,
            "overflow_y": null,
            "overflow_x": null,
            "grid_auto_flow": null,
            "grid_area": null,
            "grid_template_columns": null,
            "flex": null,
            "_model_name": "LayoutModel",
            "justify_items": null,
            "grid_row": null,
            "max_height": null,
            "align_content": null,
            "visibility": null,
            "align_self": null,
            "height": null,
            "min_height": null,
            "padding": null,
            "grid_auto_rows": null,
            "grid_gap": null,
            "max_width": null,
            "order": null,
            "_view_module_version": "1.2.0",
            "grid_template_areas": null,
            "object_position": null,
            "object_fit": null,
            "grid_auto_columns": null,
            "margin": null,
            "display": null,
            "left": null
          }
        },
        "f047082ad9cb4fe0869f2132b58e6c99": {
          "model_module": "@jupyter-widgets/controls",
          "model_name": "ProgressStyleModel",
          "model_module_version": "1.5.0",
          "state": {
            "_view_name": "StyleView",
            "_model_name": "ProgressStyleModel",
            "description_width": "",
            "_view_module": "@jupyter-widgets/base",
            "_model_module_version": "1.5.0",
            "_view_count": null,
            "_view_module_version": "1.2.0",
            "bar_color": null,
            "_model_module": "@jupyter-widgets/controls"
          }
        },
        "91895e0727864833a00050f7590a892f": {
          "model_module": "@jupyter-widgets/base",
          "model_name": "LayoutModel",
          "model_module_version": "1.2.0",
          "state": {
            "_view_name": "LayoutView",
            "grid_template_rows": null,
            "right": null,
            "justify_content": null,
            "_view_module": "@jupyter-widgets/base",
            "overflow": null,
            "_model_module_version": "1.2.0",
            "_view_count": null,
            "flex_flow": null,
            "width": null,
            "min_width": null,
            "border": null,
            "align_items": null,
            "bottom": null,
            "_model_module": "@jupyter-widgets/base",
            "top": null,
            "grid_column": null,
            "overflow_y": null,
            "overflow_x": null,
            "grid_auto_flow": null,
            "grid_area": null,
            "grid_template_columns": null,
            "flex": null,
            "_model_name": "LayoutModel",
            "justify_items": null,
            "grid_row": null,
            "max_height": null,
            "align_content": null,
            "visibility": null,
            "align_self": null,
            "height": null,
            "min_height": null,
            "padding": null,
            "grid_auto_rows": null,
            "grid_gap": null,
            "max_width": null,
            "order": null,
            "_view_module_version": "1.2.0",
            "grid_template_areas": null,
            "object_position": null,
            "object_fit": null,
            "grid_auto_columns": null,
            "margin": null,
            "display": null,
            "left": null
          }
        },
        "e3499f635c5346ecb15066543b1da61f": {
          "model_module": "@jupyter-widgets/controls",
          "model_name": "DescriptionStyleModel",
          "model_module_version": "1.5.0",
          "state": {
            "_view_name": "StyleView",
            "_model_name": "DescriptionStyleModel",
            "description_width": "",
            "_view_module": "@jupyter-widgets/base",
            "_model_module_version": "1.5.0",
            "_view_count": null,
            "_view_module_version": "1.2.0",
            "_model_module": "@jupyter-widgets/controls"
          }
        },
        "ce158d30ced44a0e8aa2c0624b78e0f4": {
          "model_module": "@jupyter-widgets/base",
          "model_name": "LayoutModel",
          "model_module_version": "1.2.0",
          "state": {
            "_view_name": "LayoutView",
            "grid_template_rows": null,
            "right": null,
            "justify_content": null,
            "_view_module": "@jupyter-widgets/base",
            "overflow": null,
            "_model_module_version": "1.2.0",
            "_view_count": null,
            "flex_flow": null,
            "width": null,
            "min_width": null,
            "border": null,
            "align_items": null,
            "bottom": null,
            "_model_module": "@jupyter-widgets/base",
            "top": null,
            "grid_column": null,
            "overflow_y": null,
            "overflow_x": null,
            "grid_auto_flow": null,
            "grid_area": null,
            "grid_template_columns": null,
            "flex": null,
            "_model_name": "LayoutModel",
            "justify_items": null,
            "grid_row": null,
            "max_height": null,
            "align_content": null,
            "visibility": null,
            "align_self": null,
            "height": null,
            "min_height": null,
            "padding": null,
            "grid_auto_rows": null,
            "grid_gap": null,
            "max_width": null,
            "order": null,
            "_view_module_version": "1.2.0",
            "grid_template_areas": null,
            "object_position": null,
            "object_fit": null,
            "grid_auto_columns": null,
            "margin": null,
            "display": null,
            "left": null
          }
        }
      }
    }
  },
  "nbformat": 4,
  "nbformat_minor": 0
}